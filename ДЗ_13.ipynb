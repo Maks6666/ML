{
  "nbformat": 4,
  "nbformat_minor": 0,
  "metadata": {
    "colab": {
      "provenance": [],
      "include_colab_link": true
    },
    "kernelspec": {
      "name": "python3",
      "display_name": "Python 3"
    },
    "language_info": {
      "name": "python"
    }
  },
  "cells": [
    {
      "cell_type": "markdown",
      "metadata": {
        "id": "view-in-github",
        "colab_type": "text"
      },
      "source": [
        "<a href=\"https://colab.research.google.com/github/Maks6666/ML/blob/main/%D0%94%D0%97_13.ipynb\" target=\"_parent\"><img src=\"https://colab.research.google.com/assets/colab-badge.svg\" alt=\"Open In Colab\"/></a>"
      ]
    },
    {
      "cell_type": "markdown",
      "source": [
        "Імпорт модулів"
      ],
      "metadata": {
        "id": "w1r0k1UheNCz"
      }
    },
    {
      "cell_type": "code",
      "execution_count": 67,
      "metadata": {
        "id": "4XxgJqCDoExm"
      },
      "outputs": [],
      "source": [
        "import pandas as pd"
      ]
    },
    {
      "cell_type": "code",
      "source": [
        "import torch\n",
        "# device = \"cuda\" if torch.cuda.is_available() else \"cpu\"\n",
        "#torch.set_default_device(device)"
      ],
      "metadata": {
        "id": "x-wsTbxqZsV3"
      },
      "execution_count": 68,
      "outputs": []
    },
    {
      "cell_type": "markdown",
      "source": [
        "Дані про банани"
      ],
      "metadata": {
        "id": "Kpk2KycTeQEE"
      }
    },
    {
      "cell_type": "code",
      "source": [
        "# трохи обробки даних\n",
        "df = pd.read_csv('https://raw.githubusercontent.com/HalyshAnton/IT-Step-Pyton-AI/main/module3/data/banana_quality.csv')\n",
        "\n",
        "df['Quality'] = df['Quality'].map({'Good': 1, 'Bad': 0})\n",
        "\n",
        "columns = df.columns.delete(-1)\n",
        "data = df[columns]\n",
        "df[columns] = (data - data.min()) / (data.max() - data.min())"
      ],
      "metadata": {
        "id": "926S2f5pdnH6"
      },
      "execution_count": 69,
      "outputs": []
    },
    {
      "cell_type": "code",
      "source": [
        "df.head()"
      ],
      "metadata": {
        "colab": {
          "base_uri": "https://localhost:8080/",
          "height": 226
        },
        "id": "eG6_dawddqwd",
        "outputId": "2cfe26c5-08f2-4bed-a780-384eda7daf12"
      },
      "execution_count": 70,
      "outputs": [
        {
          "output_type": "execute_result",
          "data": {
            "text/plain": [
              "       Size    Weight  Sweetness  Softness  HarvestTime  Ripeness   Acidity  \\\n",
              "0  0.380309  0.626747   0.680712  0.360975     0.567312  0.671933  0.543416   \n",
              "1  0.349951  0.628093   0.485275  0.293682     0.481689  0.646850  0.545720   \n",
              "2  0.478460  0.699448   0.572694  0.283811     0.499358  0.716580  0.617337   \n",
              "3  0.446465  0.705394   0.595677  0.374028     0.473461  0.633590  0.556625   \n",
              "4  0.541672  0.687704   0.458841  0.378242     0.442847  0.579430  0.705908   \n",
              "\n",
              "   Quality  \n",
              "0        1  \n",
              "1        1  \n",
              "2        1  \n",
              "3        1  \n",
              "4        1  "
            ],
            "text/html": [
              "\n",
              "  <div id=\"df-312d1ba0-b913-4d17-a5bf-bf60584f9cc0\" class=\"colab-df-container\">\n",
              "    <div>\n",
              "<style scoped>\n",
              "    .dataframe tbody tr th:only-of-type {\n",
              "        vertical-align: middle;\n",
              "    }\n",
              "\n",
              "    .dataframe tbody tr th {\n",
              "        vertical-align: top;\n",
              "    }\n",
              "\n",
              "    .dataframe thead th {\n",
              "        text-align: right;\n",
              "    }\n",
              "</style>\n",
              "<table border=\"1\" class=\"dataframe\">\n",
              "  <thead>\n",
              "    <tr style=\"text-align: right;\">\n",
              "      <th></th>\n",
              "      <th>Size</th>\n",
              "      <th>Weight</th>\n",
              "      <th>Sweetness</th>\n",
              "      <th>Softness</th>\n",
              "      <th>HarvestTime</th>\n",
              "      <th>Ripeness</th>\n",
              "      <th>Acidity</th>\n",
              "      <th>Quality</th>\n",
              "    </tr>\n",
              "  </thead>\n",
              "  <tbody>\n",
              "    <tr>\n",
              "      <th>0</th>\n",
              "      <td>0.380309</td>\n",
              "      <td>0.626747</td>\n",
              "      <td>0.680712</td>\n",
              "      <td>0.360975</td>\n",
              "      <td>0.567312</td>\n",
              "      <td>0.671933</td>\n",
              "      <td>0.543416</td>\n",
              "      <td>1</td>\n",
              "    </tr>\n",
              "    <tr>\n",
              "      <th>1</th>\n",
              "      <td>0.349951</td>\n",
              "      <td>0.628093</td>\n",
              "      <td>0.485275</td>\n",
              "      <td>0.293682</td>\n",
              "      <td>0.481689</td>\n",
              "      <td>0.646850</td>\n",
              "      <td>0.545720</td>\n",
              "      <td>1</td>\n",
              "    </tr>\n",
              "    <tr>\n",
              "      <th>2</th>\n",
              "      <td>0.478460</td>\n",
              "      <td>0.699448</td>\n",
              "      <td>0.572694</td>\n",
              "      <td>0.283811</td>\n",
              "      <td>0.499358</td>\n",
              "      <td>0.716580</td>\n",
              "      <td>0.617337</td>\n",
              "      <td>1</td>\n",
              "    </tr>\n",
              "    <tr>\n",
              "      <th>3</th>\n",
              "      <td>0.446465</td>\n",
              "      <td>0.705394</td>\n",
              "      <td>0.595677</td>\n",
              "      <td>0.374028</td>\n",
              "      <td>0.473461</td>\n",
              "      <td>0.633590</td>\n",
              "      <td>0.556625</td>\n",
              "      <td>1</td>\n",
              "    </tr>\n",
              "    <tr>\n",
              "      <th>4</th>\n",
              "      <td>0.541672</td>\n",
              "      <td>0.687704</td>\n",
              "      <td>0.458841</td>\n",
              "      <td>0.378242</td>\n",
              "      <td>0.442847</td>\n",
              "      <td>0.579430</td>\n",
              "      <td>0.705908</td>\n",
              "      <td>1</td>\n",
              "    </tr>\n",
              "  </tbody>\n",
              "</table>\n",
              "</div>\n",
              "    <div class=\"colab-df-buttons\">\n",
              "\n",
              "  <div class=\"colab-df-container\">\n",
              "    <button class=\"colab-df-convert\" onclick=\"convertToInteractive('df-312d1ba0-b913-4d17-a5bf-bf60584f9cc0')\"\n",
              "            title=\"Convert this dataframe to an interactive table.\"\n",
              "            style=\"display:none;\">\n",
              "\n",
              "  <svg xmlns=\"http://www.w3.org/2000/svg\" height=\"24px\" viewBox=\"0 -960 960 960\">\n",
              "    <path d=\"M120-120v-720h720v720H120Zm60-500h600v-160H180v160Zm220 220h160v-160H400v160Zm0 220h160v-160H400v160ZM180-400h160v-160H180v160Zm440 0h160v-160H620v160ZM180-180h160v-160H180v160Zm440 0h160v-160H620v160Z\"/>\n",
              "  </svg>\n",
              "    </button>\n",
              "\n",
              "  <style>\n",
              "    .colab-df-container {\n",
              "      display:flex;\n",
              "      gap: 12px;\n",
              "    }\n",
              "\n",
              "    .colab-df-convert {\n",
              "      background-color: #E8F0FE;\n",
              "      border: none;\n",
              "      border-radius: 50%;\n",
              "      cursor: pointer;\n",
              "      display: none;\n",
              "      fill: #1967D2;\n",
              "      height: 32px;\n",
              "      padding: 0 0 0 0;\n",
              "      width: 32px;\n",
              "    }\n",
              "\n",
              "    .colab-df-convert:hover {\n",
              "      background-color: #E2EBFA;\n",
              "      box-shadow: 0px 1px 2px rgba(60, 64, 67, 0.3), 0px 1px 3px 1px rgba(60, 64, 67, 0.15);\n",
              "      fill: #174EA6;\n",
              "    }\n",
              "\n",
              "    .colab-df-buttons div {\n",
              "      margin-bottom: 4px;\n",
              "    }\n",
              "\n",
              "    [theme=dark] .colab-df-convert {\n",
              "      background-color: #3B4455;\n",
              "      fill: #D2E3FC;\n",
              "    }\n",
              "\n",
              "    [theme=dark] .colab-df-convert:hover {\n",
              "      background-color: #434B5C;\n",
              "      box-shadow: 0px 1px 3px 1px rgba(0, 0, 0, 0.15);\n",
              "      filter: drop-shadow(0px 1px 2px rgba(0, 0, 0, 0.3));\n",
              "      fill: #FFFFFF;\n",
              "    }\n",
              "  </style>\n",
              "\n",
              "    <script>\n",
              "      const buttonEl =\n",
              "        document.querySelector('#df-312d1ba0-b913-4d17-a5bf-bf60584f9cc0 button.colab-df-convert');\n",
              "      buttonEl.style.display =\n",
              "        google.colab.kernel.accessAllowed ? 'block' : 'none';\n",
              "\n",
              "      async function convertToInteractive(key) {\n",
              "        const element = document.querySelector('#df-312d1ba0-b913-4d17-a5bf-bf60584f9cc0');\n",
              "        const dataTable =\n",
              "          await google.colab.kernel.invokeFunction('convertToInteractive',\n",
              "                                                    [key], {});\n",
              "        if (!dataTable) return;\n",
              "\n",
              "        const docLinkHtml = 'Like what you see? Visit the ' +\n",
              "          '<a target=\"_blank\" href=https://colab.research.google.com/notebooks/data_table.ipynb>data table notebook</a>'\n",
              "          + ' to learn more about interactive tables.';\n",
              "        element.innerHTML = '';\n",
              "        dataTable['output_type'] = 'display_data';\n",
              "        await google.colab.output.renderOutput(dataTable, element);\n",
              "        const docLink = document.createElement('div');\n",
              "        docLink.innerHTML = docLinkHtml;\n",
              "        element.appendChild(docLink);\n",
              "      }\n",
              "    </script>\n",
              "  </div>\n",
              "\n",
              "\n",
              "<div id=\"df-721fd852-c46b-484a-a6b4-cff0bef1e24f\">\n",
              "  <button class=\"colab-df-quickchart\" onclick=\"quickchart('df-721fd852-c46b-484a-a6b4-cff0bef1e24f')\"\n",
              "            title=\"Suggest charts\"\n",
              "            style=\"display:none;\">\n",
              "\n",
              "<svg xmlns=\"http://www.w3.org/2000/svg\" height=\"24px\"viewBox=\"0 0 24 24\"\n",
              "     width=\"24px\">\n",
              "    <g>\n",
              "        <path d=\"M19 3H5c-1.1 0-2 .9-2 2v14c0 1.1.9 2 2 2h14c1.1 0 2-.9 2-2V5c0-1.1-.9-2-2-2zM9 17H7v-7h2v7zm4 0h-2V7h2v10zm4 0h-2v-4h2v4z\"/>\n",
              "    </g>\n",
              "</svg>\n",
              "  </button>\n",
              "\n",
              "<style>\n",
              "  .colab-df-quickchart {\n",
              "      --bg-color: #E8F0FE;\n",
              "      --fill-color: #1967D2;\n",
              "      --hover-bg-color: #E2EBFA;\n",
              "      --hover-fill-color: #174EA6;\n",
              "      --disabled-fill-color: #AAA;\n",
              "      --disabled-bg-color: #DDD;\n",
              "  }\n",
              "\n",
              "  [theme=dark] .colab-df-quickchart {\n",
              "      --bg-color: #3B4455;\n",
              "      --fill-color: #D2E3FC;\n",
              "      --hover-bg-color: #434B5C;\n",
              "      --hover-fill-color: #FFFFFF;\n",
              "      --disabled-bg-color: #3B4455;\n",
              "      --disabled-fill-color: #666;\n",
              "  }\n",
              "\n",
              "  .colab-df-quickchart {\n",
              "    background-color: var(--bg-color);\n",
              "    border: none;\n",
              "    border-radius: 50%;\n",
              "    cursor: pointer;\n",
              "    display: none;\n",
              "    fill: var(--fill-color);\n",
              "    height: 32px;\n",
              "    padding: 0;\n",
              "    width: 32px;\n",
              "  }\n",
              "\n",
              "  .colab-df-quickchart:hover {\n",
              "    background-color: var(--hover-bg-color);\n",
              "    box-shadow: 0 1px 2px rgba(60, 64, 67, 0.3), 0 1px 3px 1px rgba(60, 64, 67, 0.15);\n",
              "    fill: var(--button-hover-fill-color);\n",
              "  }\n",
              "\n",
              "  .colab-df-quickchart-complete:disabled,\n",
              "  .colab-df-quickchart-complete:disabled:hover {\n",
              "    background-color: var(--disabled-bg-color);\n",
              "    fill: var(--disabled-fill-color);\n",
              "    box-shadow: none;\n",
              "  }\n",
              "\n",
              "  .colab-df-spinner {\n",
              "    border: 2px solid var(--fill-color);\n",
              "    border-color: transparent;\n",
              "    border-bottom-color: var(--fill-color);\n",
              "    animation:\n",
              "      spin 1s steps(1) infinite;\n",
              "  }\n",
              "\n",
              "  @keyframes spin {\n",
              "    0% {\n",
              "      border-color: transparent;\n",
              "      border-bottom-color: var(--fill-color);\n",
              "      border-left-color: var(--fill-color);\n",
              "    }\n",
              "    20% {\n",
              "      border-color: transparent;\n",
              "      border-left-color: var(--fill-color);\n",
              "      border-top-color: var(--fill-color);\n",
              "    }\n",
              "    30% {\n",
              "      border-color: transparent;\n",
              "      border-left-color: var(--fill-color);\n",
              "      border-top-color: var(--fill-color);\n",
              "      border-right-color: var(--fill-color);\n",
              "    }\n",
              "    40% {\n",
              "      border-color: transparent;\n",
              "      border-right-color: var(--fill-color);\n",
              "      border-top-color: var(--fill-color);\n",
              "    }\n",
              "    60% {\n",
              "      border-color: transparent;\n",
              "      border-right-color: var(--fill-color);\n",
              "    }\n",
              "    80% {\n",
              "      border-color: transparent;\n",
              "      border-right-color: var(--fill-color);\n",
              "      border-bottom-color: var(--fill-color);\n",
              "    }\n",
              "    90% {\n",
              "      border-color: transparent;\n",
              "      border-bottom-color: var(--fill-color);\n",
              "    }\n",
              "  }\n",
              "</style>\n",
              "\n",
              "  <script>\n",
              "    async function quickchart(key) {\n",
              "      const quickchartButtonEl =\n",
              "        document.querySelector('#' + key + ' button');\n",
              "      quickchartButtonEl.disabled = true;  // To prevent multiple clicks.\n",
              "      quickchartButtonEl.classList.add('colab-df-spinner');\n",
              "      try {\n",
              "        const charts = await google.colab.kernel.invokeFunction(\n",
              "            'suggestCharts', [key], {});\n",
              "      } catch (error) {\n",
              "        console.error('Error during call to suggestCharts:', error);\n",
              "      }\n",
              "      quickchartButtonEl.classList.remove('colab-df-spinner');\n",
              "      quickchartButtonEl.classList.add('colab-df-quickchart-complete');\n",
              "    }\n",
              "    (() => {\n",
              "      let quickchartButtonEl =\n",
              "        document.querySelector('#df-721fd852-c46b-484a-a6b4-cff0bef1e24f button');\n",
              "      quickchartButtonEl.style.display =\n",
              "        google.colab.kernel.accessAllowed ? 'block' : 'none';\n",
              "    })();\n",
              "  </script>\n",
              "</div>\n",
              "\n",
              "    </div>\n",
              "  </div>\n"
            ],
            "application/vnd.google.colaboratory.intrinsic+json": {
              "type": "dataframe",
              "variable_name": "df",
              "summary": "{\n  \"name\": \"df\",\n  \"rows\": 8000,\n  \"fields\": [\n    {\n      \"column\": \"Size\",\n      \"properties\": {\n        \"dtype\": \"number\",\n        \"std\": 0.13376164104570212,\n        \"min\": 0.0,\n        \"max\": 1.0,\n        \"num_unique_values\": 8000,\n        \"samples\": [\n          0.42681145207858734,\n          0.3636982670161966,\n          0.499762917535701\n        ],\n        \"semantic_type\": \"\",\n        \"description\": \"\"\n      }\n    },\n    {\n      \"column\": \"Weight\",\n      \"properties\": {\n        \"dtype\": \"number\",\n        \"std\": 0.14438003531209154,\n        \"min\": 0.0,\n        \"max\": 1.0,\n        \"num_unique_values\": 8000,\n        \"samples\": [\n          0.4841220755822623,\n          0.3920386495614671,\n          0.6782758184058177\n        ],\n        \"semantic_type\": \"\",\n        \"description\": \"\"\n      }\n    },\n    {\n      \"column\": \"Sweetness\",\n      \"properties\": {\n        \"dtype\": \"number\",\n        \"std\": 0.13944033026305225,\n        \"min\": 0.0,\n        \"max\": 1.0,\n        \"num_unique_values\": 8000,\n        \"samples\": [\n          0.36090872114798445,\n          0.36065713591231285,\n          0.8009020355861252\n        ],\n        \"semantic_type\": \"\",\n        \"description\": \"\"\n      }\n    },\n    {\n      \"column\": \"Softness\",\n      \"properties\": {\n        \"dtype\": \"number\",\n        \"std\": 0.13586165261235486,\n        \"min\": 0.0,\n        \"max\": 1.0,\n        \"num_unique_values\": 8000,\n        \"samples\": [\n          0.401850667197794,\n          0.6292820414425365,\n          0.5282198762431736\n        ],\n        \"semantic_type\": \"\",\n        \"description\": \"\"\n      }\n    },\n    {\n      \"column\": \"HarvestTime\",\n      \"properties\": {\n        \"dtype\": \"number\",\n        \"std\": 0.14402504977190056,\n        \"min\": 0.0,\n        \"max\": 1.0,\n        \"num_unique_values\": 8000,\n        \"samples\": [\n          0.5361941697483128,\n          0.5448621509948689,\n          0.3653719803259087\n        ],\n        \"semantic_type\": \"\",\n        \"description\": \"\"\n      }\n    },\n    {\n      \"column\": \"Ripeness\",\n      \"properties\": {\n        \"dtype\": \"number\",\n        \"std\": 0.1441018379032065,\n        \"min\": 0.0,\n        \"max\": 1.0,\n        \"num_unique_values\": 8000,\n        \"samples\": [\n          0.6648203981671774,\n          0.883346239383179,\n          0.4348136864214833\n        ],\n        \"semantic_type\": \"\",\n        \"description\": \"\"\n      }\n    },\n    {\n      \"column\": \"Acidity\",\n      \"properties\": {\n        \"dtype\": \"number\",\n        \"std\": 0.14665411857025115,\n        \"min\": 0.0,\n        \"max\": 1.0,\n        \"num_unique_values\": 8000,\n        \"samples\": [\n          0.40913510826297517,\n          0.21012956362075774,\n          0.6885939962504982\n        ],\n        \"semantic_type\": \"\",\n        \"description\": \"\"\n      }\n    },\n    {\n      \"column\": \"Quality\",\n      \"properties\": {\n        \"dtype\": \"number\",\n        \"std\": 0,\n        \"min\": 0,\n        \"max\": 1,\n        \"num_unique_values\": 2,\n        \"samples\": [\n          0,\n          1\n        ],\n        \"semantic_type\": \"\",\n        \"description\": \"\"\n      }\n    }\n  ]\n}"
            }
          },
          "metadata": {},
          "execution_count": 70
        }
      ]
    },
    {
      "cell_type": "code",
      "source": [
        "from sklearn.model_selection import train_test_split\n",
        "\n",
        "X = df.drop('Quality', axis=\"columns\")\n",
        "y = df[\"Quality\"]\n",
        "\n",
        "X_train, X_test, y_train, y_test = train_test_split(X, y, test_size=0.2, random_state=42)"
      ],
      "metadata": {
        "id": "oVVhSh2yYSWo"
      },
      "execution_count": 71,
      "outputs": []
    },
    {
      "cell_type": "markdown",
      "source": [
        "Потрібно на основі інформації про банан спрогнозувати його якість `Quality`"
      ],
      "metadata": {
        "id": "KAmkR_CFejgQ"
      }
    },
    {
      "cell_type": "markdown",
      "source": [
        "# Завдання 1\n",
        "Створіть клас Dataset для тренувальних та тестових даних"
      ],
      "metadata": {
        "id": "dBt0E5BJe6OK"
      }
    },
    {
      "cell_type": "code",
      "source": [
        "import torch\n",
        "from torch.utils.data import Dataset\n",
        "\n",
        "class MyDataset(Dataset):\n",
        "  def __init__(self, X, y):\n",
        "    self.X = torch.FloatTensor(X.values)\n",
        "    self.y = torch.FloatTensor(y.values)\n",
        "    self.y = self.y.reshape(-1, 1)\n",
        "\n",
        "  def __len__(self):\n",
        "    return len(self.X)\n",
        "\n",
        "  def __getitem__(self, index):\n",
        "    return self.X[index], self.y[index]\n",
        "\n",
        "train_dataset = MyDataset(X_train, y_train)\n",
        "test_dataset = MyDataset(X_test, y_test)"
      ],
      "metadata": {
        "id": "vFtu1Wd1drwJ"
      },
      "execution_count": 72,
      "outputs": []
    },
    {
      "cell_type": "code",
      "source": [
        "train_dataset[0]"
      ],
      "metadata": {
        "id": "Xr1Gs4dpc3IR",
        "outputId": "c86b0570-31b0-4dd5-9228-dad9b8a852d5",
        "colab": {
          "base_uri": "https://localhost:8080/"
        }
      },
      "execution_count": 73,
      "outputs": [
        {
          "output_type": "execute_result",
          "data": {
            "text/plain": [
              "(tensor([0.4368, 0.6901, 0.6155, 0.3530, 0.5191, 0.6285, 0.7567]),\n",
              " tensor([1.]))"
            ]
          },
          "metadata": {},
          "execution_count": 73
        }
      ]
    },
    {
      "cell_type": "code",
      "source": [
        "train_dataset[0][0].device"
      ],
      "metadata": {
        "id": "lSvAwSzoZH6m",
        "outputId": "25d0cad0-8eb4-4669-fbce-d5cddd98c152",
        "colab": {
          "base_uri": "https://localhost:8080/"
        }
      },
      "execution_count": 74,
      "outputs": [
        {
          "output_type": "execute_result",
          "data": {
            "text/plain": [
              "device(type='cpu')"
            ]
          },
          "metadata": {},
          "execution_count": 74
        }
      ]
    },
    {
      "cell_type": "code",
      "source": [
        "test_dataset[0][0].device"
      ],
      "metadata": {
        "id": "vWkwrsuuc06b",
        "outputId": "c26bb7f8-d1d7-404c-ec12-21486f15ee80",
        "colab": {
          "base_uri": "https://localhost:8080/"
        }
      },
      "execution_count": 75,
      "outputs": [
        {
          "output_type": "execute_result",
          "data": {
            "text/plain": [
              "device(type='cpu')"
            ]
          },
          "metadata": {},
          "execution_count": 75
        }
      ]
    },
    {
      "cell_type": "code",
      "source": [
        "len(train_dataset)"
      ],
      "metadata": {
        "id": "0n38kh9HZfLQ",
        "outputId": "aba7a62e-7035-4d1e-aed1-797ff5eccd36",
        "colab": {
          "base_uri": "https://localhost:8080/"
        }
      },
      "execution_count": 76,
      "outputs": [
        {
          "output_type": "execute_result",
          "data": {
            "text/plain": [
              "6400"
            ]
          },
          "metadata": {},
          "execution_count": 76
        }
      ]
    },
    {
      "cell_type": "markdown",
      "source": [
        "# Завдання 2\n",
        "Створіть DataLoader"
      ],
      "metadata": {
        "id": "zQlB_6WzfB8n"
      }
    },
    {
      "cell_type": "code",
      "source": [
        "from torch.utils.data import DataLoader\n",
        "\n",
        "train_dataloader = DataLoader(train_dataset,\n",
        "                        batch_size=256,\n",
        "                        shuffle=True)\n",
        "\n",
        "\n",
        "\n",
        "test_dataloader = DataLoader(test_dataset,\n",
        "                        batch_size=256,\n",
        "                        shuffle=True)"
      ],
      "metadata": {
        "id": "-6-po4H4fZQy"
      },
      "execution_count": 77,
      "outputs": []
    },
    {
      "cell_type": "markdown",
      "source": [
        "# Завдання 3\n",
        "Створіть нейромережу"
      ],
      "metadata": {
        "id": "2W93LiDxfZrx"
      }
    },
    {
      "cell_type": "code",
      "source": [
        "from torch import nn\n",
        "import torch.nn.functional as F\n",
        "\n",
        "\n",
        "class Model(nn.Module):\n",
        "  def __init__(self, input_layer, hidden_layer, output_layer):\n",
        "    super().__init__()\n",
        "\n",
        "    self.linear_1 = nn.Linear(input_layer, hidden_layer)\n",
        "    self.linear_2 = nn.Linear(hidden_layer, hidden_layer-6)\n",
        "    self.linear_3 = nn.Linear(hidden_layer-6, hidden_layer-10)\n",
        "    self.linear_4 = nn.Linear(hidden_layer-10, hidden_layer-14)\n",
        "    self.linear_5 = nn.Linear(hidden_layer-14, output_layer)\n",
        "\n",
        "\n",
        "  def forward(self, x):\n",
        "    out = self.linear_1(x)\n",
        "    out = F.relu(out)\n",
        "    out = self.linear_2(out)\n",
        "    out = F.relu(out)\n",
        "    out = self.linear_3(out)\n",
        "    out = F.relu(out)\n",
        "    out = self.linear_4(out)\n",
        "    out = F.relu(out)\n",
        "    out = self.linear_5(out)\n",
        "    out = F.sigmoid(out)\n",
        "    return out\n",
        "\n",
        "\n",
        "  def predict(self, X, device='cpu'):\n",
        "      X = torch.FloatTensor(np.array(X)).to(device)\n",
        "\n",
        "      with torch.no_grad():\n",
        "        y_pred = self.forward(X)\n",
        "\n",
        "      return y_pred.cpu().numpy()\n",
        "\n",
        "\n",
        "model = Model(7, 20, 1)\n",
        "model"
      ],
      "metadata": {
        "id": "p9DHog7Xf7xE",
        "outputId": "105f9ba8-6d6d-43a0-e246-ee54e6bb18fb",
        "colab": {
          "base_uri": "https://localhost:8080/"
        }
      },
      "execution_count": 78,
      "outputs": [
        {
          "output_type": "execute_result",
          "data": {
            "text/plain": [
              "Model(\n",
              "  (linear_1): Linear(in_features=7, out_features=20, bias=True)\n",
              "  (linear_2): Linear(in_features=20, out_features=14, bias=True)\n",
              "  (linear_3): Linear(in_features=14, out_features=10, bias=True)\n",
              "  (linear_4): Linear(in_features=10, out_features=6, bias=True)\n",
              "  (linear_5): Linear(in_features=6, out_features=1, bias=True)\n",
              ")"
            ]
          },
          "metadata": {},
          "execution_count": 78
        }
      ]
    },
    {
      "cell_type": "code",
      "source": [
        "X_train.shape"
      ],
      "metadata": {
        "id": "qX3j6L5yeAcV",
        "outputId": "e27a6712-e9cb-4b76-b5b2-4fa4cd413b63",
        "colab": {
          "base_uri": "https://localhost:8080/"
        }
      },
      "execution_count": 79,
      "outputs": [
        {
          "output_type": "execute_result",
          "data": {
            "text/plain": [
              "(6400, 7)"
            ]
          },
          "metadata": {},
          "execution_count": 79
        }
      ]
    },
    {
      "cell_type": "markdown",
      "source": [
        "# Завдання 4\n",
        "Визначте функцію втрат та оптимізатор"
      ],
      "metadata": {
        "id": "VmNUVkkUf8gB"
      }
    },
    {
      "cell_type": "code",
      "source": [
        "loss_func = nn.BCELoss()\n",
        "optimizer = torch.optim.Adam(model.parameters(), lr=1e-3)"
      ],
      "metadata": {
        "id": "e1sw9oRBgDXR"
      },
      "execution_count": 80,
      "outputs": []
    },
    {
      "cell_type": "markdown",
      "source": [],
      "metadata": {
        "id": "LJmnTZH4MGN4"
      }
    },
    {
      "cell_type": "markdown",
      "source": [
        "# Завдання 5\n",
        "Натренуйте нейромережу. Візміть невелику кількість епох"
      ],
      "metadata": {
        "id": "qTOFCl_egEFZ"
      }
    },
    {
      "cell_type": "code",
      "source": [
        "import time\n",
        "\n",
        "def train(model, optimizer, loss_fn, train_dl, val_dl,\n",
        "          metrics=None, metrics_name=None, epochs=20, device=\"cpu\", task='binary'):\n",
        "\n",
        "\n",
        "    print('train() called: model=%s, opt=%s(lr=%f), epochs=%d, device=%s\\n' % \\\n",
        "          (type(model).__name__, type(optimizer).__name__,\n",
        "           optimizer.param_groups[0]['lr'], epochs, device))\n",
        "\n",
        "    metrics = metrics if metrics else []\n",
        "    metrics_name = metrics_name if metrics_name else [metric.__name__ for metric in metrics]\n",
        "\n",
        "    history = {} # Collects per-epoch loss and metrics like Keras' fit().\n",
        "    history['loss'] = []\n",
        "    history['val_loss'] = []\n",
        "    for name in metrics_name:\n",
        "        history[name] = []\n",
        "        history[f'val_{name}'] = []\n",
        "\n",
        "    # model.to(device)\n",
        "\n",
        "    start_time_train = time.time()\n",
        "\n",
        "    for epoch in range(epochs):\n",
        "\n",
        "        # --- TRAIN AND EVALUATE ON TRAINING SET -----------------------------\n",
        "        start_time_epoch = time.time()\n",
        "\n",
        "        model.train()\n",
        "        history_train = {name: 0 for name in ['loss']+metrics_name}\n",
        "\n",
        "        for batch in train_dl:\n",
        "            x    = batch[0].to(device)\n",
        "            y    = batch[1].to(device)\n",
        "            y_pred = model(x)\n",
        "            loss = loss_fn(y_pred, y)\n",
        "\n",
        "            optimizer.zero_grad()\n",
        "            loss.backward()\n",
        "            optimizer.step()\n",
        "\n",
        "            y_pred = y_pred.detach().cpu().numpy()\n",
        "            y = y.detach().cpu().numpy()\n",
        "\n",
        "\n",
        "            history_train['loss'] += loss.item() * x.size(0)\n",
        "            for name, func in zip(metrics_name, metrics):\n",
        "              try:\n",
        "                  history_train[name] += func(y, y_pred) * x.size(0)\n",
        "              except:\n",
        "                  if task == 'binary': y_pred_ = y_pred.round()\n",
        "                  elif task == 'multiclass': y_pred_ = y_pred.argmax(axis=-1)\n",
        "                  history_train[name] += func(y, y_pred_) * x.size(0)\n",
        "\n",
        "        for name in history_train:\n",
        "            history_train[name] /= len(train_dl.dataset)\n",
        "\n",
        "\n",
        "        # --- EVALUATE ON VALIDATION SET -------------------------------------\n",
        "        model.eval()\n",
        "        history_val = {'val_' + name: 0 for name in metrics_name+['loss']}\n",
        "\n",
        "        with torch.no_grad():\n",
        "            for batch in val_dl:\n",
        "                x    = batch[0].to(device)\n",
        "                y    = batch[1].to(device)\n",
        "                y_pred = model(x)\n",
        "                loss = loss_fn(y_pred, y)\n",
        "\n",
        "                y_pred = y_pred.cpu().numpy()\n",
        "                y = y.cpu().numpy()\n",
        "\n",
        "                history_val['val_loss'] += loss.item() * x.size(0)\n",
        "                for name, func in zip(metrics_name, metrics):\n",
        "                    try:\n",
        "                        history_val['val_'+name] += func(y, y_pred) * x.size(0)\n",
        "                    except:\n",
        "                        if task == 'binary': y_pred_ = y_pred.round()\n",
        "                        elif task == 'multiclass': y_pred_ = y_pred.argmax(axis=-1)\n",
        "\n",
        "                        history_val['val_'+name] += func(y, y_pred_) * x.size(0)\n",
        "\n",
        "        for name in history_val:\n",
        "            history_val[name] /= len(val_dl.dataset)\n",
        "\n",
        "        # PRINTING RESULTS\n",
        "\n",
        "        end_time_epoch = time.time()\n",
        "\n",
        "        for name in history_train:\n",
        "            history[name].append(history_train[name])\n",
        "            history['val_'+name].append(history_val['val_'+name])\n",
        "\n",
        "        total_time_epoch = end_time_epoch - start_time_epoch\n",
        "\n",
        "        print(f'Epoch {epoch+1:4d} {total_time_epoch:4.0f}sec', end='\\t')\n",
        "        for name in history_train:\n",
        "            print(f'{name}: {history[name][-1]:10.3g}', end='\\t')\n",
        "            print(f\"val_{name}: {history['val_'+name][-1]:10.3g}\", end='\\t')\n",
        "        print()\n",
        "\n",
        "    # END OF TRAINING LOOP\n",
        "\n",
        "    end_time_train       = time.time()\n",
        "    total_time_train     = end_time_train - start_time_train\n",
        "    print()\n",
        "    print('Time total:     %5.2f sec' % (total_time_train))\n",
        "\n",
        "    return history"
      ],
      "metadata": {
        "id": "Nxo4p3IUgOx5"
      },
      "execution_count": 81,
      "outputs": []
    },
    {
      "cell_type": "markdown",
      "source": [
        "# Завдання 6\n",
        "Збережіть нейромережу та зробіть прогноз"
      ],
      "metadata": {
        "id": "aoclw4XlgPhB"
      }
    },
    {
      "cell_type": "code",
      "source": [
        "from sklearn.metrics import accuracy_score, roc_auc_score\n",
        "\n",
        "history = train(model, optimizer, loss_func, train_dataloader, test_dataloader,\n",
        "                epochs=120,\n",
        "                metrics=[accuracy_score, roc_auc_score],\n",
        "                device=\"cpu\",\n",
        "                task='binary')"
      ],
      "metadata": {
        "id": "WKSHzhtHiY4U",
        "outputId": "260d8a02-11d0-48ba-ec61-ac4f9af56659",
        "colab": {
          "base_uri": "https://localhost:8080/"
        }
      },
      "execution_count": 84,
      "outputs": [
        {
          "output_type": "stream",
          "name": "stdout",
          "text": [
            "train() called: model=Model, opt=Adam(lr=0.001000), epochs=120, device=cpu\n",
            "\n",
            "Epoch    1    0sec\tloss:      0.188\tval_loss:      0.181\taccuracy_score:       0.93\tval_accuracy_score:      0.934\troc_auc_score:      0.979\tval_roc_auc_score:       0.98\t\n",
            "Epoch    2    0sec\tloss:      0.186\tval_loss:      0.179\taccuracy_score:      0.929\tval_accuracy_score:      0.936\troc_auc_score:       0.98\tval_roc_auc_score:      0.981\t\n",
            "Epoch    3    0sec\tloss:      0.179\tval_loss:      0.176\taccuracy_score:      0.933\tval_accuracy_score:      0.938\troc_auc_score:       0.98\tval_roc_auc_score:      0.981\t\n",
            "Epoch    4    0sec\tloss:      0.176\tval_loss:      0.173\taccuracy_score:      0.932\tval_accuracy_score:      0.939\troc_auc_score:      0.981\tval_roc_auc_score:      0.981\t\n",
            "Epoch    5    0sec\tloss:      0.174\tval_loss:      0.167\taccuracy_score:      0.935\tval_accuracy_score:      0.943\troc_auc_score:      0.981\tval_roc_auc_score:      0.982\t\n",
            "Epoch    6    0sec\tloss:       0.17\tval_loss:      0.165\taccuracy_score:      0.934\tval_accuracy_score:      0.944\troc_auc_score:      0.981\tval_roc_auc_score:      0.984\t\n",
            "Epoch    7    0sec\tloss:      0.166\tval_loss:      0.162\taccuracy_score:      0.937\tval_accuracy_score:      0.947\troc_auc_score:      0.983\tval_roc_auc_score:      0.983\t\n",
            "Epoch    8    0sec\tloss:      0.164\tval_loss:      0.161\taccuracy_score:      0.937\tval_accuracy_score:      0.943\troc_auc_score:      0.983\tval_roc_auc_score:      0.983\t\n",
            "Epoch    9    0sec\tloss:      0.163\tval_loss:      0.159\taccuracy_score:       0.94\tval_accuracy_score:      0.944\troc_auc_score:      0.983\tval_roc_auc_score:      0.984\t\n",
            "Epoch   10    0sec\tloss:      0.162\tval_loss:      0.161\taccuracy_score:      0.942\tval_accuracy_score:      0.943\troc_auc_score:      0.983\tval_roc_auc_score:      0.985\t\n",
            "Epoch   11    0sec\tloss:      0.159\tval_loss:      0.154\taccuracy_score:      0.942\tval_accuracy_score:      0.949\troc_auc_score:      0.984\tval_roc_auc_score:      0.985\t\n",
            "Epoch   12    0sec\tloss:      0.156\tval_loss:      0.151\taccuracy_score:      0.944\tval_accuracy_score:       0.95\troc_auc_score:      0.984\tval_roc_auc_score:      0.985\t\n",
            "Epoch   13    0sec\tloss:      0.153\tval_loss:      0.151\taccuracy_score:      0.946\tval_accuracy_score:      0.951\troc_auc_score:      0.984\tval_roc_auc_score:      0.986\t\n",
            "Epoch   14    0sec\tloss:      0.151\tval_loss:      0.149\taccuracy_score:      0.946\tval_accuracy_score:      0.951\troc_auc_score:      0.984\tval_roc_auc_score:      0.986\t\n",
            "Epoch   15    0sec\tloss:       0.15\tval_loss:      0.146\taccuracy_score:      0.947\tval_accuracy_score:      0.954\troc_auc_score:      0.985\tval_roc_auc_score:      0.987\t\n",
            "Epoch   16    0sec\tloss:      0.148\tval_loss:      0.146\taccuracy_score:      0.948\tval_accuracy_score:      0.952\troc_auc_score:      0.985\tval_roc_auc_score:      0.986\t\n",
            "Epoch   17    0sec\tloss:      0.148\tval_loss:      0.149\taccuracy_score:      0.947\tval_accuracy_score:      0.949\troc_auc_score:      0.986\tval_roc_auc_score:      0.987\t\n",
            "Epoch   18    0sec\tloss:      0.147\tval_loss:      0.142\taccuracy_score:      0.948\tval_accuracy_score:      0.956\troc_auc_score:      0.985\tval_roc_auc_score:      0.987\t\n",
            "Epoch   19    0sec\tloss:      0.143\tval_loss:      0.142\taccuracy_score:      0.951\tval_accuracy_score:      0.955\troc_auc_score:      0.986\tval_roc_auc_score:      0.987\t\n",
            "Epoch   20    0sec\tloss:      0.143\tval_loss:      0.142\taccuracy_score:      0.951\tval_accuracy_score:      0.952\troc_auc_score:      0.986\tval_roc_auc_score:      0.988\t\n",
            "Epoch   21    0sec\tloss:      0.144\tval_loss:       0.14\taccuracy_score:      0.952\tval_accuracy_score:      0.953\troc_auc_score:      0.986\tval_roc_auc_score:      0.988\t\n",
            "Epoch   22    0sec\tloss:       0.14\tval_loss:      0.144\taccuracy_score:      0.953\tval_accuracy_score:      0.951\troc_auc_score:      0.986\tval_roc_auc_score:      0.988\t\n",
            "Epoch   23    0sec\tloss:      0.141\tval_loss:       0.14\taccuracy_score:       0.95\tval_accuracy_score:      0.951\troc_auc_score:      0.986\tval_roc_auc_score:      0.988\t\n",
            "Epoch   24    0sec\tloss:      0.141\tval_loss:      0.141\taccuracy_score:      0.952\tval_accuracy_score:      0.952\troc_auc_score:      0.986\tval_roc_auc_score:      0.988\t\n",
            "Epoch   25    0sec\tloss:      0.138\tval_loss:      0.135\taccuracy_score:      0.954\tval_accuracy_score:      0.954\troc_auc_score:      0.986\tval_roc_auc_score:      0.988\t\n",
            "Epoch   26    0sec\tloss:      0.137\tval_loss:      0.135\taccuracy_score:      0.953\tval_accuracy_score:      0.955\troc_auc_score:      0.987\tval_roc_auc_score:      0.988\t\n",
            "Epoch   27    0sec\tloss:      0.136\tval_loss:      0.133\taccuracy_score:      0.955\tval_accuracy_score:      0.955\troc_auc_score:      0.987\tval_roc_auc_score:      0.988\t\n",
            "Epoch   28    0sec\tloss:      0.135\tval_loss:      0.133\taccuracy_score:      0.955\tval_accuracy_score:      0.952\troc_auc_score:      0.987\tval_roc_auc_score:      0.988\t\n",
            "Epoch   29    0sec\tloss:      0.136\tval_loss:      0.132\taccuracy_score:      0.953\tval_accuracy_score:      0.954\troc_auc_score:      0.987\tval_roc_auc_score:      0.988\t\n",
            "Epoch   30    0sec\tloss:      0.133\tval_loss:      0.132\taccuracy_score:      0.955\tval_accuracy_score:      0.957\troc_auc_score:      0.987\tval_roc_auc_score:      0.988\t\n",
            "Epoch   31    0sec\tloss:      0.133\tval_loss:      0.134\taccuracy_score:      0.954\tval_accuracy_score:      0.953\troc_auc_score:      0.987\tval_roc_auc_score:      0.989\t\n",
            "Epoch   32    0sec\tloss:      0.134\tval_loss:      0.142\taccuracy_score:      0.954\tval_accuracy_score:       0.95\troc_auc_score:      0.987\tval_roc_auc_score:      0.988\t\n",
            "Epoch   33    0sec\tloss:      0.133\tval_loss:      0.134\taccuracy_score:      0.954\tval_accuracy_score:      0.954\troc_auc_score:      0.988\tval_roc_auc_score:      0.989\t\n",
            "Epoch   34    0sec\tloss:       0.13\tval_loss:       0.13\taccuracy_score:      0.957\tval_accuracy_score:      0.958\troc_auc_score:      0.988\tval_roc_auc_score:      0.989\t\n",
            "Epoch   35    0sec\tloss:      0.131\tval_loss:      0.137\taccuracy_score:      0.956\tval_accuracy_score:      0.953\troc_auc_score:      0.988\tval_roc_auc_score:      0.989\t\n",
            "Epoch   36    0sec\tloss:       0.13\tval_loss:      0.127\taccuracy_score:      0.958\tval_accuracy_score:      0.955\troc_auc_score:      0.988\tval_roc_auc_score:      0.989\t\n",
            "Epoch   37    0sec\tloss:      0.129\tval_loss:      0.128\taccuracy_score:      0.957\tval_accuracy_score:      0.958\troc_auc_score:      0.988\tval_roc_auc_score:      0.989\t\n",
            "Epoch   38    0sec\tloss:      0.131\tval_loss:      0.126\taccuracy_score:      0.956\tval_accuracy_score:      0.955\troc_auc_score:      0.988\tval_roc_auc_score:      0.989\t\n",
            "Epoch   39    0sec\tloss:      0.129\tval_loss:      0.127\taccuracy_score:      0.957\tval_accuracy_score:      0.956\troc_auc_score:      0.988\tval_roc_auc_score:       0.99\t\n",
            "Epoch   40    0sec\tloss:      0.129\tval_loss:      0.128\taccuracy_score:      0.957\tval_accuracy_score:      0.958\troc_auc_score:      0.988\tval_roc_auc_score:       0.99\t\n",
            "Epoch   41    0sec\tloss:      0.127\tval_loss:      0.126\taccuracy_score:      0.957\tval_accuracy_score:      0.956\troc_auc_score:      0.988\tval_roc_auc_score:       0.99\t\n",
            "Epoch   42    0sec\tloss:      0.126\tval_loss:      0.125\taccuracy_score:      0.957\tval_accuracy_score:      0.956\troc_auc_score:      0.988\tval_roc_auc_score:       0.99\t\n",
            "Epoch   43    0sec\tloss:      0.126\tval_loss:      0.124\taccuracy_score:      0.957\tval_accuracy_score:      0.958\troc_auc_score:      0.988\tval_roc_auc_score:      0.989\t\n",
            "Epoch   44    0sec\tloss:      0.125\tval_loss:      0.127\taccuracy_score:      0.959\tval_accuracy_score:      0.958\troc_auc_score:      0.988\tval_roc_auc_score:       0.99\t\n",
            "Epoch   45    0sec\tloss:      0.126\tval_loss:      0.124\taccuracy_score:      0.958\tval_accuracy_score:      0.956\troc_auc_score:      0.988\tval_roc_auc_score:       0.99\t\n",
            "Epoch   46    0sec\tloss:      0.126\tval_loss:      0.127\taccuracy_score:      0.956\tval_accuracy_score:      0.958\troc_auc_score:      0.989\tval_roc_auc_score:       0.99\t\n",
            "Epoch   47    0sec\tloss:      0.125\tval_loss:      0.124\taccuracy_score:      0.958\tval_accuracy_score:      0.956\troc_auc_score:      0.988\tval_roc_auc_score:       0.99\t\n",
            "Epoch   48    0sec\tloss:      0.123\tval_loss:      0.126\taccuracy_score:      0.959\tval_accuracy_score:      0.954\troc_auc_score:      0.989\tval_roc_auc_score:       0.99\t\n",
            "Epoch   49    0sec\tloss:      0.125\tval_loss:      0.122\taccuracy_score:      0.959\tval_accuracy_score:      0.958\troc_auc_score:      0.989\tval_roc_auc_score:       0.99\t\n",
            "Epoch   50    0sec\tloss:      0.124\tval_loss:      0.124\taccuracy_score:      0.958\tval_accuracy_score:      0.956\troc_auc_score:      0.989\tval_roc_auc_score:       0.99\t\n",
            "Epoch   51    0sec\tloss:      0.122\tval_loss:      0.121\taccuracy_score:      0.959\tval_accuracy_score:      0.957\troc_auc_score:      0.988\tval_roc_auc_score:       0.99\t\n",
            "Epoch   52    0sec\tloss:      0.122\tval_loss:      0.125\taccuracy_score:       0.96\tval_accuracy_score:      0.956\troc_auc_score:      0.989\tval_roc_auc_score:       0.99\t\n",
            "Epoch   53    0sec\tloss:      0.123\tval_loss:      0.123\taccuracy_score:      0.958\tval_accuracy_score:      0.959\troc_auc_score:      0.989\tval_roc_auc_score:       0.99\t\n",
            "Epoch   54    0sec\tloss:      0.124\tval_loss:      0.126\taccuracy_score:      0.958\tval_accuracy_score:      0.959\troc_auc_score:      0.989\tval_roc_auc_score:       0.99\t\n",
            "Epoch   55    0sec\tloss:      0.129\tval_loss:      0.136\taccuracy_score:      0.957\tval_accuracy_score:      0.955\troc_auc_score:      0.989\tval_roc_auc_score:       0.99\t\n",
            "Epoch   56    0sec\tloss:      0.125\tval_loss:       0.12\taccuracy_score:      0.958\tval_accuracy_score:      0.958\troc_auc_score:      0.989\tval_roc_auc_score:       0.99\t\n",
            "Epoch   57    0sec\tloss:      0.122\tval_loss:       0.12\taccuracy_score:       0.96\tval_accuracy_score:      0.958\troc_auc_score:      0.989\tval_roc_auc_score:       0.99\t\n",
            "Epoch   58    0sec\tloss:      0.123\tval_loss:      0.119\taccuracy_score:       0.96\tval_accuracy_score:      0.957\troc_auc_score:      0.989\tval_roc_auc_score:       0.99\t\n",
            "Epoch   59    0sec\tloss:      0.121\tval_loss:      0.121\taccuracy_score:      0.961\tval_accuracy_score:      0.957\troc_auc_score:      0.989\tval_roc_auc_score:       0.99\t\n",
            "Epoch   60    0sec\tloss:      0.121\tval_loss:      0.119\taccuracy_score:      0.961\tval_accuracy_score:      0.957\troc_auc_score:      0.989\tval_roc_auc_score:      0.991\t\n",
            "Epoch   61    0sec\tloss:      0.119\tval_loss:      0.122\taccuracy_score:      0.961\tval_accuracy_score:      0.958\troc_auc_score:      0.989\tval_roc_auc_score:       0.99\t\n",
            "Epoch   62    1sec\tloss:      0.121\tval_loss:      0.124\taccuracy_score:       0.96\tval_accuracy_score:      0.959\troc_auc_score:      0.989\tval_roc_auc_score:      0.991\t\n",
            "Epoch   63    0sec\tloss:      0.121\tval_loss:      0.118\taccuracy_score:       0.96\tval_accuracy_score:      0.959\troc_auc_score:      0.989\tval_roc_auc_score:      0.991\t\n",
            "Epoch   64    0sec\tloss:      0.119\tval_loss:      0.123\taccuracy_score:      0.961\tval_accuracy_score:      0.958\troc_auc_score:      0.989\tval_roc_auc_score:      0.991\t\n",
            "Epoch   65    0sec\tloss:      0.122\tval_loss:       0.12\taccuracy_score:       0.96\tval_accuracy_score:      0.959\troc_auc_score:      0.989\tval_roc_auc_score:       0.99\t\n",
            "Epoch   66    0sec\tloss:      0.119\tval_loss:      0.118\taccuracy_score:       0.96\tval_accuracy_score:      0.957\troc_auc_score:      0.989\tval_roc_auc_score:      0.991\t\n",
            "Epoch   67    0sec\tloss:      0.118\tval_loss:      0.126\taccuracy_score:      0.961\tval_accuracy_score:      0.959\troc_auc_score:      0.989\tval_roc_auc_score:      0.991\t\n",
            "Epoch   68    0sec\tloss:      0.122\tval_loss:       0.12\taccuracy_score:      0.959\tval_accuracy_score:      0.959\troc_auc_score:      0.989\tval_roc_auc_score:      0.991\t\n",
            "Epoch   69    0sec\tloss:      0.122\tval_loss:      0.121\taccuracy_score:       0.96\tval_accuracy_score:      0.957\troc_auc_score:      0.989\tval_roc_auc_score:      0.991\t\n",
            "Epoch   70    0sec\tloss:       0.12\tval_loss:      0.118\taccuracy_score:       0.96\tval_accuracy_score:      0.961\troc_auc_score:      0.989\tval_roc_auc_score:      0.991\t\n",
            "Epoch   71    0sec\tloss:      0.118\tval_loss:      0.121\taccuracy_score:      0.961\tval_accuracy_score:      0.958\troc_auc_score:      0.989\tval_roc_auc_score:      0.991\t\n",
            "Epoch   72    0sec\tloss:      0.121\tval_loss:      0.118\taccuracy_score:       0.96\tval_accuracy_score:      0.959\troc_auc_score:       0.99\tval_roc_auc_score:      0.991\t\n",
            "Epoch   73    0sec\tloss:       0.12\tval_loss:       0.12\taccuracy_score:      0.959\tval_accuracy_score:      0.958\troc_auc_score:      0.989\tval_roc_auc_score:      0.991\t\n",
            "Epoch   74    0sec\tloss:      0.118\tval_loss:       0.12\taccuracy_score:       0.96\tval_accuracy_score:      0.959\troc_auc_score:      0.989\tval_roc_auc_score:      0.991\t\n",
            "Epoch   75    0sec\tloss:      0.119\tval_loss:      0.118\taccuracy_score:       0.96\tval_accuracy_score:      0.961\troc_auc_score:       0.99\tval_roc_auc_score:      0.991\t\n",
            "Epoch   76    0sec\tloss:      0.118\tval_loss:      0.117\taccuracy_score:      0.962\tval_accuracy_score:      0.958\troc_auc_score:      0.989\tval_roc_auc_score:      0.991\t\n",
            "Epoch   77    0sec\tloss:      0.117\tval_loss:      0.117\taccuracy_score:      0.962\tval_accuracy_score:      0.957\troc_auc_score:      0.989\tval_roc_auc_score:      0.991\t\n",
            "Epoch   78    0sec\tloss:      0.118\tval_loss:      0.118\taccuracy_score:       0.96\tval_accuracy_score:      0.958\troc_auc_score:       0.99\tval_roc_auc_score:      0.991\t\n",
            "Epoch   79    0sec\tloss:      0.118\tval_loss:      0.117\taccuracy_score:      0.961\tval_accuracy_score:      0.957\troc_auc_score:       0.99\tval_roc_auc_score:      0.991\t\n",
            "Epoch   80    0sec\tloss:      0.118\tval_loss:      0.116\taccuracy_score:       0.96\tval_accuracy_score:       0.96\troc_auc_score:      0.989\tval_roc_auc_score:      0.991\t\n",
            "Epoch   81    0sec\tloss:      0.121\tval_loss:      0.119\taccuracy_score:      0.959\tval_accuracy_score:      0.961\troc_auc_score:      0.989\tval_roc_auc_score:      0.991\t\n",
            "Epoch   82    0sec\tloss:      0.117\tval_loss:      0.115\taccuracy_score:      0.962\tval_accuracy_score:      0.958\troc_auc_score:       0.99\tval_roc_auc_score:      0.992\t\n",
            "Epoch   83    0sec\tloss:      0.115\tval_loss:      0.115\taccuracy_score:      0.963\tval_accuracy_score:      0.958\troc_auc_score:       0.99\tval_roc_auc_score:      0.991\t\n",
            "Epoch   84    0sec\tloss:      0.115\tval_loss:      0.116\taccuracy_score:      0.963\tval_accuracy_score:       0.96\troc_auc_score:       0.99\tval_roc_auc_score:      0.991\t\n",
            "Epoch   85    0sec\tloss:      0.116\tval_loss:      0.116\taccuracy_score:      0.962\tval_accuracy_score:      0.959\troc_auc_score:       0.99\tval_roc_auc_score:      0.991\t\n",
            "Epoch   86    0sec\tloss:      0.118\tval_loss:      0.115\taccuracy_score:       0.96\tval_accuracy_score:      0.958\troc_auc_score:      0.989\tval_roc_auc_score:      0.992\t\n",
            "Epoch   87    0sec\tloss:      0.115\tval_loss:      0.116\taccuracy_score:      0.963\tval_accuracy_score:       0.96\troc_auc_score:       0.99\tval_roc_auc_score:      0.991\t\n",
            "Epoch   88    0sec\tloss:      0.121\tval_loss:      0.117\taccuracy_score:      0.957\tval_accuracy_score:      0.958\troc_auc_score:       0.99\tval_roc_auc_score:      0.991\t\n",
            "Epoch   89    0sec\tloss:      0.118\tval_loss:      0.117\taccuracy_score:       0.96\tval_accuracy_score:       0.96\troc_auc_score:       0.99\tval_roc_auc_score:      0.991\t\n",
            "Epoch   90    0sec\tloss:      0.114\tval_loss:      0.115\taccuracy_score:      0.963\tval_accuracy_score:      0.958\troc_auc_score:       0.99\tval_roc_auc_score:      0.991\t\n",
            "Epoch   91    0sec\tloss:      0.114\tval_loss:      0.115\taccuracy_score:      0.964\tval_accuracy_score:      0.959\troc_auc_score:       0.99\tval_roc_auc_score:      0.991\t\n",
            "Epoch   92    0sec\tloss:      0.114\tval_loss:      0.115\taccuracy_score:      0.963\tval_accuracy_score:      0.959\troc_auc_score:       0.99\tval_roc_auc_score:      0.991\t\n",
            "Epoch   93    0sec\tloss:      0.117\tval_loss:      0.117\taccuracy_score:      0.961\tval_accuracy_score:      0.959\troc_auc_score:       0.99\tval_roc_auc_score:      0.991\t\n",
            "Epoch   94    0sec\tloss:      0.119\tval_loss:       0.12\taccuracy_score:       0.96\tval_accuracy_score:      0.959\troc_auc_score:       0.99\tval_roc_auc_score:      0.992\t\n",
            "Epoch   95    0sec\tloss:      0.115\tval_loss:      0.115\taccuracy_score:      0.962\tval_accuracy_score:      0.958\troc_auc_score:       0.99\tval_roc_auc_score:      0.992\t\n",
            "Epoch   96    0sec\tloss:      0.114\tval_loss:      0.114\taccuracy_score:      0.963\tval_accuracy_score:      0.959\troc_auc_score:       0.99\tval_roc_auc_score:      0.992\t\n",
            "Epoch   97    0sec\tloss:      0.115\tval_loss:      0.115\taccuracy_score:      0.961\tval_accuracy_score:      0.959\troc_auc_score:       0.99\tval_roc_auc_score:      0.991\t\n",
            "Epoch   98    0sec\tloss:      0.114\tval_loss:      0.115\taccuracy_score:      0.963\tval_accuracy_score:      0.959\troc_auc_score:       0.99\tval_roc_auc_score:      0.991\t\n",
            "Epoch   99    0sec\tloss:      0.117\tval_loss:      0.115\taccuracy_score:      0.961\tval_accuracy_score:      0.959\troc_auc_score:       0.99\tval_roc_auc_score:      0.991\t\n",
            "Epoch  100    0sec\tloss:      0.114\tval_loss:      0.114\taccuracy_score:      0.963\tval_accuracy_score:      0.959\troc_auc_score:       0.99\tval_roc_auc_score:      0.991\t\n",
            "Epoch  101    0sec\tloss:      0.114\tval_loss:      0.116\taccuracy_score:      0.963\tval_accuracy_score:      0.959\troc_auc_score:       0.99\tval_roc_auc_score:      0.992\t\n",
            "Epoch  102    0sec\tloss:      0.114\tval_loss:      0.114\taccuracy_score:      0.962\tval_accuracy_score:      0.959\troc_auc_score:       0.99\tval_roc_auc_score:      0.992\t\n",
            "Epoch  103    0sec\tloss:      0.113\tval_loss:      0.116\taccuracy_score:      0.963\tval_accuracy_score:      0.959\troc_auc_score:       0.99\tval_roc_auc_score:      0.991\t\n",
            "Epoch  104    0sec\tloss:      0.113\tval_loss:      0.119\taccuracy_score:      0.963\tval_accuracy_score:      0.958\troc_auc_score:       0.99\tval_roc_auc_score:      0.992\t\n",
            "Epoch  105    0sec\tloss:      0.115\tval_loss:      0.121\taccuracy_score:      0.962\tval_accuracy_score:      0.958\troc_auc_score:       0.99\tval_roc_auc_score:      0.991\t\n",
            "Epoch  106    0sec\tloss:      0.114\tval_loss:      0.115\taccuracy_score:      0.962\tval_accuracy_score:      0.959\troc_auc_score:       0.99\tval_roc_auc_score:      0.992\t\n",
            "Epoch  107    0sec\tloss:      0.119\tval_loss:      0.116\taccuracy_score:      0.961\tval_accuracy_score:       0.96\troc_auc_score:       0.99\tval_roc_auc_score:      0.991\t\n",
            "Epoch  108    0sec\tloss:      0.114\tval_loss:      0.113\taccuracy_score:      0.963\tval_accuracy_score:      0.959\troc_auc_score:       0.99\tval_roc_auc_score:      0.991\t\n",
            "Epoch  109    0sec\tloss:      0.113\tval_loss:      0.113\taccuracy_score:      0.965\tval_accuracy_score:      0.958\troc_auc_score:       0.99\tval_roc_auc_score:      0.992\t\n",
            "Epoch  110    0sec\tloss:      0.112\tval_loss:      0.113\taccuracy_score:      0.965\tval_accuracy_score:      0.959\troc_auc_score:       0.99\tval_roc_auc_score:      0.992\t\n",
            "Epoch  111    0sec\tloss:      0.113\tval_loss:      0.113\taccuracy_score:      0.962\tval_accuracy_score:      0.959\troc_auc_score:       0.99\tval_roc_auc_score:      0.992\t\n",
            "Epoch  112    0sec\tloss:      0.113\tval_loss:      0.126\taccuracy_score:      0.964\tval_accuracy_score:      0.958\troc_auc_score:       0.99\tval_roc_auc_score:      0.992\t\n",
            "Epoch  113    0sec\tloss:      0.119\tval_loss:      0.113\taccuracy_score:      0.959\tval_accuracy_score:      0.961\troc_auc_score:       0.99\tval_roc_auc_score:      0.992\t\n",
            "Epoch  114    0sec\tloss:      0.116\tval_loss:      0.115\taccuracy_score:      0.962\tval_accuracy_score:      0.961\troc_auc_score:       0.99\tval_roc_auc_score:      0.992\t\n",
            "Epoch  115    0sec\tloss:      0.113\tval_loss:      0.112\taccuracy_score:      0.964\tval_accuracy_score:      0.959\troc_auc_score:       0.99\tval_roc_auc_score:      0.992\t\n",
            "Epoch  116    0sec\tloss:      0.115\tval_loss:      0.118\taccuracy_score:      0.961\tval_accuracy_score:      0.958\troc_auc_score:       0.99\tval_roc_auc_score:      0.992\t\n",
            "Epoch  117    0sec\tloss:      0.116\tval_loss:      0.114\taccuracy_score:      0.961\tval_accuracy_score:      0.962\troc_auc_score:       0.99\tval_roc_auc_score:      0.992\t\n",
            "Epoch  118    0sec\tloss:      0.114\tval_loss:      0.113\taccuracy_score:      0.961\tval_accuracy_score:      0.959\troc_auc_score:       0.99\tval_roc_auc_score:      0.991\t\n",
            "Epoch  119    0sec\tloss:      0.112\tval_loss:      0.115\taccuracy_score:      0.963\tval_accuracy_score:      0.959\troc_auc_score:       0.99\tval_roc_auc_score:      0.992\t\n",
            "Epoch  120    0sec\tloss:      0.112\tval_loss:      0.112\taccuracy_score:      0.964\tval_accuracy_score:      0.958\troc_auc_score:       0.99\tval_roc_auc_score:      0.992\t\n",
            "\n",
            "Time total:     35.05 sec\n"
          ]
        }
      ]
    },
    {
      "cell_type": "code",
      "source": [
        "import matplotlib.pyplot as plt\n",
        "\n",
        "def plot_metric(history, name):\n",
        "  plt.title(f\"Model results with {name}\")\n",
        "  plt.plot(history[name], label='train')\n",
        "  plt.plot(history['val_'+name], label='val')\n",
        "  plt.xlabel('Epoch')\n",
        "  plt.ylabel(name)\n",
        "  plt.legend()\n",
        "\n",
        "\n",
        "plot_metric(history, 'loss')"
      ],
      "metadata": {
        "id": "UzVFg-KjgYgy",
        "outputId": "03a4a9ab-6a0b-4915-9bcc-5efef4ad7e5e",
        "colab": {
          "base_uri": "https://localhost:8080/",
          "height": 472
        }
      },
      "execution_count": 85,
      "outputs": [
        {
          "output_type": "display_data",
          "data": {
            "text/plain": [
              "<Figure size 640x480 with 1 Axes>"
            ],
            "image/png": "[encoded data removed]"
          },
          "metadata": {}
        }
      ]
    },
    {
      "cell_type": "code",
      "source": [
        "plot_metric(history, 'accuracy_score')"
      ],
      "metadata": {
        "id": "fvo197hQWasY",
        "outputId": "be3806bb-6a49-4f6c-a962-cfe623f407cf",
        "colab": {
          "base_uri": "https://localhost:8080/",
          "height": 472
        }
      },
      "execution_count": 86,
      "outputs": [
        {
          "output_type": "display_data",
          "data": {
            "text/plain": [
              "<Figure size 640x480 with 1 Axes>"
            ],
            "image/png": "[encoded data removed]"
          },
          "metadata": {}
        }
      ]
    },
    {
      "cell_type": "code",
      "source": [
        "from sklearn.metrics import ConfusionMatrixDisplay, RocCurveDisplay\n",
        "import numpy as np\n",
        "\n",
        "device = torch.device(\"cpu\")\n",
        "model = model.to(device)\n",
        "y_pred = model.predict(X_test, device=device)\n",
        "\n",
        "\n",
        "ConfusionMatrixDisplay.from_predictions(y_test, y_pred.round())\n",
        "plt.plot()\n",
        "\n",
        "RocCurveDisplay.from_predictions(y_test, y_pred, pos_label=0)\n",
        "plt.plot()\n"
      ],
      "metadata": {
        "id": "NmCE11RmWmNh",
        "outputId": "52389a88-d1d8-478c-f2a1-4969cc5f2740",
        "colab": {
          "base_uri": "https://localhost:8080/",
          "height": 898
        }
      },
      "execution_count": 88,
      "outputs": [
        {
          "output_type": "execute_result",
          "data": {
            "text/plain": [
              "[]"
            ]
          },
          "metadata": {},
          "execution_count": 88
        },
        {
          "output_type": "display_data",
          "data": {
            "text/plain": [
              "<Figure size 640x480 with 2 Axes>"
            ],
            "image/png": "[encoded data removed]"
          },
          "metadata": {}
        },
        {
          "output_type": "display_data",
          "data": {
            "text/plain": [
              "<Figure size 640x480 with 1 Axes>"
            ],
            "image/png": "[encoded data removed]"
          },
          "metadata": {}
        }
      ]
    },
    {
      "cell_type": "code",
      "source": [
        "torch.save(model, \"model.pt\")"
      ],
      "metadata": {
        "id": "azcBwaTPXsU6"
      },
      "execution_count": 89,
      "outputs": []
    },
    {
      "cell_type": "code",
      "source": [
        "model = torch.load(\"/content/model.pt\")\n",
        "model"
      ],
      "metadata": {
        "id": "PoQMVLzs94FX",
        "outputId": "30eec48c-7515-4acb-c5d4-23a5896908ae",
        "colab": {
          "base_uri": "https://localhost:8080/"
        }
      },
      "execution_count": 90,
      "outputs": [
        {
          "output_type": "execute_result",
          "data": {
            "text/plain": [
              "Model(\n",
              "  (linear_1): Linear(in_features=7, out_features=20, bias=True)\n",
              "  (linear_2): Linear(in_features=20, out_features=14, bias=True)\n",
              "  (linear_3): Linear(in_features=14, out_features=10, bias=True)\n",
              "  (linear_4): Linear(in_features=10, out_features=6, bias=True)\n",
              "  (linear_5): Linear(in_features=6, out_features=1, bias=True)\n",
              ")"
            ]
          },
          "metadata": {},
          "execution_count": 90
        }
      ]
    },
    {
      "cell_type": "code",
      "source": [
        "device"
      ],
      "metadata": {
        "id": "jyKpznTX_cnP",
        "outputId": "875247e5-4b85-429d-aafe-be7d23bbf1ba",
        "colab": {
          "base_uri": "https://localhost:8080/"
        }
      },
      "execution_count": 91,
      "outputs": [
        {
          "output_type": "execute_result",
          "data": {
            "text/plain": [
              "device(type='cpu')"
            ]
          },
          "metadata": {},
          "execution_count": 91
        }
      ]
    },
    {
      "cell_type": "code",
      "source": [
        "X_data = torch.FloatTensor(X_test.iloc[:1].values)\n",
        "X_data = X_data.to(device)\n",
        "\n",
        "print(X_data)\n",
        "print(X_data.shape)\n",
        "print(y[1])"
      ],
      "metadata": {
        "id": "xoq0pqW1-bg5",
        "outputId": "fb36580b-7add-4978-a882-2fc367a8685e",
        "colab": {
          "base_uri": "https://localhost:8080/"
        }
      },
      "execution_count": 92,
      "outputs": [
        {
          "output_type": "stream",
          "name": "stdout",
          "text": [
            "tensor([[0.4268, 0.4841, 0.3609, 0.4019, 0.5362, 0.6648, 0.4091]])\n",
            "torch.Size([1, 7])\n",
            "1\n"
          ]
        }
      ]
    },
    {
      "cell_type": "code",
      "source": [
        "x = torch.FloatTensor(X_test.iloc[:1].values)\n",
        "model.predict(X_data)"
      ],
      "metadata": {
        "id": "ITARAoEe_hdS",
        "outputId": "da2bbb7e-f997-4b1b-e389-8e75452c2856",
        "colab": {
          "base_uri": "https://localhost:8080/"
        }
      },
      "execution_count": 93,
      "outputs": [
        {
          "output_type": "execute_result",
          "data": {
            "text/plain": [
              "array([[0.02274893]], dtype=float32)"
            ]
          },
          "metadata": {},
          "execution_count": 93
        }
      ]
    }
  ]
}