{
  "nbformat": 4,
  "nbformat_minor": 0,
  "metadata": {
    "colab": {
      "provenance": [],
      "gpuType": "T4",
      "include_colab_link": true
    },
    "kernelspec": {
      "name": "python3",
      "display_name": "Python 3"
    },
    "language_info": {
      "name": "python"
    },
    "accelerator": "GPU"
  },
  "cells": [
    {
      "cell_type": "markdown",
      "metadata": {
        "id": "view-in-github",
        "colab_type": "text"
      },
      "source": [
        "<a href=\"https://colab.research.google.com/github/Maks6666/ML/blob/main/pytorch_3.ipynb\" target=\"_parent\"><img src=\"https://colab.research.google.com/assets/colab-badge.svg\" alt=\"Open In Colab\"/></a>"
      ]
    },
    {
      "cell_type": "markdown",
      "source": [
        "Імпорт модулів"
      ],
      "metadata": {
        "id": "w1r0k1UheNCz"
      }
    },
    {
      "cell_type": "code",
      "execution_count": 1,
      "metadata": {
        "id": "4XxgJqCDoExm"
      },
      "outputs": [],
      "source": [
        "import pandas as pd"
      ]
    },
    {
      "cell_type": "markdown",
      "source": [
        "Дані медичне страхування"
      ],
      "metadata": {
        "id": "Kpk2KycTeQEE"
      }
    },
    {
      "cell_type": "code",
      "source": [
        "# трохи обробки даних\n",
        "df = pd.read_csv('https://raw.githubusercontent.com/HalyshAnton/IT-Step-Pyton-AI/main/module3/data/insurance.csv')\n",
        "\n",
        "df['sex'] = df['sex'].map({'male': 0, 'female':1})\n",
        "df['smoker'] = df['smoker'].map({'no': 0, 'yes':1})\n",
        "\n",
        "df = df.drop(columns=['region'])\n",
        "\n",
        "data = df[['age', 'bmi', 'expenses']]\n",
        "df[['age', 'bmi', 'expenses']] = (data - data.min()) / (data.max() - data.min())"
      ],
      "metadata": {
        "id": "926S2f5pdnH6"
      },
      "execution_count": 2,
      "outputs": []
    },
    {
      "cell_type": "code",
      "source": [
        "df.head()"
      ],
      "metadata": {
        "colab": {
          "base_uri": "https://localhost:8080/",
          "height": 206
        },
        "id": "eG6_dawddqwd",
        "outputId": "2e4ec6d0-f188-465b-da92-e2aabe7c7137"
      },
      "execution_count": 3,
      "outputs": [
        {
          "output_type": "execute_result",
          "data": {
            "text/plain": [
              "        age  sex       bmi  children  smoker  expenses\n",
              "0  0.021739    1  0.320755         0       1  0.251611\n",
              "1  0.000000    0  0.479784         1       0  0.009636\n",
              "2  0.217391    0  0.458221         3       0  0.053115\n",
              "3  0.326087    0  0.180593         0       0  0.333010\n",
              "4  0.304348    0  0.347709         0       0  0.043816"
            ],
            "text/html": [
              "\n",
              "  <div id=\"df-f5b88129-c1c0-4a8b-990a-4fd894e7bb7b\" class=\"colab-df-container\">\n",
              "    <div>\n",
              "<style scoped>\n",
              "    .dataframe tbody tr th:only-of-type {\n",
              "        vertical-align: middle;\n",
              "    }\n",
              "\n",
              "    .dataframe tbody tr th {\n",
              "        vertical-align: top;\n",
              "    }\n",
              "\n",
              "    .dataframe thead th {\n",
              "        text-align: right;\n",
              "    }\n",
              "</style>\n",
              "<table border=\"1\" class=\"dataframe\">\n",
              "  <thead>\n",
              "    <tr style=\"text-align: right;\">\n",
              "      <th></th>\n",
              "      <th>age</th>\n",
              "      <th>sex</th>\n",
              "      <th>bmi</th>\n",
              "      <th>children</th>\n",
              "      <th>smoker</th>\n",
              "      <th>expenses</th>\n",
              "    </tr>\n",
              "  </thead>\n",
              "  <tbody>\n",
              "    <tr>\n",
              "      <th>0</th>\n",
              "      <td>0.021739</td>\n",
              "      <td>1</td>\n",
              "      <td>0.320755</td>\n",
              "      <td>0</td>\n",
              "      <td>1</td>\n",
              "      <td>0.251611</td>\n",
              "    </tr>\n",
              "    <tr>\n",
              "      <th>1</th>\n",
              "      <td>0.000000</td>\n",
              "      <td>0</td>\n",
              "      <td>0.479784</td>\n",
              "      <td>1</td>\n",
              "      <td>0</td>\n",
              "      <td>0.009636</td>\n",
              "    </tr>\n",
              "    <tr>\n",
              "      <th>2</th>\n",
              "      <td>0.217391</td>\n",
              "      <td>0</td>\n",
              "      <td>0.458221</td>\n",
              "      <td>3</td>\n",
              "      <td>0</td>\n",
              "      <td>0.053115</td>\n",
              "    </tr>\n",
              "    <tr>\n",
              "      <th>3</th>\n",
              "      <td>0.326087</td>\n",
              "      <td>0</td>\n",
              "      <td>0.180593</td>\n",
              "      <td>0</td>\n",
              "      <td>0</td>\n",
              "      <td>0.333010</td>\n",
              "    </tr>\n",
              "    <tr>\n",
              "      <th>4</th>\n",
              "      <td>0.304348</td>\n",
              "      <td>0</td>\n",
              "      <td>0.347709</td>\n",
              "      <td>0</td>\n",
              "      <td>0</td>\n",
              "      <td>0.043816</td>\n",
              "    </tr>\n",
              "  </tbody>\n",
              "</table>\n",
              "</div>\n",
              "    <div class=\"colab-df-buttons\">\n",
              "\n",
              "  <div class=\"colab-df-container\">\n",
              "    <button class=\"colab-df-convert\" onclick=\"convertToInteractive('df-f5b88129-c1c0-4a8b-990a-4fd894e7bb7b')\"\n",
              "            title=\"Convert this dataframe to an interactive table.\"\n",
              "            style=\"display:none;\">\n",
              "\n",
              "  <svg xmlns=\"http://www.w3.org/2000/svg\" height=\"24px\" viewBox=\"0 -960 960 960\">\n",
              "    <path d=\"M120-120v-720h720v720H120Zm60-500h600v-160H180v160Zm220 220h160v-160H400v160Zm0 220h160v-160H400v160ZM180-400h160v-160H180v160Zm440 0h160v-160H620v160ZM180-180h160v-160H180v160Zm440 0h160v-160H620v160Z\"/>\n",
              "  </svg>\n",
              "    </button>\n",
              "\n",
              "  <style>\n",
              "    .colab-df-container {\n",
              "      display:flex;\n",
              "      gap: 12px;\n",
              "    }\n",
              "\n",
              "    .colab-df-convert {\n",
              "      background-color: #E8F0FE;\n",
              "      border: none;\n",
              "      border-radius: 50%;\n",
              "      cursor: pointer;\n",
              "      display: none;\n",
              "      fill: #1967D2;\n",
              "      height: 32px;\n",
              "      padding: 0 0 0 0;\n",
              "      width: 32px;\n",
              "    }\n",
              "\n",
              "    .colab-df-convert:hover {\n",
              "      background-color: #E2EBFA;\n",
              "      box-shadow: 0px 1px 2px rgba(60, 64, 67, 0.3), 0px 1px 3px 1px rgba(60, 64, 67, 0.15);\n",
              "      fill: #174EA6;\n",
              "    }\n",
              "\n",
              "    .colab-df-buttons div {\n",
              "      margin-bottom: 4px;\n",
              "    }\n",
              "\n",
              "    [theme=dark] .colab-df-convert {\n",
              "      background-color: #3B4455;\n",
              "      fill: #D2E3FC;\n",
              "    }\n",
              "\n",
              "    [theme=dark] .colab-df-convert:hover {\n",
              "      background-color: #434B5C;\n",
              "      box-shadow: 0px 1px 3px 1px rgba(0, 0, 0, 0.15);\n",
              "      filter: drop-shadow(0px 1px 2px rgba(0, 0, 0, 0.3));\n",
              "      fill: #FFFFFF;\n",
              "    }\n",
              "  </style>\n",
              "\n",
              "    <script>\n",
              "      const buttonEl =\n",
              "        document.querySelector('#df-f5b88129-c1c0-4a8b-990a-4fd894e7bb7b button.colab-df-convert');\n",
              "      buttonEl.style.display =\n",
              "        google.colab.kernel.accessAllowed ? 'block' : 'none';\n",
              "\n",
              "      async function convertToInteractive(key) {\n",
              "        const element = document.querySelector('#df-f5b88129-c1c0-4a8b-990a-4fd894e7bb7b');\n",
              "        const dataTable =\n",
              "          await google.colab.kernel.invokeFunction('convertToInteractive',\n",
              "                                                    [key], {});\n",
              "        if (!dataTable) return;\n",
              "\n",
              "        const docLinkHtml = 'Like what you see? Visit the ' +\n",
              "          '<a target=\"_blank\" href=https://colab.research.google.com/notebooks/data_table.ipynb>data table notebook</a>'\n",
              "          + ' to learn more about interactive tables.';\n",
              "        element.innerHTML = '';\n",
              "        dataTable['output_type'] = 'display_data';\n",
              "        await google.colab.output.renderOutput(dataTable, element);\n",
              "        const docLink = document.createElement('div');\n",
              "        docLink.innerHTML = docLinkHtml;\n",
              "        element.appendChild(docLink);\n",
              "      }\n",
              "    </script>\n",
              "  </div>\n",
              "\n",
              "\n",
              "<div id=\"df-aa80b4a7-9fe0-4746-8b57-3fe3fb6b4d7c\">\n",
              "  <button class=\"colab-df-quickchart\" onclick=\"quickchart('df-aa80b4a7-9fe0-4746-8b57-3fe3fb6b4d7c')\"\n",
              "            title=\"Suggest charts\"\n",
              "            style=\"display:none;\">\n",
              "\n",
              "<svg xmlns=\"http://www.w3.org/2000/svg\" height=\"24px\"viewBox=\"0 0 24 24\"\n",
              "     width=\"24px\">\n",
              "    <g>\n",
              "        <path d=\"M19 3H5c-1.1 0-2 .9-2 2v14c0 1.1.9 2 2 2h14c1.1 0 2-.9 2-2V5c0-1.1-.9-2-2-2zM9 17H7v-7h2v7zm4 0h-2V7h2v10zm4 0h-2v-4h2v4z\"/>\n",
              "    </g>\n",
              "</svg>\n",
              "  </button>\n",
              "\n",
              "<style>\n",
              "  .colab-df-quickchart {\n",
              "      --bg-color: #E8F0FE;\n",
              "      --fill-color: #1967D2;\n",
              "      --hover-bg-color: #E2EBFA;\n",
              "      --hover-fill-color: #174EA6;\n",
              "      --disabled-fill-color: #AAA;\n",
              "      --disabled-bg-color: #DDD;\n",
              "  }\n",
              "\n",
              "  [theme=dark] .colab-df-quickchart {\n",
              "      --bg-color: #3B4455;\n",
              "      --fill-color: #D2E3FC;\n",
              "      --hover-bg-color: #434B5C;\n",
              "      --hover-fill-color: #FFFFFF;\n",
              "      --disabled-bg-color: #3B4455;\n",
              "      --disabled-fill-color: #666;\n",
              "  }\n",
              "\n",
              "  .colab-df-quickchart {\n",
              "    background-color: var(--bg-color);\n",
              "    border: none;\n",
              "    border-radius: 50%;\n",
              "    cursor: pointer;\n",
              "    display: none;\n",
              "    fill: var(--fill-color);\n",
              "    height: 32px;\n",
              "    padding: 0;\n",
              "    width: 32px;\n",
              "  }\n",
              "\n",
              "  .colab-df-quickchart:hover {\n",
              "    background-color: var(--hover-bg-color);\n",
              "    box-shadow: 0 1px 2px rgba(60, 64, 67, 0.3), 0 1px 3px 1px rgba(60, 64, 67, 0.15);\n",
              "    fill: var(--button-hover-fill-color);\n",
              "  }\n",
              "\n",
              "  .colab-df-quickchart-complete:disabled,\n",
              "  .colab-df-quickchart-complete:disabled:hover {\n",
              "    background-color: var(--disabled-bg-color);\n",
              "    fill: var(--disabled-fill-color);\n",
              "    box-shadow: none;\n",
              "  }\n",
              "\n",
              "  .colab-df-spinner {\n",
              "    border: 2px solid var(--fill-color);\n",
              "    border-color: transparent;\n",
              "    border-bottom-color: var(--fill-color);\n",
              "    animation:\n",
              "      spin 1s steps(1) infinite;\n",
              "  }\n",
              "\n",
              "  @keyframes spin {\n",
              "    0% {\n",
              "      border-color: transparent;\n",
              "      border-bottom-color: var(--fill-color);\n",
              "      border-left-color: var(--fill-color);\n",
              "    }\n",
              "    20% {\n",
              "      border-color: transparent;\n",
              "      border-left-color: var(--fill-color);\n",
              "      border-top-color: var(--fill-color);\n",
              "    }\n",
              "    30% {\n",
              "      border-color: transparent;\n",
              "      border-left-color: var(--fill-color);\n",
              "      border-top-color: var(--fill-color);\n",
              "      border-right-color: var(--fill-color);\n",
              "    }\n",
              "    40% {\n",
              "      border-color: transparent;\n",
              "      border-right-color: var(--fill-color);\n",
              "      border-top-color: var(--fill-color);\n",
              "    }\n",
              "    60% {\n",
              "      border-color: transparent;\n",
              "      border-right-color: var(--fill-color);\n",
              "    }\n",
              "    80% {\n",
              "      border-color: transparent;\n",
              "      border-right-color: var(--fill-color);\n",
              "      border-bottom-color: var(--fill-color);\n",
              "    }\n",
              "    90% {\n",
              "      border-color: transparent;\n",
              "      border-bottom-color: var(--fill-color);\n",
              "    }\n",
              "  }\n",
              "</style>\n",
              "\n",
              "  <script>\n",
              "    async function quickchart(key) {\n",
              "      const quickchartButtonEl =\n",
              "        document.querySelector('#' + key + ' button');\n",
              "      quickchartButtonEl.disabled = true;  // To prevent multiple clicks.\n",
              "      quickchartButtonEl.classList.add('colab-df-spinner');\n",
              "      try {\n",
              "        const charts = await google.colab.kernel.invokeFunction(\n",
              "            'suggestCharts', [key], {});\n",
              "      } catch (error) {\n",
              "        console.error('Error during call to suggestCharts:', error);\n",
              "      }\n",
              "      quickchartButtonEl.classList.remove('colab-df-spinner');\n",
              "      quickchartButtonEl.classList.add('colab-df-quickchart-complete');\n",
              "    }\n",
              "    (() => {\n",
              "      let quickchartButtonEl =\n",
              "        document.querySelector('#df-aa80b4a7-9fe0-4746-8b57-3fe3fb6b4d7c button');\n",
              "      quickchartButtonEl.style.display =\n",
              "        google.colab.kernel.accessAllowed ? 'block' : 'none';\n",
              "    })();\n",
              "  </script>\n",
              "</div>\n",
              "\n",
              "    </div>\n",
              "  </div>\n"
            ],
            "application/vnd.google.colaboratory.intrinsic+json": {
              "type": "dataframe",
              "variable_name": "df",
              "summary": "{\n  \"name\": \"df\",\n  \"rows\": 1338,\n  \"fields\": [\n    {\n      \"column\": \"age\",\n      \"properties\": {\n        \"dtype\": \"number\",\n        \"std\": 0.30543392128730773,\n        \"min\": 0.0,\n        \"max\": 1.0,\n        \"num_unique_values\": 47,\n        \"samples\": [\n          0.06521739130434782,\n          0.5869565217391305,\n          0.391304347826087\n        ],\n        \"semantic_type\": \"\",\n        \"description\": \"\"\n      }\n    },\n    {\n      \"column\": \"sex\",\n      \"properties\": {\n        \"dtype\": \"number\",\n        \"std\": 0,\n        \"min\": 0,\n        \"max\": 1,\n        \"num_unique_values\": 2,\n        \"samples\": [\n          0,\n          1\n        ],\n        \"semantic_type\": \"\",\n        \"description\": \"\"\n      }\n    },\n    {\n      \"column\": \"bmi\",\n      \"properties\": {\n        \"dtype\": \"number\",\n        \"std\": 0.1643768784367483,\n        \"min\": 0.0,\n        \"max\": 1.0,\n        \"num_unique_values\": 275,\n        \"samples\": [\n          0.339622641509434,\n          0.13207547169811315\n        ],\n        \"semantic_type\": \"\",\n        \"description\": \"\"\n      }\n    },\n    {\n      \"column\": \"children\",\n      \"properties\": {\n        \"dtype\": \"number\",\n        \"std\": 1,\n        \"min\": 0,\n        \"max\": 5,\n        \"num_unique_values\": 6,\n        \"samples\": [\n          0,\n          1\n        ],\n        \"semantic_type\": \"\",\n        \"description\": \"\"\n      }\n    },\n    {\n      \"column\": \"smoker\",\n      \"properties\": {\n        \"dtype\": \"number\",\n        \"std\": 0,\n        \"min\": 0,\n        \"max\": 1,\n        \"num_unique_values\": 2,\n        \"samples\": [\n          0,\n          1\n        ],\n        \"semantic_type\": \"\",\n        \"description\": \"\"\n      }\n    },\n    {\n      \"column\": \"expenses\",\n      \"properties\": {\n        \"dtype\": \"number\",\n        \"std\": 0.19330071177544175,\n        \"min\": 0.0,\n        \"max\": 1.0,\n        \"num_unique_values\": 1337,\n        \"samples\": [\n          0.12078473950558483,\n          0.07321796382869775\n        ],\n        \"semantic_type\": \"\",\n        \"description\": \"\"\n      }\n    }\n  ]\n}"
            }
          },
          "metadata": {},
          "execution_count": 3
        }
      ]
    },
    {
      "cell_type": "markdown",
      "source": [
        "Потрібно на основі інформації людини спрогнозувати розмір її страховки `expenses`"
      ],
      "metadata": {
        "id": "KAmkR_CFejgQ"
      }
    },
    {
      "cell_type": "markdown",
      "source": [
        "# Завдання 1\n",
        "Створіть клас Dataset"
      ],
      "metadata": {
        "id": "dBt0E5BJe6OK"
      }
    },
    {
      "cell_type": "code",
      "source": [
        "import torch\n",
        "device = \"cuda\" if torch.cuda.is_available() else \"cpu\"\n",
        "torch.set_default_device(device)"
      ],
      "metadata": {
        "id": "qS_7avKKunF5"
      },
      "execution_count": 5,
      "outputs": []
    },
    {
      "cell_type": "code",
      "source": [
        "device"
      ],
      "metadata": {
        "colab": {
          "base_uri": "https://localhost:8080/",
          "height": 35
        },
        "id": "RBSic791ut61",
        "outputId": "a04d5877-223a-4bf0-cb26-0c62f898e1b4"
      },
      "execution_count": 6,
      "outputs": [
        {
          "output_type": "execute_result",
          "data": {
            "text/plain": [
              "'cuda'"
            ],
            "application/vnd.google.colaboratory.intrinsic+json": {
              "type": "string"
            }
          },
          "metadata": {},
          "execution_count": 6
        }
      ]
    },
    {
      "cell_type": "code",
      "source": [
        "X = df.drop('expenses', axis=\"columns\")\n",
        "y = df[\"expenses\"]"
      ],
      "metadata": {
        "id": "bh9R7rmrs8jy"
      },
      "execution_count": 13,
      "outputs": []
    },
    {
      "cell_type": "code",
      "source": [
        "from torch.utils.data import Dataset\n",
        "import torch\n",
        "\n",
        "class MyDataset(Dataset):\n",
        "  def __init__(self, X, y):\n",
        "    self.X = torch.FloatTensor(X.values).to(device)\n",
        "    self.y = torch.FloatTensor(y.values).to(device)\n",
        "    self.y = self.y.reshape(-1, 1)\n",
        "\n",
        "  def __len__(self):\n",
        "    return len(self.X)\n",
        "\n",
        "  def __getitem__(self, index):\n",
        "    return self.X[index], self.y[index]"
      ],
      "metadata": {
        "id": "vFtu1Wd1drwJ"
      },
      "execution_count": 14,
      "outputs": []
    },
    {
      "cell_type": "code",
      "source": [
        "dataset = MyDataset(X, y)"
      ],
      "metadata": {
        "id": "bJUWEk67tGFi"
      },
      "execution_count": 15,
      "outputs": []
    },
    {
      "cell_type": "code",
      "source": [
        "dataset[0][0].device"
      ],
      "metadata": {
        "colab": {
          "base_uri": "https://localhost:8080/"
        },
        "id": "zkv77acavkVn",
        "outputId": "72f76238-ef5a-462c-b570-3fc4b8ba3890"
      },
      "execution_count": 16,
      "outputs": [
        {
          "output_type": "execute_result",
          "data": {
            "text/plain": [
              "device(type='cuda', index=0)"
            ]
          },
          "metadata": {},
          "execution_count": 16
        }
      ]
    },
    {
      "cell_type": "code",
      "source": [
        "dataset[0]"
      ],
      "metadata": {
        "colab": {
          "base_uri": "https://localhost:8080/"
        },
        "id": "EO2rW6tntLdm",
        "outputId": "7b6f4fd5-d643-4439-bf77-94ff8d502c25"
      },
      "execution_count": 17,
      "outputs": [
        {
          "output_type": "execute_result",
          "data": {
            "text/plain": [
              "(tensor([0.0217, 1.0000, 0.3208, 0.0000, 1.0000], device='cuda:0'),\n",
              " tensor([0.2516], device='cuda:0'))"
            ]
          },
          "metadata": {},
          "execution_count": 17
        }
      ]
    },
    {
      "cell_type": "code",
      "source": [
        "len(dataset)"
      ],
      "metadata": {
        "colab": {
          "base_uri": "https://localhost:8080/"
        },
        "id": "fSJYHhbrtgry",
        "outputId": "defc11df-7855-45f9-ce28-168de9855a3e"
      },
      "execution_count": 18,
      "outputs": [
        {
          "output_type": "execute_result",
          "data": {
            "text/plain": [
              "1338"
            ]
          },
          "metadata": {},
          "execution_count": 18
        }
      ]
    },
    {
      "cell_type": "markdown",
      "source": [
        "# Завдання 2\n",
        "Створіть DataLoader. Перевірте розміри даних в першому пакеті. Розмір пакетів оберіть самостійно"
      ],
      "metadata": {
        "id": "zQlB_6WzfB8n"
      }
    },
    {
      "cell_type": "code",
      "source": [
        "from torch.utils.data import DataLoader\n",
        "batch_size = 64\n",
        "dataloader = DataLoader(dataset, batch_size=batch_size, shuffle=True, generator=torch.Generator(device=device))"
      ],
      "metadata": {
        "id": "-6-po4H4fZQy"
      },
      "execution_count": 20,
      "outputs": []
    },
    {
      "cell_type": "code",
      "source": [
        "X_batch, y_batch = next(iter(dataloader))"
      ],
      "metadata": {
        "id": "mkQ7pg9-xaFm"
      },
      "execution_count": 21,
      "outputs": []
    },
    {
      "cell_type": "code",
      "source": [
        "X_batch.shape"
      ],
      "metadata": {
        "colab": {
          "base_uri": "https://localhost:8080/"
        },
        "id": "OwPhfuvXxbn3",
        "outputId": "2c8e16d1-e674-4bd6-efe4-0a39b5207105"
      },
      "execution_count": 22,
      "outputs": [
        {
          "output_type": "execute_result",
          "data": {
            "text/plain": [
              "torch.Size([64, 5])"
            ]
          },
          "metadata": {},
          "execution_count": 22
        }
      ]
    },
    {
      "cell_type": "code",
      "source": [
        "X_batch.device"
      ],
      "metadata": {
        "colab": {
          "base_uri": "https://localhost:8080/"
        },
        "id": "cv8dqXOHxf-9",
        "outputId": "de43e0f3-ff0b-469f-feb9-a8a4d7762eed"
      },
      "execution_count": 23,
      "outputs": [
        {
          "output_type": "execute_result",
          "data": {
            "text/plain": [
              "device(type='cuda', index=0)"
            ]
          },
          "metadata": {},
          "execution_count": 23
        }
      ]
    },
    {
      "cell_type": "markdown",
      "source": [
        "# Завдання 3\n",
        "Створіть нейромережу:\n",
        "* Кількість шарів оберіть між 1-5\n",
        "* Виберіть різні функції активації: Relu, LeakyRelu, Swish\n",
        "* Кілкість нейронів у прихованих шарах повинна **не зростати**"
      ],
      "metadata": {
        "id": "2W93LiDxfZrx"
      }
    },
    {
      "cell_type": "code",
      "source": [
        "from torch import nn\n",
        "\n",
        "inputs = 5\n",
        "\n",
        "model = nn.Sequential(\n",
        "    nn.Linear(inputs, 8),\n",
        "    nn.ReLU(),\n",
        "\n",
        "    nn.Linear(8, 7),\n",
        "    nn.ReLU(),\n",
        "\n",
        "    nn.Linear(7, 6),\n",
        "    nn.ReLU(),\n",
        "\n",
        "    nn.Linear(6, 5),\n",
        "    nn.ReLU(),\n",
        "\n",
        "    nn.Linear(5, 4),\n",
        "    nn.ReLU(),\n",
        "\n",
        "    nn.Linear(4, 3),\n",
        "    nn.ReLU(),\n",
        "\n",
        "\n",
        "    nn.Linear(3, 2),\n",
        "    nn.ReLU(),\n",
        "\n",
        "\n",
        "    nn.Linear(2, 1)\n",
        "\n",
        "\n",
        "\n",
        ")"
      ],
      "metadata": {
        "id": "p9DHog7Xf7xE"
      },
      "execution_count": 25,
      "outputs": []
    },
    {
      "cell_type": "markdown",
      "source": [
        "# Завдання 4\n",
        "Визначте функцію втрат та оптимізатор"
      ],
      "metadata": {
        "id": "VmNUVkkUf8gB"
      }
    },
    {
      "cell_type": "code",
      "source": [
        "from torch.optim import SGD\n",
        "loss_func = nn.MSELoss()\n",
        "optimizer = SGD(model.parameters(), lr=1e-2)"
      ],
      "metadata": {
        "id": "e1sw9oRBgDXR"
      },
      "execution_count": 27,
      "outputs": []
    },
    {
      "cell_type": "markdown",
      "source": [
        "# Завдання 5\n",
        "Натренуйте нейромережу. візміть невелику кількість епох"
      ],
      "metadata": {
        "id": "qTOFCl_egEFZ"
      }
    },
    {
      "cell_type": "code",
      "source": [
        "import numpy as np\n",
        "losses = []\n",
        "epochs = 50\n",
        "\n",
        "for epoch in range(epochs):\n",
        "  t_losses = []\n",
        "  for x, y in dataloader:\n",
        "    y_pred = model(x)\n",
        "    loss = loss_func(y_pred, y)\n",
        "    t_losses.append(loss.item())\n",
        "    loss.backward()\n",
        "    optimizer.step()\n",
        "    optimizer.zero_grad()\n",
        "  losses.append(np.mean(t_losses))\n",
        "\n",
        "  if epoch % 1 == 0:\n",
        "          print(f'loss={losses[-1]}')"
      ],
      "metadata": {
        "id": "Nxo4p3IUgOx5",
        "colab": {
          "base_uri": "https://localhost:8080/"
        },
        "outputId": "5c4ebf51-65af-4795-bc5e-c229ec4b2b46"
      },
      "execution_count": 29,
      "outputs": [
        {
          "output_type": "stream",
          "name": "stdout",
          "text": [
            "loss=0.03844355685370309\n",
            "loss=0.03761539510673001\n",
            "loss=0.0374016636716468\n",
            "loss=0.037381394810619806\n",
            "loss=0.03736350756315958\n",
            "loss=0.037299166566559246\n",
            "loss=0.03744006165791126\n",
            "loss=0.03733406641653606\n",
            "loss=0.037306895124770346\n",
            "loss=0.03735476288767088\n",
            "loss=0.03732647507318428\n",
            "loss=0.037365236009160675\n",
            "loss=0.03742276114367303\n",
            "loss=0.03738273396378472\n",
            "loss=0.03738630971028691\n",
            "loss=0.037316822579928806\n",
            "loss=0.03735143638082913\n",
            "loss=0.037330969369837215\n",
            "loss=0.037372605431647526\n",
            "loss=0.03732930230242865\n",
            "loss=0.037415994863424985\n",
            "loss=0.03742692353469985\n",
            "loss=0.03730961343362218\n",
            "loss=0.0373530038410709\n",
            "loss=0.03747801580244586\n",
            "loss=0.03735629637681302\n",
            "loss=0.03736446451927934\n",
            "loss=0.037357170933059285\n",
            "loss=0.03738225003083547\n",
            "loss=0.037426249434550606\n",
            "loss=0.03738858302434286\n",
            "loss=0.037445636377448126\n",
            "loss=0.03732398453922499\n",
            "loss=0.03732300629573209\n",
            "loss=0.03735669205586115\n",
            "loss=0.0374442624549071\n",
            "loss=0.03733213511960847\n",
            "loss=0.03732955038902305\n",
            "loss=0.03733917751482555\n",
            "loss=0.03738045931926796\n",
            "loss=0.03740326652214641\n",
            "loss=0.03735404585798582\n",
            "loss=0.03728062029750574\n",
            "loss=0.03741033712313289\n",
            "loss=0.03738976828753948\n",
            "loss=0.037266683454314865\n",
            "loss=0.03729674193475928\n",
            "loss=0.037304519720020746\n",
            "loss=0.037358230512057035\n",
            "loss=0.03737070074393636\n"
          ]
        }
      ]
    },
    {
      "cell_type": "code",
      "source": [
        "import matplotlib.pyplot as plt\n",
        "plt.plot(losses)\n",
        "plt.ylim(0, 0.05)"
      ],
      "metadata": {
        "colab": {
          "base_uri": "https://localhost:8080/",
          "height": 453
        },
        "id": "VcPAxMjB1bJC",
        "outputId": "d412dff8-ddc8-49b9-b180-8a3891e62176"
      },
      "execution_count": 33,
      "outputs": [
        {
          "output_type": "execute_result",
          "data": {
            "text/plain": [
              "(0.0, 0.05)"
            ]
          },
          "metadata": {},
          "execution_count": 33
        },
        {
          "output_type": "display_data",
          "data": {
            "text/plain": [
              "<Figure size 640x480 with 1 Axes>"
            ],
            "image/png": "[encoded data removed]"
          },
          "metadata": {}
        }
      ]
    },
    {
      "cell_type": "markdown",
      "source": [
        "# Завдання 6\n",
        "Збережіть нейромережу та зробіть прогноз"
      ],
      "metadata": {
        "id": "aoclw4XlgPhB"
      }
    },
    {
      "cell_type": "code",
      "source": [
        "torch.save(model, 'model.pt')"
      ],
      "metadata": {
        "id": "UzVFg-KjgYgy"
      },
      "execution_count": 34,
      "outputs": []
    },
    {
      "cell_type": "code",
      "source": [
        "model = torch.load(\"/content/model.pt\")\n",
        "model = model.to(device)\n",
        "model"
      ],
      "metadata": {
        "colab": {
          "base_uri": "https://localhost:8080/"
        },
        "id": "5Pu7Grz12ROs",
        "outputId": "6098a50a-6b6a-475c-afeb-ec83032a7d02"
      },
      "execution_count": 37,
      "outputs": [
        {
          "output_type": "execute_result",
          "data": {
            "text/plain": [
              "Sequential(\n",
              "  (0): Linear(in_features=5, out_features=8, bias=True)\n",
              "  (1): ReLU()\n",
              "  (2): Linear(in_features=8, out_features=7, bias=True)\n",
              "  (3): ReLU()\n",
              "  (4): Linear(in_features=7, out_features=6, bias=True)\n",
              "  (5): ReLU()\n",
              "  (6): Linear(in_features=6, out_features=5, bias=True)\n",
              "  (7): ReLU()\n",
              "  (8): Linear(in_features=5, out_features=4, bias=True)\n",
              "  (9): ReLU()\n",
              "  (10): Linear(in_features=4, out_features=3, bias=True)\n",
              "  (11): ReLU()\n",
              "  (12): Linear(in_features=3, out_features=2, bias=True)\n",
              "  (13): ReLU()\n",
              "  (14): Linear(in_features=2, out_features=1, bias=True)\n",
              ")"
            ]
          },
          "metadata": {},
          "execution_count": 37
        }
      ]
    },
    {
      "cell_type": "code",
      "source": [
        "X_data = torch.FloatTensor(X.iloc[:1].values)\n",
        "X_data = X_data.to(device)\n",
        "\n",
        "print(X_data)\n",
        "print(X_data.shape)\n",
        "print(y[1])"
      ],
      "metadata": {
        "colab": {
          "base_uri": "https://localhost:8080/"
        },
        "id": "6yByWZoS2b2b",
        "outputId": "82927a82-491c-457b-d80d-dd14991e9850"
      },
      "execution_count": 49,
      "outputs": [
        {
          "output_type": "stream",
          "name": "stdout",
          "text": [
            "tensor([[0.0217, 1.0000, 0.3208, 0.0000, 1.0000]], device='cuda:0')\n",
            "torch.Size([1, 5])\n",
            "tensor([0.1396], device='cuda:0')\n"
          ]
        }
      ]
    },
    {
      "cell_type": "code",
      "source": [
        "res = model(X_data)\n",
        "with torch.no_grad():\n",
        "  print(res)"
      ],
      "metadata": {
        "colab": {
          "base_uri": "https://localhost:8080/"
        },
        "id": "5mA_yAWv3FPC",
        "outputId": "376d96fd-94b9-4ef4-a558-1b51c94d6b57"
      },
      "execution_count": 48,
      "outputs": [
        {
          "output_type": "stream",
          "name": "stdout",
          "text": [
            "tensor([[0.1936]], device='cuda:0', grad_fn=<AddmmBackward0>)\n"
          ]
        }
      ]
    },
    {
      "cell_type": "code",
      "source": [
        "loss = res - y[1]\n",
        "loss"
      ],
      "metadata": {
        "colab": {
          "base_uri": "https://localhost:8080/"
        },
        "id": "r3HIvcIf3asw",
        "outputId": "84c05a03-0391-4332-b3ab-4d6512303eab"
      },
      "execution_count": 50,
      "outputs": [
        {
          "output_type": "execute_result",
          "data": {
            "text/plain": [
              "tensor([[0.0539]], device='cuda:0', grad_fn=<SubBackward0>)"
            ]
          },
          "metadata": {},
          "execution_count": 50
        }
      ]
    }
  ]
}