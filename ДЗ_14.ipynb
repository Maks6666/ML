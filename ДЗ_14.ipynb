{
  "nbformat": 4,
  "nbformat_minor": 0,
  "metadata": {
    "colab": {
      "provenance": [],
      "include_colab_link": true
    },
    "kernelspec": {
      "name": "python3",
      "display_name": "Python 3"
    },
    "language_info": {
      "name": "python"
    }
  },
  "cells": [
    {
      "cell_type": "markdown",
      "metadata": {
        "id": "view-in-github",
        "colab_type": "text"
      },
      "source": [
        "<a href=\"https://colab.research.google.com/github/Maks6666/ML/blob/main/%D0%94%D0%97_14.ipynb\" target=\"_parent\"><img src=\"https://colab.research.google.com/assets/colab-badge.svg\" alt=\"Open In Colab\"/></a>"
      ]
    },
    {
      "cell_type": "markdown",
      "source": [
        "Імпорт модулів"
      ],
      "metadata": {
        "id": "w1r0k1UheNCz"
      }
    },
    {
      "cell_type": "code",
      "execution_count": 508,
      "metadata": {
        "id": "4XxgJqCDoExm"
      },
      "outputs": [],
      "source": [
        "import pandas as pd\n",
        "import torch"
      ]
    },
    {
      "cell_type": "code",
      "source": [
        "device = \"cuda\" if torch.cuda.is_available() else \"cpu\"\n",
        "torch.set_default_device(device)\n"
      ],
      "metadata": {
        "id": "DunTth2aW0uR"
      },
      "execution_count": 509,
      "outputs": []
    },
    {
      "cell_type": "code",
      "source": [
        "device"
      ],
      "metadata": {
        "id": "-2uEPFALXQ2i",
        "outputId": "aeec32f4-61ba-4d0c-cc21-ab6c11c1bc38",
        "colab": {
          "base_uri": "https://localhost:8080/",
          "height": 35
        }
      },
      "execution_count": 510,
      "outputs": [
        {
          "output_type": "execute_result",
          "data": {
            "text/plain": [
              "'cpu'"
            ],
            "application/vnd.google.colaboratory.intrinsic+json": {
              "type": "string"
            }
          },
          "metadata": {},
          "execution_count": 510
        }
      ]
    },
    {
      "cell_type": "markdown",
      "source": [
        "Дані про гриби\n",
        "\n",
        "[посилання](https://www.kaggle.com/datasets/uciml/mushroom-classification)"
      ],
      "metadata": {
        "id": "Kpk2KycTeQEE"
      }
    },
    {
      "cell_type": "code",
      "source": [
        "# трохи обробки даних\n",
        "from sklearn.preprocessing import OrdinalEncoder\n",
        "\n",
        "df = pd.read_csv('https://raw.githubusercontent.com/HalyshAnton/IT-Step-Pyton-AI/main/module3/data/mushrooms.csv')\n",
        "df = df.drop(columns='veil-type')\n",
        "\n",
        "encoder = OrdinalEncoder().set_output(transform='pandas')\n",
        "df = encoder.fit_transform(df).astype(int)\n",
        "\n",
        "columns = df.columns.delete(0)\n",
        "data = df[columns]\n",
        "df[columns] = (data - data.min()) / (data.max() - data.min())"
      ],
      "metadata": {
        "id": "926S2f5pdnH6"
      },
      "execution_count": 511,
      "outputs": []
    },
    {
      "cell_type": "markdown",
      "source": [
        "Дані непогано збалансовані"
      ],
      "metadata": {
        "id": "Mq24yRptMSrO"
      }
    },
    {
      "cell_type": "code",
      "source": [
        "df['class'].value_counts()"
      ],
      "metadata": {
        "colab": {
          "base_uri": "https://localhost:8080/",
          "height": 178
        },
        "id": "X6CQ04GdKnuu",
        "outputId": "7b734a0a-3fe7-4182-ec7d-a4ada8db0b87"
      },
      "execution_count": 512,
      "outputs": [
        {
          "output_type": "execute_result",
          "data": {
            "text/plain": [
              "class\n",
              "0    4208\n",
              "1    3916\n",
              "Name: count, dtype: int64"
            ],
            "text/html": [
              "<table border=\"1\" class=\"dataframe\">\n",
              "  <thead>\n",
              "    <tr style=\"text-align: right;\">\n",
              "      <th></th>\n",
              "      <th>count</th>\n",
              "    </tr>\n",
              "    <tr>\n",
              "      <th>class</th>\n",
              "      <th></th>\n",
              "    </tr>\n",
              "  </thead>\n",
              "  <tbody>\n",
              "    <tr>\n",
              "      <th>0</th>\n",
              "      <td>4208</td>\n",
              "    </tr>\n",
              "    <tr>\n",
              "      <th>1</th>\n",
              "      <td>3916</td>\n",
              "    </tr>\n",
              "  </tbody>\n",
              "</table><br><label><b>dtype:</b> int64</label>"
            ]
          },
          "metadata": {},
          "execution_count": 512
        }
      ]
    },
    {
      "cell_type": "code",
      "source": [
        "df.shape"
      ],
      "metadata": {
        "id": "2X2BWpLTY-h3",
        "outputId": "169f7cf9-10b2-42ab-bfd7-bc266d1f2f82",
        "colab": {
          "base_uri": "https://localhost:8080/"
        }
      },
      "execution_count": 513,
      "outputs": [
        {
          "output_type": "execute_result",
          "data": {
            "text/plain": [
              "(8124, 22)"
            ]
          },
          "metadata": {},
          "execution_count": 513
        }
      ]
    },
    {
      "cell_type": "code",
      "source": [
        "df.head()"
      ],
      "metadata": {
        "colab": {
          "base_uri": "https://localhost:8080/",
          "height": 308
        },
        "id": "eG6_dawddqwd",
        "outputId": "8a82941c-23b4-45c3-8673-bbc9431d2d6d"
      },
      "execution_count": 514,
      "outputs": [
        {
          "output_type": "execute_result",
          "data": {
            "text/plain": [
              "   class  cap-shape  cap-surface  cap-color  bruises   odor  gill-attachment  \\\n",
              "0      1        1.0     0.666667   0.444444      1.0  0.750              1.0   \n",
              "1      0        1.0     0.666667   1.000000      1.0  0.000              1.0   \n",
              "2      0        0.0     0.666667   0.888889      1.0  0.375              1.0   \n",
              "3      1        1.0     1.000000   0.888889      1.0  0.750              1.0   \n",
              "4      0        1.0     0.666667   0.333333      0.0  0.625              1.0   \n",
              "\n",
              "   gill-spacing  gill-size  gill-color  ...  stalk-surface-above-ring  \\\n",
              "0           0.0        1.0    0.363636  ...                  0.666667   \n",
              "1           0.0        0.0    0.363636  ...                  0.666667   \n",
              "2           0.0        0.0    0.454545  ...                  0.666667   \n",
              "3           0.0        1.0    0.454545  ...                  0.666667   \n",
              "4           1.0        0.0    0.363636  ...                  0.666667   \n",
              "\n",
              "   stalk-surface-below-ring  stalk-color-above-ring  stalk-color-below-ring  \\\n",
              "0                  0.666667                   0.875                   0.875   \n",
              "1                  0.666667                   0.875                   0.875   \n",
              "2                  0.666667                   0.875                   0.875   \n",
              "3                  0.666667                   0.875                   0.875   \n",
              "4                  0.666667                   0.875                   0.875   \n",
              "\n",
              "   veil-color  ring-number  ring-type  spore-print-color  population   habitat  \n",
              "0    0.666667          0.5        1.0              0.250         0.6  0.833333  \n",
              "1    0.666667          0.5        1.0              0.375         0.4  0.166667  \n",
              "2    0.666667          0.5        1.0              0.375         0.4  0.500000  \n",
              "3    0.666667          0.5        1.0              0.250         0.6  0.833333  \n",
              "4    0.666667          0.5        0.0              0.375         0.0  0.166667  \n",
              "\n",
              "[5 rows x 22 columns]"
            ],
            "text/html": [
              "\n",
              "  <div id=\"df-c9cbd38c-b842-478e-9622-20abae7d93dd\" class=\"colab-df-container\">\n",
              "    <div>\n",
              "<style scoped>\n",
              "    .dataframe tbody tr th:only-of-type {\n",
              "        vertical-align: middle;\n",
              "    }\n",
              "\n",
              "    .dataframe tbody tr th {\n",
              "        vertical-align: top;\n",
              "    }\n",
              "\n",
              "    .dataframe thead th {\n",
              "        text-align: right;\n",
              "    }\n",
              "</style>\n",
              "<table border=\"1\" class=\"dataframe\">\n",
              "  <thead>\n",
              "    <tr style=\"text-align: right;\">\n",
              "      <th></th>\n",
              "      <th>class</th>\n",
              "      <th>cap-shape</th>\n",
              "      <th>cap-surface</th>\n",
              "      <th>cap-color</th>\n",
              "      <th>bruises</th>\n",
              "      <th>odor</th>\n",
              "      <th>gill-attachment</th>\n",
              "      <th>gill-spacing</th>\n",
              "      <th>gill-size</th>\n",
              "      <th>gill-color</th>\n",
              "      <th>...</th>\n",
              "      <th>stalk-surface-above-ring</th>\n",
              "      <th>stalk-surface-below-ring</th>\n",
              "      <th>stalk-color-above-ring</th>\n",
              "      <th>stalk-color-below-ring</th>\n",
              "      <th>veil-color</th>\n",
              "      <th>ring-number</th>\n",
              "      <th>ring-type</th>\n",
              "      <th>spore-print-color</th>\n",
              "      <th>population</th>\n",
              "      <th>habitat</th>\n",
              "    </tr>\n",
              "  </thead>\n",
              "  <tbody>\n",
              "    <tr>\n",
              "      <th>0</th>\n",
              "      <td>1</td>\n",
              "      <td>1.0</td>\n",
              "      <td>0.666667</td>\n",
              "      <td>0.444444</td>\n",
              "      <td>1.0</td>\n",
              "      <td>0.750</td>\n",
              "      <td>1.0</td>\n",
              "      <td>0.0</td>\n",
              "      <td>1.0</td>\n",
              "      <td>0.363636</td>\n",
              "      <td>...</td>\n",
              "      <td>0.666667</td>\n",
              "      <td>0.666667</td>\n",
              "      <td>0.875</td>\n",
              "      <td>0.875</td>\n",
              "      <td>0.666667</td>\n",
              "      <td>0.5</td>\n",
              "      <td>1.0</td>\n",
              "      <td>0.250</td>\n",
              "      <td>0.6</td>\n",
              "      <td>0.833333</td>\n",
              "    </tr>\n",
              "    <tr>\n",
              "      <th>1</th>\n",
              "      <td>0</td>\n",
              "      <td>1.0</td>\n",
              "      <td>0.666667</td>\n",
              "      <td>1.000000</td>\n",
              "      <td>1.0</td>\n",
              "      <td>0.000</td>\n",
              "      <td>1.0</td>\n",
              "      <td>0.0</td>\n",
              "      <td>0.0</td>\n",
              "      <td>0.363636</td>\n",
              "      <td>...</td>\n",
              "      <td>0.666667</td>\n",
              "      <td>0.666667</td>\n",
              "      <td>0.875</td>\n",
              "      <td>0.875</td>\n",
              "      <td>0.666667</td>\n",
              "      <td>0.5</td>\n",
              "      <td>1.0</td>\n",
              "      <td>0.375</td>\n",
              "      <td>0.4</td>\n",
              "      <td>0.166667</td>\n",
              "    </tr>\n",
              "    <tr>\n",
              "      <th>2</th>\n",
              "      <td>0</td>\n",
              "      <td>0.0</td>\n",
              "      <td>0.666667</td>\n",
              "      <td>0.888889</td>\n",
              "      <td>1.0</td>\n",
              "      <td>0.375</td>\n",
              "      <td>1.0</td>\n",
              "      <td>0.0</td>\n",
              "      <td>0.0</td>\n",
              "      <td>0.454545</td>\n",
              "      <td>...</td>\n",
              "      <td>0.666667</td>\n",
              "      <td>0.666667</td>\n",
              "      <td>0.875</td>\n",
              "      <td>0.875</td>\n",
              "      <td>0.666667</td>\n",
              "      <td>0.5</td>\n",
              "      <td>1.0</td>\n",
              "      <td>0.375</td>\n",
              "      <td>0.4</td>\n",
              "      <td>0.500000</td>\n",
              "    </tr>\n",
              "    <tr>\n",
              "      <th>3</th>\n",
              "      <td>1</td>\n",
              "      <td>1.0</td>\n",
              "      <td>1.000000</td>\n",
              "      <td>0.888889</td>\n",
              "      <td>1.0</td>\n",
              "      <td>0.750</td>\n",
              "      <td>1.0</td>\n",
              "      <td>0.0</td>\n",
              "      <td>1.0</td>\n",
              "      <td>0.454545</td>\n",
              "      <td>...</td>\n",
              "      <td>0.666667</td>\n",
              "      <td>0.666667</td>\n",
              "      <td>0.875</td>\n",
              "      <td>0.875</td>\n",
              "      <td>0.666667</td>\n",
              "      <td>0.5</td>\n",
              "      <td>1.0</td>\n",
              "      <td>0.250</td>\n",
              "      <td>0.6</td>\n",
              "      <td>0.833333</td>\n",
              "    </tr>\n",
              "    <tr>\n",
              "      <th>4</th>\n",
              "      <td>0</td>\n",
              "      <td>1.0</td>\n",
              "      <td>0.666667</td>\n",
              "      <td>0.333333</td>\n",
              "      <td>0.0</td>\n",
              "      <td>0.625</td>\n",
              "      <td>1.0</td>\n",
              "      <td>1.0</td>\n",
              "      <td>0.0</td>\n",
              "      <td>0.363636</td>\n",
              "      <td>...</td>\n",
              "      <td>0.666667</td>\n",
              "      <td>0.666667</td>\n",
              "      <td>0.875</td>\n",
              "      <td>0.875</td>\n",
              "      <td>0.666667</td>\n",
              "      <td>0.5</td>\n",
              "      <td>0.0</td>\n",
              "      <td>0.375</td>\n",
              "      <td>0.0</td>\n",
              "      <td>0.166667</td>\n",
              "    </tr>\n",
              "  </tbody>\n",
              "</table>\n",
              "<p>5 rows × 22 columns</p>\n",
              "</div>\n",
              "    <div class=\"colab-df-buttons\">\n",
              "\n",
              "  <div class=\"colab-df-container\">\n",
              "    <button class=\"colab-df-convert\" onclick=\"convertToInteractive('df-c9cbd38c-b842-478e-9622-20abae7d93dd')\"\n",
              "            title=\"Convert this dataframe to an interactive table.\"\n",
              "            style=\"display:none;\">\n",
              "\n",
              "  <svg xmlns=\"http://www.w3.org/2000/svg\" height=\"24px\" viewBox=\"0 -960 960 960\">\n",
              "    <path d=\"M120-120v-720h720v720H120Zm60-500h600v-160H180v160Zm220 220h160v-160H400v160Zm0 220h160v-160H400v160ZM180-400h160v-160H180v160Zm440 0h160v-160H620v160ZM180-180h160v-160H180v160Zm440 0h160v-160H620v160Z\"/>\n",
              "  </svg>\n",
              "    </button>\n",
              "\n",
              "  <style>\n",
              "    .colab-df-container {\n",
              "      display:flex;\n",
              "      gap: 12px;\n",
              "    }\n",
              "\n",
              "    .colab-df-convert {\n",
              "      background-color: #E8F0FE;\n",
              "      border: none;\n",
              "      border-radius: 50%;\n",
              "      cursor: pointer;\n",
              "      display: none;\n",
              "      fill: #1967D2;\n",
              "      height: 32px;\n",
              "      padding: 0 0 0 0;\n",
              "      width: 32px;\n",
              "    }\n",
              "\n",
              "    .colab-df-convert:hover {\n",
              "      background-color: #E2EBFA;\n",
              "      box-shadow: 0px 1px 2px rgba(60, 64, 67, 0.3), 0px 1px 3px 1px rgba(60, 64, 67, 0.15);\n",
              "      fill: #174EA6;\n",
              "    }\n",
              "\n",
              "    .colab-df-buttons div {\n",
              "      margin-bottom: 4px;\n",
              "    }\n",
              "\n",
              "    [theme=dark] .colab-df-convert {\n",
              "      background-color: #3B4455;\n",
              "      fill: #D2E3FC;\n",
              "    }\n",
              "\n",
              "    [theme=dark] .colab-df-convert:hover {\n",
              "      background-color: #434B5C;\n",
              "      box-shadow: 0px 1px 3px 1px rgba(0, 0, 0, 0.15);\n",
              "      filter: drop-shadow(0px 1px 2px rgba(0, 0, 0, 0.3));\n",
              "      fill: #FFFFFF;\n",
              "    }\n",
              "  </style>\n",
              "\n",
              "    <script>\n",
              "      const buttonEl =\n",
              "        document.querySelector('#df-c9cbd38c-b842-478e-9622-20abae7d93dd button.colab-df-convert');\n",
              "      buttonEl.style.display =\n",
              "        google.colab.kernel.accessAllowed ? 'block' : 'none';\n",
              "\n",
              "      async function convertToInteractive(key) {\n",
              "        const element = document.querySelector('#df-c9cbd38c-b842-478e-9622-20abae7d93dd');\n",
              "        const dataTable =\n",
              "          await google.colab.kernel.invokeFunction('convertToInteractive',\n",
              "                                                    [key], {});\n",
              "        if (!dataTable) return;\n",
              "\n",
              "        const docLinkHtml = 'Like what you see? Visit the ' +\n",
              "          '<a target=\"_blank\" href=https://colab.research.google.com/notebooks/data_table.ipynb>data table notebook</a>'\n",
              "          + ' to learn more about interactive tables.';\n",
              "        element.innerHTML = '';\n",
              "        dataTable['output_type'] = 'display_data';\n",
              "        await google.colab.output.renderOutput(dataTable, element);\n",
              "        const docLink = document.createElement('div');\n",
              "        docLink.innerHTML = docLinkHtml;\n",
              "        element.appendChild(docLink);\n",
              "      }\n",
              "    </script>\n",
              "  </div>\n",
              "\n",
              "\n",
              "<div id=\"df-d10e027a-7cd7-425c-af6e-79669a8c7a58\">\n",
              "  <button class=\"colab-df-quickchart\" onclick=\"quickchart('df-d10e027a-7cd7-425c-af6e-79669a8c7a58')\"\n",
              "            title=\"Suggest charts\"\n",
              "            style=\"display:none;\">\n",
              "\n",
              "<svg xmlns=\"http://www.w3.org/2000/svg\" height=\"24px\"viewBox=\"0 0 24 24\"\n",
              "     width=\"24px\">\n",
              "    <g>\n",
              "        <path d=\"M19 3H5c-1.1 0-2 .9-2 2v14c0 1.1.9 2 2 2h14c1.1 0 2-.9 2-2V5c0-1.1-.9-2-2-2zM9 17H7v-7h2v7zm4 0h-2V7h2v10zm4 0h-2v-4h2v4z\"/>\n",
              "    </g>\n",
              "</svg>\n",
              "  </button>\n",
              "\n",
              "<style>\n",
              "  .colab-df-quickchart {\n",
              "      --bg-color: #E8F0FE;\n",
              "      --fill-color: #1967D2;\n",
              "      --hover-bg-color: #E2EBFA;\n",
              "      --hover-fill-color: #174EA6;\n",
              "      --disabled-fill-color: #AAA;\n",
              "      --disabled-bg-color: #DDD;\n",
              "  }\n",
              "\n",
              "  [theme=dark] .colab-df-quickchart {\n",
              "      --bg-color: #3B4455;\n",
              "      --fill-color: #D2E3FC;\n",
              "      --hover-bg-color: #434B5C;\n",
              "      --hover-fill-color: #FFFFFF;\n",
              "      --disabled-bg-color: #3B4455;\n",
              "      --disabled-fill-color: #666;\n",
              "  }\n",
              "\n",
              "  .colab-df-quickchart {\n",
              "    background-color: var(--bg-color);\n",
              "    border: none;\n",
              "    border-radius: 50%;\n",
              "    cursor: pointer;\n",
              "    display: none;\n",
              "    fill: var(--fill-color);\n",
              "    height: 32px;\n",
              "    padding: 0;\n",
              "    width: 32px;\n",
              "  }\n",
              "\n",
              "  .colab-df-quickchart:hover {\n",
              "    background-color: var(--hover-bg-color);\n",
              "    box-shadow: 0 1px 2px rgba(60, 64, 67, 0.3), 0 1px 3px 1px rgba(60, 64, 67, 0.15);\n",
              "    fill: var(--button-hover-fill-color);\n",
              "  }\n",
              "\n",
              "  .colab-df-quickchart-complete:disabled,\n",
              "  .colab-df-quickchart-complete:disabled:hover {\n",
              "    background-color: var(--disabled-bg-color);\n",
              "    fill: var(--disabled-fill-color);\n",
              "    box-shadow: none;\n",
              "  }\n",
              "\n",
              "  .colab-df-spinner {\n",
              "    border: 2px solid var(--fill-color);\n",
              "    border-color: transparent;\n",
              "    border-bottom-color: var(--fill-color);\n",
              "    animation:\n",
              "      spin 1s steps(1) infinite;\n",
              "  }\n",
              "\n",
              "  @keyframes spin {\n",
              "    0% {\n",
              "      border-color: transparent;\n",
              "      border-bottom-color: var(--fill-color);\n",
              "      border-left-color: var(--fill-color);\n",
              "    }\n",
              "    20% {\n",
              "      border-color: transparent;\n",
              "      border-left-color: var(--fill-color);\n",
              "      border-top-color: var(--fill-color);\n",
              "    }\n",
              "    30% {\n",
              "      border-color: transparent;\n",
              "      border-left-color: var(--fill-color);\n",
              "      border-top-color: var(--fill-color);\n",
              "      border-right-color: var(--fill-color);\n",
              "    }\n",
              "    40% {\n",
              "      border-color: transparent;\n",
              "      border-right-color: var(--fill-color);\n",
              "      border-top-color: var(--fill-color);\n",
              "    }\n",
              "    60% {\n",
              "      border-color: transparent;\n",
              "      border-right-color: var(--fill-color);\n",
              "    }\n",
              "    80% {\n",
              "      border-color: transparent;\n",
              "      border-right-color: var(--fill-color);\n",
              "      border-bottom-color: var(--fill-color);\n",
              "    }\n",
              "    90% {\n",
              "      border-color: transparent;\n",
              "      border-bottom-color: var(--fill-color);\n",
              "    }\n",
              "  }\n",
              "</style>\n",
              "\n",
              "  <script>\n",
              "    async function quickchart(key) {\n",
              "      const quickchartButtonEl =\n",
              "        document.querySelector('#' + key + ' button');\n",
              "      quickchartButtonEl.disabled = true;  // To prevent multiple clicks.\n",
              "      quickchartButtonEl.classList.add('colab-df-spinner');\n",
              "      try {\n",
              "        const charts = await google.colab.kernel.invokeFunction(\n",
              "            'suggestCharts', [key], {});\n",
              "      } catch (error) {\n",
              "        console.error('Error during call to suggestCharts:', error);\n",
              "      }\n",
              "      quickchartButtonEl.classList.remove('colab-df-spinner');\n",
              "      quickchartButtonEl.classList.add('colab-df-quickchart-complete');\n",
              "    }\n",
              "    (() => {\n",
              "      let quickchartButtonEl =\n",
              "        document.querySelector('#df-d10e027a-7cd7-425c-af6e-79669a8c7a58 button');\n",
              "      quickchartButtonEl.style.display =\n",
              "        google.colab.kernel.accessAllowed ? 'block' : 'none';\n",
              "    })();\n",
              "  </script>\n",
              "</div>\n",
              "\n",
              "    </div>\n",
              "  </div>\n"
            ],
            "application/vnd.google.colaboratory.intrinsic+json": {
              "type": "dataframe",
              "variable_name": "df"
            }
          },
          "metadata": {},
          "execution_count": 514
        }
      ]
    },
    {
      "cell_type": "markdown",
      "source": [
        "Потрібно на основі інформації про гриб зрозуміти чи він їстівним(клас 1) `class`"
      ],
      "metadata": {
        "id": "KAmkR_CFejgQ"
      }
    },
    {
      "cell_type": "code",
      "source": [
        "from sklearn.model_selection import train_test_split\n",
        "\n",
        "X = df.drop(\"class\", axis=\"columns\")\n",
        "y = df[\"class\"]\n",
        "\n",
        "X_train, X_test, y_train, y_test = train_test_split(X, y, test_size=0.2, random_state=42, stratify=y)"
      ],
      "metadata": {
        "id": "usK1meHqV_ET"
      },
      "execution_count": 515,
      "outputs": []
    },
    {
      "cell_type": "markdown",
      "source": [
        "# Завдання 1\n",
        "Створіть клас Dataset для тренувальних та тестових даних"
      ],
      "metadata": {
        "id": "dBt0E5BJe6OK"
      }
    },
    {
      "cell_type": "code",
      "source": [
        "from torch.utils.data import Dataset\n",
        "import torch\n",
        "\n",
        "\n",
        "class MyDataset(Dataset):\n",
        "  def __init__(self, X, y):\n",
        "    self.X = torch.FloatTensor(X.values).to(device)\n",
        "    self.y = torch.FloatTensor(y.values).to(device)\n",
        "    self.y = self.y.reshape(-1, 1)\n",
        "\n",
        "  def __len__(self):\n",
        "    return len(self.X)\n",
        "\n",
        "  def __getitem__(self, index):\n",
        "    return self.X[index], self.y[index]\n",
        "\n",
        "train_ds = MyDataset(X_train, y_train)\n",
        "test_ds = MyDataset(X_test, y_test)"
      ],
      "metadata": {
        "id": "T1O64pUCRvLa"
      },
      "execution_count": 516,
      "outputs": []
    },
    {
      "cell_type": "code",
      "source": [
        "train_ds[0][0].shape"
      ],
      "metadata": {
        "id": "Z7WzoetgXVIK",
        "outputId": "f0a3015b-e43d-4d28-8ab2-611932610b7a",
        "colab": {
          "base_uri": "https://localhost:8080/"
        }
      },
      "execution_count": 517,
      "outputs": [
        {
          "output_type": "execute_result",
          "data": {
            "text/plain": [
              "torch.Size([21])"
            ]
          },
          "metadata": {},
          "execution_count": 517
        }
      ]
    },
    {
      "cell_type": "markdown",
      "source": [
        "# Завдання 2\n",
        "Створіть DataLoader"
      ],
      "metadata": {
        "id": "zQlB_6WzfB8n"
      }
    },
    {
      "cell_type": "code",
      "source": [
        "from torch.utils.data import DataLoader\n",
        "\n",
        "train_dl = DataLoader(train_ds, batch_size=256, shuffle=True, generator=torch.Generator(device=device))\n",
        "test_dl = DataLoader(test_ds, batch_size=256, shuffle=True, generator=torch.Generator(device=device))"
      ],
      "metadata": {
        "id": "-6-po4H4fZQy"
      },
      "execution_count": 518,
      "outputs": []
    },
    {
      "cell_type": "markdown",
      "source": [
        "# Завдання 3\n",
        "Створіть нейромережу"
      ],
      "metadata": {
        "id": "2W93LiDxfZrx"
      }
    },
    {
      "cell_type": "code",
      "source": [
        "from torch import nn\n",
        "import torch.nn.functional as F\n",
        "\n",
        "\n",
        "class Block(nn.Module):\n",
        "  def __init__(self, x, y):\n",
        "    super().__init__()\n",
        "\n",
        "    self.linear_1 = nn.Linear(x, y)\n",
        "    self.bnorm_1 = nn.BatchNorm1d(y)\n",
        "    self.linear_2 = nn.Linear(y, y-2)\n",
        "    self.linear_3 = nn.Linear(y-2, y-4)\n",
        "    self.linear_4 = nn.Linear(y-4, y-6)\n",
        "\n",
        "\n",
        "  def forward(self, x):\n",
        "    out = self.linear_1(x)\n",
        "    out = self.bnorm_1(out)\n",
        "    out = F.leaky_relu(out)\n",
        "\n",
        "    out = self.linear_2(out)\n",
        "    out = F.leaky_relu(out)\n",
        "\n",
        "    out = self.linear_3(out)\n",
        "    out = F.leaky_relu(out)\n",
        "\n",
        "    out = self.linear_4(out)\n",
        "    out = F.leaky_relu(out)\n",
        "\n",
        "    return out\n",
        "\n",
        "\n"
      ],
      "metadata": {
        "id": "1vvyDvM8oI0V"
      },
      "execution_count": 519,
      "outputs": []
    },
    {
      "cell_type": "code",
      "source": [
        "class Model(nn.Module):\n",
        "  def __init__(self, input_dim, hidden_dim, output_dim):\n",
        "    super().__init__()\n",
        "\n",
        "    self.model = nn.Sequential(\n",
        "          Block(input_dim, hidden_dim),\n",
        "          Block(hidden_dim-6, hidden_dim//4),\n",
        "\n",
        "\n",
        "          nn.Linear(hidden_dim//10, output_dim),\n",
        "          nn.Sigmoid()\n",
        "    )\n",
        "\n",
        "  def forward(self, x):\n",
        "    return self.model(x)\n",
        "\n",
        "  def predict(self, X, device=\"cpu\"):\n",
        "    X_data = torch.FloatTensor(X.values).to(device)\n",
        "\n",
        "    with torch.no_grad():\n",
        "      y_pred = self.forward(X_data)\n",
        "\n",
        "\n",
        "    return y_pred.cpu().numpy().squeeze()\n",
        "\n",
        "\n",
        "\n",
        "\n",
        "model = Model(21, 36, 1)\n",
        "model"
      ],
      "metadata": {
        "id": "ZZ4jeNohtat-",
        "outputId": "2203b741-8b55-487b-a7fa-a8d8d29d021e",
        "colab": {
          "base_uri": "https://localhost:8080/"
        }
      },
      "execution_count": 520,
      "outputs": [
        {
          "output_type": "execute_result",
          "data": {
            "text/plain": [
              "Model(\n",
              "  (model): Sequential(\n",
              "    (0): Block(\n",
              "      (linear_1): Linear(in_features=21, out_features=36, bias=True)\n",
              "      (bnorm_1): BatchNorm1d(36, eps=1e-05, momentum=0.1, affine=True, track_running_stats=True)\n",
              "      (linear_2): Linear(in_features=36, out_features=34, bias=True)\n",
              "      (linear_3): Linear(in_features=34, out_features=32, bias=True)\n",
              "      (linear_4): Linear(in_features=32, out_features=30, bias=True)\n",
              "    )\n",
              "    (1): Block(\n",
              "      (linear_1): Linear(in_features=30, out_features=9, bias=True)\n",
              "      (bnorm_1): BatchNorm1d(9, eps=1e-05, momentum=0.1, affine=True, track_running_stats=True)\n",
              "      (linear_2): Linear(in_features=9, out_features=7, bias=True)\n",
              "      (linear_3): Linear(in_features=7, out_features=5, bias=True)\n",
              "      (linear_4): Linear(in_features=5, out_features=3, bias=True)\n",
              "    )\n",
              "    (2): Linear(in_features=3, out_features=1, bias=True)\n",
              "    (3): Sigmoid()\n",
              "  )\n",
              ")"
            ]
          },
          "metadata": {},
          "execution_count": 520
        }
      ]
    },
    {
      "cell_type": "code",
      "source": [
        "# from torch import nn\n",
        "# import torch.nn.functional as F\n",
        "\n",
        "# class Model(nn.Module):\n",
        "#   def __init__(self, input_dim, hidden_dim, output_dim):\n",
        "#     super().__init__()\n",
        "\n",
        "\n",
        "#     self.linear_1 = nn.Linear(input_dim, hidden_dim)\n",
        "#     self.linear_2 = nn.Linear(hidden_dim, hidden_dim-4)\n",
        "#     self.linear_3 = nn.Linear(hidden_dim-4, hidden_dim-9)\n",
        "#     self.linear_4 = nn.Linear(hidden_dim-9, hidden_dim-14)\n",
        "#     self.linear_5 = nn.Linear(hidden_dim-14, hidden_dim-19)\n",
        "#     self.linear_6 = nn.Linear(hidden_dim-19, hidden_dim-24)\n",
        "#     self.linear_7 = nn.Linear(hidden_dim-24, hidden_dim-29)\n",
        "#     self.linear_8 = nn.Linear(hidden_dim-29, output_dim)\n",
        "\n",
        "\n",
        "#   def forward(self, x):\n",
        "#     out = self.linear_1(x)\n",
        "#     out = F.relu(out)\n",
        "#     out = self.linear_2(out)\n",
        "#     out = F.relu(out)\n",
        "#     out = self.linear_3(out)\n",
        "#     out = F.relu(out)\n",
        "#     out = self.linear_4(out)\n",
        "#     out = F.relu(out)\n",
        "#     out = self.linear_5(out)\n",
        "#     out = F.relu(out)\n",
        "#     out = self.linear_6(out)\n",
        "#     out = F.relu(out)\n",
        "#     out = self.linear_7(out)\n",
        "#     out = F.relu(out)\n",
        "#     out = self.linear_8(out)\n",
        "#     out = F.sigmoid(out)\n",
        "\n",
        "#     return out\n",
        "\n",
        "\n",
        "#   def predict(self, X, device=\"cpu\"):\n",
        "#     X = torch.FloatTensor(X.values).to(device)\n",
        "\n",
        "#     with torch.no_grad():\n",
        "#       y_pred = self.forward(X)\n",
        "\n",
        "#     return y_pred.cpu().numpy().squeeze()\n",
        "\n",
        "# model = Model(21, 31, 1)\n",
        "# model"
      ],
      "metadata": {
        "id": "p9DHog7Xf7xE"
      },
      "execution_count": 521,
      "outputs": []
    },
    {
      "cell_type": "markdown",
      "source": [
        "# Завдання 4\n",
        "Визначте функцію втрат та оптимізатор, можливо графік швидкості навчання"
      ],
      "metadata": {
        "id": "VmNUVkkUf8gB"
      }
    },
    {
      "cell_type": "code",
      "source": [
        "loss_func = nn.BCELoss()\n",
        "optimizer = torch.optim.Adam(model.parameters(), lr=1e-1)"
      ],
      "metadata": {
        "id": "e1sw9oRBgDXR"
      },
      "execution_count": 522,
      "outputs": []
    },
    {
      "cell_type": "code",
      "source": [
        "from torch.optim.lr_scheduler import StepLR\n",
        "\n",
        "scheduler = StepLR(optimizer, step_size=500, gamma=0.1)"
      ],
      "metadata": {
        "id": "8oOxVuIZ32PJ"
      },
      "execution_count": 523,
      "outputs": []
    },
    {
      "cell_type": "markdown",
      "source": [
        "# Завдання 5\n",
        "Натренуйте нейромережу."
      ],
      "metadata": {
        "id": "qTOFCl_egEFZ"
      }
    },
    {
      "cell_type": "code",
      "source": [
        "# import time\n",
        "\n",
        "# def train(model, optimizer, loss_fn, train_dl, val_dl,\n",
        "#           metrics=None, metrics_name=None, epochs=20, device=\"cpu\", task='binary'):\n",
        "\n",
        "\n",
        "#     print('train() called: model=%s, opt=%s(lr=%f), epochs=%d, device=%s\\n' % \\\n",
        "#           (type(model).__name__, type(optimizer).__name__,\n",
        "#            optimizer.param_groups[0]['lr'], epochs, device))\n",
        "\n",
        "#     metrics = metrics if metrics else []\n",
        "#     metrics_name = metrics_name if metrics_name else [metric.__name__ for metric in metrics]\n",
        "\n",
        "#     history = {} # Collects per-epoch loss and metrics like Keras' fit().\n",
        "#     history['loss'] = []\n",
        "#     history['val_loss'] = []\n",
        "#     for name in metrics_name:\n",
        "#         history[name] = []\n",
        "#         history[f'val_{name}'] = []\n",
        "\n",
        "#     # model.to(device)\n",
        "\n",
        "#     start_time_train = time.time()\n",
        "\n",
        "#     for epoch in range(epochs):\n",
        "\n",
        "#         # --- TRAIN AND EVALUATE ON TRAINING SET -----------------------------\n",
        "#         start_time_epoch = time.time()\n",
        "\n",
        "#         model.train()\n",
        "#         history_train = {name: 0 for name in ['loss']+metrics_name}\n",
        "\n",
        "#         for batch in train_dl:\n",
        "#             x    = batch[0].to(device)\n",
        "#             y    = batch[1].to(device)\n",
        "#             y_pred = model(x)\n",
        "#             loss = loss_fn(y_pred, y)\n",
        "\n",
        "#             optimizer.zero_grad()\n",
        "#             loss.backward()\n",
        "#             optimizer.step()\n",
        "\n",
        "#             y_pred = y_pred.detach().cpu().numpy()\n",
        "#             y = y.detach().cpu().numpy()\n",
        "\n",
        "\n",
        "#             history_train['loss'] += loss.item() * x.size(0)\n",
        "#             for name, func in zip(metrics_name, metrics):\n",
        "#               try:\n",
        "#                   history_train[name] += func(y, y_pred) * x.size(0)\n",
        "#               except:\n",
        "#                   if task == 'binary': y_pred_ = y_pred.round()\n",
        "#                   elif task == 'multiclass': y_pred_ = y_pred.argmax(axis=-1)\n",
        "#                   history_train[name] += func(y, y_pred_) * x.size(0)\n",
        "\n",
        "#         for name in history_train:\n",
        "#             history_train[name] /= len(train_dl.dataset)\n",
        "\n",
        "\n",
        "#         # --- EVALUATE ON VALIDATION SET -------------------------------------\n",
        "#         model.eval()\n",
        "#         history_val = {'val_' + name: 0 for name in metrics_name+['loss']}\n",
        "\n",
        "#         with torch.no_grad():\n",
        "#             for batch in val_dl:\n",
        "#                 x    = batch[0].to(device)\n",
        "#                 y    = batch[1].to(device)\n",
        "#                 y_pred = model(x)\n",
        "#                 loss = loss_fn(y_pred, y)\n",
        "\n",
        "#                 y_pred = y_pred.cpu().numpy()\n",
        "#                 y = y.cpu().numpy()\n",
        "\n",
        "#                 history_val['val_loss'] += loss.item() * x.size(0)\n",
        "#                 for name, func in zip(metrics_name, metrics):\n",
        "#                     try:\n",
        "#                         history_val['val_'+name] += func(y, y_pred) * x.size(0)\n",
        "#                     except:\n",
        "#                         if task == 'binary': y_pred_ = y_pred.round()\n",
        "#                         elif task == 'multiclass': y_pred_ = y_pred.argmax(axis=-1)\n",
        "\n",
        "#                         history_val['val_'+name] += func(y, y_pred_) * x.size(0)\n",
        "\n",
        "#         for name in history_val:\n",
        "#             history_val[name] /= len(val_dl.dataset)\n",
        "\n",
        "#         # PRINTING RESULTS\n",
        "\n",
        "#         end_time_epoch = time.time()\n",
        "\n",
        "#         for name in history_train:\n",
        "#             history[name].append(history_train[name])\n",
        "#             history['val_'+name].append(history_val['val_'+name])\n",
        "\n",
        "#         total_time_epoch = end_time_epoch - start_time_epoch\n",
        "\n",
        "#         print(f'Epoch {epoch+1:4d} {total_time_epoch:4.0f}sec', end='\\t')\n",
        "#         for name in history_train:\n",
        "#             print(f'{name}: {history[name][-1]:10.3g}', end='\\t')\n",
        "#             print(f\"val_{name}: {history['val_'+name][-1]:10.3g}\", end='\\t')\n",
        "#         print()\n",
        "\n",
        "#     # END OF TRAINING LOOP\n",
        "\n",
        "#     end_time_train       = time.time()\n",
        "#     total_time_train     = end_time_train - start_time_train\n",
        "#     print()\n",
        "#     print('Time total:     %5.2f sec' % (total_time_train))\n",
        "\n",
        "#     return history"
      ],
      "metadata": {
        "id": "Nxo4p3IUgOx5"
      },
      "execution_count": 524,
      "outputs": []
    },
    {
      "cell_type": "code",
      "source": [
        "import time\n",
        "\n",
        "def train(model, optimizer, loss_fn, train_dl, val_dl,\n",
        "          metrics=None, metrics_name=None, epochs=20, device='cpu', task='binary'):\n",
        "\n",
        "    print('train() called: model=%s, opt=%s(lr=%f), epochs=%d, device=%s\\n' % \\\n",
        "          (type(model).__name__, type(optimizer).__name__,\n",
        "           optimizer.param_groups[0]['lr'], epochs, device))\n",
        "\n",
        "    metrics = metrics if metrics else []\n",
        "    metrics_name = metrics_name if metrics_name else [metric.__name__ for metric in metrics]\n",
        "\n",
        "    history = {} # Collects per-epoch loss and metrics like Keras' fit().\n",
        "    history['lr'] = []\n",
        "    history['loss'] = []\n",
        "    history['val_loss'] = []\n",
        "    for name in metrics_name:\n",
        "        history[name] = []\n",
        "        history[f'val_{name}'] = []\n",
        "\n",
        "    start_time_train = time.time()\n",
        "\n",
        "    for epoch in range(epochs):\n",
        "\n",
        "        # --- TRAIN AND EVALUATE ON TRAINING SET -----------------------------\n",
        "        start_time_epoch = time.time()\n",
        "\n",
        "        model.train()\n",
        "        history_train = {name: 0 for name in ['loss']+metrics_name}\n",
        "\n",
        "        for batch in train_dl:\n",
        "            x    = batch[0].to(device)\n",
        "            y    = batch[1].to(device)\n",
        "            y_pred = model(x)\n",
        "            loss = loss_fn(y_pred, y)\n",
        "            y_pred = F.sigmoid(y_pred)\n",
        "\n",
        "            optimizer.zero_grad()\n",
        "            loss.backward()\n",
        "            optimizer.step()\n",
        "\n",
        "            y_pred = y_pred.detach().cpu().numpy()\n",
        "            y = y.detach().cpu().numpy()\n",
        "\n",
        "            history_train['loss'] += loss.item() * x.size(0)\n",
        "            for name, func in zip(metrics_name, metrics):\n",
        "              try:\n",
        "                  history_train[name] += func(y, y_pred) * x.size(0)\n",
        "              except:\n",
        "                  if task == 'binary': y_pred_ = y_pred.round()\n",
        "                  elif task == 'multiclass': y_pred_ = y_pred.argmax(axis=-1)\n",
        "                  history_train[name] += func(y, y_pred_) * x.size(0)\n",
        "\n",
        "        for name in history_train:\n",
        "            history_train[name] /= len(train_dl.dataset)\n",
        "\n",
        "        scheduler.step()\n",
        "        # optimizer.step()\n",
        "        history['lr'].append(scheduler.get_last_lr())\n",
        "\n",
        "\n",
        "        # --- EVALUATE ON VALIDATION SET -------------------------------------\n",
        "        model.eval()\n",
        "        history_val = {'val_' + name: 0 for name in metrics_name+['loss']}\n",
        "\n",
        "        with torch.no_grad():\n",
        "            for batch in val_dl:\n",
        "                x    = batch[0].to(device)\n",
        "                y    = batch[1].to(device)\n",
        "                y_pred = model(x)\n",
        "                loss = loss_fn(y_pred, y)\n",
        "                y_pred = F.sigmoid(y_pred)\n",
        "\n",
        "                y_pred = y_pred.cpu().numpy()\n",
        "                y = y.cpu().numpy()\n",
        "\n",
        "                history_val['val_loss'] += loss.item() * x.size(0)\n",
        "                for name, func in zip(metrics_name, metrics):\n",
        "                    try:\n",
        "                        history_val['val_'+name] += func(y, y_pred) * x.size(0)\n",
        "                    except:\n",
        "                        if task == 'binary': y_pred_ = y_pred.round()\n",
        "                        elif task == 'multiclass': y_pred_ = y_pred.argmax(axis=-1)\n",
        "\n",
        "                        history_val['val_'+name] += func(y, y_pred_) * x.size(0)\n",
        "\n",
        "        for name in history_val:\n",
        "            history_val[name] /= len(val_dl.dataset)\n",
        "\n",
        "        # PRINTING RESULTS\n",
        "\n",
        "        end_time_epoch = time.time()\n",
        "\n",
        "        for name in history_train:\n",
        "            history[name].append(history_train[name])\n",
        "            history['val_'+name].append(history_val['val_'+name])\n",
        "\n",
        "        total_time_epoch = end_time_epoch - start_time_epoch\n",
        "\n",
        "        print(f'Epoch {epoch+1:4d} {total_time_epoch:4.0f}sec', end='\\t')\n",
        "        for name in history_train:\n",
        "            print(f'{name}: {history[name][-1]:10.3g}', end='\\t')\n",
        "            print(f\"val_{name}: {history['val_'+name][-1]:10.3g}\", end='\\t')\n",
        "        print()\n",
        "\n",
        "    # END OF TRAINING LOOP\n",
        "\n",
        "    end_time_train       = time.time()\n",
        "    total_time_train     = end_time_train - start_time_train\n",
        "    print()\n",
        "    print('Time total:     %5.2f sec' % (total_time_train))\n",
        "\n",
        "    return history"
      ],
      "metadata": {
        "id": "IteDwmim4n3w"
      },
      "execution_count": 525,
      "outputs": []
    },
    {
      "cell_type": "code",
      "source": [
        "train_ds[0][0].shape"
      ],
      "metadata": {
        "id": "7DQu_Q9udr0o",
        "outputId": "2433d6ed-c8f3-4bb6-99a4-5410869957d1",
        "colab": {
          "base_uri": "https://localhost:8080/"
        }
      },
      "execution_count": 526,
      "outputs": [
        {
          "output_type": "execute_result",
          "data": {
            "text/plain": [
              "torch.Size([21])"
            ]
          },
          "metadata": {},
          "execution_count": 526
        }
      ]
    },
    {
      "cell_type": "code",
      "source": [
        "from sklearn.metrics import accuracy_score\n",
        "history = train(model, optimizer, loss_func, train_dl, test_dl,\n",
        "                epochs=200,\n",
        "                metrics=[accuracy_score],\n",
        "                device=device,\n",
        "                task='binary')"
      ],
      "metadata": {
        "id": "fREqgsc3eqD7",
        "outputId": "aa958c42-e7a7-4e3e-be54-8b154e829948",
        "colab": {
          "base_uri": "https://localhost:8080/"
        }
      },
      "execution_count": 527,
      "outputs": [
        {
          "output_type": "stream",
          "name": "stdout",
          "text": [
            "train() called: model=Model, opt=Adam(lr=0.100000), epochs=200, device=cpu\n",
            "\n",
            "Epoch    1    0sec\tloss:       0.38\tval_loss:       1.07\taccuracy_score:      0.482\tval_accuracy_score:      0.749\t\n",
            "Epoch    2    0sec\tloss:      0.051\tval_loss:      0.206\taccuracy_score:      0.482\tval_accuracy_score:       0.56\t\n",
            "Epoch    3    0sec\tloss:     0.0353\tval_loss:     0.0146\taccuracy_score:      0.488\tval_accuracy_score:      0.482\t\n",
            "Epoch    4    0sec\tloss:    0.00903\tval_loss:      0.111\taccuracy_score:      0.482\tval_accuracy_score:      0.482\t\n",
            "Epoch    5    0sec\tloss:    0.00387\tval_loss:    0.00432\taccuracy_score:      0.482\tval_accuracy_score:      0.482\t\n",
            "Epoch    6    0sec\tloss:    0.00202\tval_loss:   9.39e-05\taccuracy_score:      0.483\tval_accuracy_score:      0.491\t\n",
            "Epoch    7    0sec\tloss:     0.0586\tval_loss:      0.389\taccuracy_score:      0.487\tval_accuracy_score:      0.482\t\n",
            "Epoch    8    0sec\tloss:     0.0275\tval_loss:    0.00676\taccuracy_score:      0.504\tval_accuracy_score:      0.601\t\n",
            "Epoch    9    0sec\tloss:     0.0107\tval_loss:    0.00111\taccuracy_score:      0.663\tval_accuracy_score:      0.602\t\n",
            "Epoch   10    1sec\tloss:    0.00417\tval_loss:   0.000861\taccuracy_score:      0.698\tval_accuracy_score:       0.95\t\n",
            "Epoch   11    0sec\tloss:   0.000343\tval_loss:   7.59e-05\taccuracy_score:      0.974\tval_accuracy_score:      0.994\t\n",
            "Epoch   12    0sec\tloss:   0.000759\tval_loss:    0.00912\taccuracy_score:      0.993\tval_accuracy_score:      0.919\t\n",
            "Epoch   13    0sec\tloss:    0.00204\tval_loss:   0.000815\taccuracy_score:      0.977\tval_accuracy_score:      0.987\t\n",
            "Epoch   14    0sec\tloss:   0.000717\tval_loss:    0.00171\taccuracy_score:      0.979\tval_accuracy_score:      0.918\t\n",
            "Epoch   15    0sec\tloss:       0.11\tval_loss:      0.124\taccuracy_score:      0.665\tval_accuracy_score:      0.578\t\n",
            "Epoch   16    0sec\tloss:      0.259\tval_loss:      0.544\taccuracy_score:      0.548\tval_accuracy_score:      0.545\t\n",
            "Epoch   17    0sec\tloss:      0.315\tval_loss:      0.067\taccuracy_score:        0.6\tval_accuracy_score:      0.849\t\n",
            "Epoch   18    1sec\tloss:     0.0444\tval_loss:     0.0235\taccuracy_score:      0.857\tval_accuracy_score:      0.927\t\n",
            "Epoch   19    0sec\tloss:     0.0193\tval_loss:     0.0042\taccuracy_score:       0.91\tval_accuracy_score:      0.942\t\n",
            "Epoch   20    0sec\tloss:    0.00428\tval_loss:    0.00156\taccuracy_score:      0.957\tval_accuracy_score:      0.965\t\n",
            "Epoch   21    0sec\tloss:    0.00397\tval_loss:    0.00534\taccuracy_score:      0.967\tval_accuracy_score:      0.948\t\n",
            "Epoch   22    0sec\tloss:    0.00341\tval_loss:     0.0041\taccuracy_score:       0.96\tval_accuracy_score:       0.98\t\n",
            "Epoch   23    0sec\tloss:    0.00387\tval_loss:    0.00475\taccuracy_score:      0.949\tval_accuracy_score:      0.948\t\n",
            "Epoch   24    0sec\tloss:    0.00155\tval_loss:   0.000233\taccuracy_score:      0.973\tval_accuracy_score:       0.98\t\n",
            "Epoch   25    0sec\tloss:   0.000171\tval_loss:    0.00126\taccuracy_score:      0.975\tval_accuracy_score:      0.975\t\n",
            "Epoch   26    0sec\tloss:    0.00173\tval_loss:   5.77e-05\taccuracy_score:      0.978\tval_accuracy_score:      0.978\t\n",
            "Epoch   27    0sec\tloss:   0.000111\tval_loss:   0.000122\taccuracy_score:       0.97\tval_accuracy_score:      0.974\t\n",
            "Epoch   28    0sec\tloss:    4.7e-05\tval_loss:   3.61e-05\taccuracy_score:      0.976\tval_accuracy_score:      0.975\t\n",
            "Epoch   29    0sec\tloss:   4.75e-05\tval_loss:   2.81e-05\taccuracy_score:      0.975\tval_accuracy_score:      0.977\t\n",
            "Epoch   30    0sec\tloss:   3.28e-05\tval_loss:   2.62e-05\taccuracy_score:      0.976\tval_accuracy_score:       0.98\t\n",
            "Epoch   31    0sec\tloss:   2.96e-05\tval_loss:   2.22e-05\taccuracy_score:       0.98\tval_accuracy_score:       0.98\t\n",
            "Epoch   32    0sec\tloss:   2.45e-05\tval_loss:   2.01e-05\taccuracy_score:      0.981\tval_accuracy_score:       0.98\t\n",
            "Epoch   33    0sec\tloss:   1.35e-05\tval_loss:   1.58e-05\taccuracy_score:       0.98\tval_accuracy_score:      0.978\t\n",
            "Epoch   34    0sec\tloss:   2.43e-05\tval_loss:   1.36e-05\taccuracy_score:      0.978\tval_accuracy_score:       0.98\t\n",
            "Epoch   35    0sec\tloss:   1.46e-05\tval_loss:   1.38e-05\taccuracy_score:      0.979\tval_accuracy_score:      0.979\t\n",
            "Epoch   36    0sec\tloss:   3.06e-05\tval_loss:   1.09e-05\taccuracy_score:      0.979\tval_accuracy_score:      0.981\t\n",
            "Epoch   37    0sec\tloss:    1.9e-05\tval_loss:   1.13e-05\taccuracy_score:      0.982\tval_accuracy_score:      0.983\t\n",
            "Epoch   38    0sec\tloss:   8.66e-06\tval_loss:      1e-05\taccuracy_score:      0.984\tval_accuracy_score:      0.982\t\n",
            "Epoch   39    0sec\tloss:   1.18e-05\tval_loss:   8.13e-06\taccuracy_score:      0.982\tval_accuracy_score:      0.981\t\n",
            "Epoch   40    0sec\tloss:   7.57e-06\tval_loss:   7.65e-06\taccuracy_score:      0.985\tval_accuracy_score:      0.983\t\n",
            "Epoch   41    0sec\tloss:   6.96e-06\tval_loss:   6.08e-06\taccuracy_score:      0.985\tval_accuracy_score:      0.982\t\n",
            "Epoch   42    0sec\tloss:   6.91e-06\tval_loss:   5.42e-06\taccuracy_score:      0.985\tval_accuracy_score:      0.982\t\n",
            "Epoch   43    0sec\tloss:   1.06e-05\tval_loss:   6.37e-06\taccuracy_score:      0.987\tval_accuracy_score:      0.985\t\n",
            "Epoch   44    0sec\tloss:   6.26e-06\tval_loss:   5.48e-06\taccuracy_score:      0.985\tval_accuracy_score:      0.985\t\n",
            "Epoch   45    0sec\tloss:    7.1e-06\tval_loss:   4.24e-06\taccuracy_score:      0.985\tval_accuracy_score:      0.982\t\n",
            "Epoch   46    0sec\tloss:   1.88e-05\tval_loss:   1.31e-05\taccuracy_score:      0.986\tval_accuracy_score:      0.987\t\n",
            "Epoch   47    0sec\tloss:   1.15e-05\tval_loss:   1.12e-05\taccuracy_score:      0.985\tval_accuracy_score:      0.985\t\n",
            "Epoch   48    0sec\tloss:   9.93e-06\tval_loss:   9.51e-06\taccuracy_score:      0.985\tval_accuracy_score:      0.986\t\n",
            "Epoch   49    0sec\tloss:   7.88e-06\tval_loss:   6.59e-06\taccuracy_score:      0.986\tval_accuracy_score:      0.984\t\n",
            "Epoch   50    0sec\tloss:   8.69e-06\tval_loss:   6.57e-06\taccuracy_score:      0.986\tval_accuracy_score:      0.986\t\n",
            "Epoch   51    0sec\tloss:      1e-05\tval_loss:   5.68e-06\taccuracy_score:      0.985\tval_accuracy_score:      0.984\t\n",
            "Epoch   52    0sec\tloss:   7.49e-06\tval_loss:   4.52e-06\taccuracy_score:      0.984\tval_accuracy_score:      0.985\t\n",
            "Epoch   53    0sec\tloss:   5.93e-06\tval_loss:   3.33e-06\taccuracy_score:      0.986\tval_accuracy_score:      0.982\t\n",
            "Epoch   54    0sec\tloss:   4.79e-06\tval_loss:    2.9e-06\taccuracy_score:      0.984\tval_accuracy_score:      0.983\t\n",
            "Epoch   55    0sec\tloss:   5.12e-06\tval_loss:   2.21e-06\taccuracy_score:      0.986\tval_accuracy_score:      0.985\t\n",
            "Epoch   56    0sec\tloss:   3.84e-06\tval_loss:   2.55e-06\taccuracy_score:      0.987\tval_accuracy_score:      0.985\t\n",
            "Epoch   57    0sec\tloss:    3.8e-06\tval_loss:   1.66e-06\taccuracy_score:      0.985\tval_accuracy_score:      0.983\t\n",
            "Epoch   58    0sec\tloss:   2.67e-06\tval_loss:   2.37e-06\taccuracy_score:      0.985\tval_accuracy_score:      0.986\t\n",
            "Epoch   59    0sec\tloss:   9.12e-06\tval_loss:   3.76e-06\taccuracy_score:      0.987\tval_accuracy_score:      0.988\t\n",
            "Epoch   60    0sec\tloss:   2.42e-06\tval_loss:    2.6e-06\taccuracy_score:      0.987\tval_accuracy_score:      0.987\t\n",
            "Epoch   61    0sec\tloss:   3.16e-06\tval_loss:   2.26e-06\taccuracy_score:      0.988\tval_accuracy_score:      0.988\t\n",
            "Epoch   62    0sec\tloss:   2.07e-06\tval_loss:   1.62e-06\taccuracy_score:      0.986\tval_accuracy_score:      0.985\t\n",
            "Epoch   63    1sec\tloss:   6.97e-06\tval_loss:   1.47e-06\taccuracy_score:      0.988\tval_accuracy_score:      0.986\t\n",
            "Epoch   64    0sec\tloss:   2.33e-06\tval_loss:   1.15e-06\taccuracy_score:      0.989\tval_accuracy_score:      0.982\t\n",
            "Epoch   65    0sec\tloss:   2.11e-06\tval_loss:   1.04e-06\taccuracy_score:      0.989\tval_accuracy_score:      0.985\t\n",
            "Epoch   66    0sec\tloss:    2.3e-06\tval_loss:   9.79e-07\taccuracy_score:      0.988\tval_accuracy_score:      0.989\t\n",
            "Epoch   67    0sec\tloss:   4.69e-06\tval_loss:   1.74e-06\taccuracy_score:      0.987\tval_accuracy_score:      0.989\t\n",
            "Epoch   68    0sec\tloss:   1.97e-06\tval_loss:   1.33e-06\taccuracy_score:       0.99\tval_accuracy_score:      0.988\t\n",
            "Epoch   69    0sec\tloss:   2.99e-06\tval_loss:   2.51e-06\taccuracy_score:      0.988\tval_accuracy_score:       0.99\t\n",
            "Epoch   70    0sec\tloss:   1.39e-06\tval_loss:   1.15e-06\taccuracy_score:      0.987\tval_accuracy_score:      0.986\t\n",
            "Epoch   71    0sec\tloss:   9.66e-07\tval_loss:   7.75e-07\taccuracy_score:       0.99\tval_accuracy_score:      0.988\t\n",
            "Epoch   72    0sec\tloss:   2.65e-06\tval_loss:   1.03e-06\taccuracy_score:      0.989\tval_accuracy_score:      0.986\t\n",
            "Epoch   73    0sec\tloss:   1.84e-06\tval_loss:   6.67e-07\taccuracy_score:      0.989\tval_accuracy_score:      0.985\t\n",
            "Epoch   74    0sec\tloss:   2.07e-06\tval_loss:    6.5e-07\taccuracy_score:      0.988\tval_accuracy_score:      0.985\t\n",
            "Epoch   75    0sec\tloss:   1.56e-06\tval_loss:   6.46e-07\taccuracy_score:       0.99\tval_accuracy_score:      0.988\t\n",
            "Epoch   76    0sec\tloss:   1.58e-06\tval_loss:   9.84e-07\taccuracy_score:      0.988\tval_accuracy_score:      0.987\t\n",
            "Epoch   77    0sec\tloss:   2.06e-06\tval_loss:   7.08e-07\taccuracy_score:      0.988\tval_accuracy_score:       0.99\t\n",
            "Epoch   78    0sec\tloss:   2.33e-05\tval_loss:   8.83e-06\taccuracy_score:       0.99\tval_accuracy_score:      0.983\t\n",
            "Epoch   79    0sec\tloss:     0.0107\tval_loss:   0.000289\taccuracy_score:      0.942\tval_accuracy_score:      0.833\t\n",
            "Epoch   80    0sec\tloss:     0.0238\tval_loss:     0.0239\taccuracy_score:      0.833\tval_accuracy_score:      0.922\t\n",
            "Epoch   81    0sec\tloss:     0.0112\tval_loss:      0.694\taccuracy_score:      0.858\tval_accuracy_score:      0.543\t\n",
            "Epoch   82    0sec\tloss:    0.00275\tval_loss:   0.000125\taccuracy_score:      0.736\tval_accuracy_score:      0.677\t\n",
            "Epoch   83    0sec\tloss:   0.000701\tval_loss:   3.45e-05\taccuracy_score:      0.762\tval_accuracy_score:      0.775\t\n",
            "Epoch   84    0sec\tloss:    0.00168\tval_loss:   7.97e-05\taccuracy_score:      0.754\tval_accuracy_score:      0.691\t\n",
            "Epoch   85    0sec\tloss:   0.000371\tval_loss:   4.49e-05\taccuracy_score:      0.668\tval_accuracy_score:       0.67\t\n",
            "Epoch   86    0sec\tloss:   3.54e-05\tval_loss:   1.61e-05\taccuracy_score:      0.725\tval_accuracy_score:      0.751\t\n",
            "Epoch   87    0sec\tloss:   2.26e-05\tval_loss:   1.42e-05\taccuracy_score:      0.762\tval_accuracy_score:      0.758\t\n",
            "Epoch   88    0sec\tloss:   1.68e-05\tval_loss:    1.2e-05\taccuracy_score:      0.775\tval_accuracy_score:      0.782\t\n",
            "Epoch   89    0sec\tloss:   2.17e-05\tval_loss:   1.34e-05\taccuracy_score:      0.787\tval_accuracy_score:      0.788\t\n",
            "Epoch   90    0sec\tloss:   6.25e-06\tval_loss:   6.14e-06\taccuracy_score:       0.81\tval_accuracy_score:      0.809\t\n",
            "Epoch   91    0sec\tloss:   4.29e-06\tval_loss:   8.98e-06\taccuracy_score:      0.821\tval_accuracy_score:      0.823\t\n",
            "Epoch   92    0sec\tloss:   4.82e-05\tval_loss:    4.9e-06\taccuracy_score:      0.826\tval_accuracy_score:      0.823\t\n",
            "Epoch   93    0sec\tloss:   3.91e-06\tval_loss:   7.68e-06\taccuracy_score:      0.824\tval_accuracy_score:      0.837\t\n",
            "Epoch   94    0sec\tloss:   9.25e-06\tval_loss:   4.95e-06\taccuracy_score:      0.836\tval_accuracy_score:      0.828\t\n",
            "Epoch   95    0sec\tloss:   1.08e-05\tval_loss:   3.28e-06\taccuracy_score:      0.846\tval_accuracy_score:      0.845\t\n",
            "Epoch   96    0sec\tloss:   4.68e-06\tval_loss:   3.47e-06\taccuracy_score:      0.854\tval_accuracy_score:      0.845\t\n",
            "Epoch   97    0sec\tloss:   3.45e-06\tval_loss:   2.46e-06\taccuracy_score:      0.854\tval_accuracy_score:       0.86\t\n",
            "Epoch   98    0sec\tloss:   2.77e-06\tval_loss:   2.78e-06\taccuracy_score:      0.856\tval_accuracy_score:      0.851\t\n",
            "Epoch   99    1sec\tloss:   2.74e-06\tval_loss:   4.54e-06\taccuracy_score:      0.858\tval_accuracy_score:      0.863\t\n",
            "Epoch  100    0sec\tloss:   8.82e-06\tval_loss:   2.77e-06\taccuracy_score:      0.867\tval_accuracy_score:      0.854\t\n",
            "Epoch  101    0sec\tloss:    4.6e-06\tval_loss:   2.39e-06\taccuracy_score:      0.869\tval_accuracy_score:      0.874\t\n",
            "Epoch  102    0sec\tloss:   3.32e-06\tval_loss:   4.44e-06\taccuracy_score:      0.874\tval_accuracy_score:      0.861\t\n",
            "Epoch  103    0sec\tloss:   1.56e-06\tval_loss:   1.98e-06\taccuracy_score:      0.879\tval_accuracy_score:      0.868\t\n",
            "Epoch  104    0sec\tloss:   8.71e-05\tval_loss:     0.0144\taccuracy_score:      0.878\tval_accuracy_score:      0.862\t\n",
            "Epoch  105    0sec\tloss:    0.00191\tval_loss:   5.51e-05\taccuracy_score:      0.809\tval_accuracy_score:      0.783\t\n",
            "Epoch  106    0sec\tloss:   0.000123\tval_loss:   1.75e-05\taccuracy_score:      0.777\tval_accuracy_score:      0.778\t\n",
            "Epoch  107    0sec\tloss:   2.09e-05\tval_loss:   1.16e-05\taccuracy_score:      0.795\tval_accuracy_score:      0.809\t\n",
            "Epoch  108    1sec\tloss:   1.42e-05\tval_loss:   9.07e-06\taccuracy_score:      0.817\tval_accuracy_score:      0.815\t\n",
            "Epoch  109    0sec\tloss:    1.2e-05\tval_loss:   7.48e-06\taccuracy_score:       0.83\tval_accuracy_score:       0.81\t\n",
            "Epoch  110    0sec\tloss:   7.78e-06\tval_loss:   6.31e-06\taccuracy_score:       0.84\tval_accuracy_score:      0.831\t\n",
            "Epoch  111    0sec\tloss:   5.36e-06\tval_loss:   4.02e-06\taccuracy_score:      0.851\tval_accuracy_score:      0.844\t\n",
            "Epoch  112    0sec\tloss:   4.64e-06\tval_loss:   3.87e-06\taccuracy_score:      0.851\tval_accuracy_score:      0.862\t\n",
            "Epoch  113    0sec\tloss:   5.25e-06\tval_loss:   4.18e-06\taccuracy_score:       0.86\tval_accuracy_score:      0.854\t\n",
            "Epoch  114    0sec\tloss:   4.16e-06\tval_loss:   4.07e-06\taccuracy_score:      0.869\tval_accuracy_score:      0.854\t\n",
            "Epoch  115    0sec\tloss:    4.3e-06\tval_loss:   3.15e-06\taccuracy_score:      0.873\tval_accuracy_score:       0.87\t\n",
            "Epoch  116    0sec\tloss:   3.52e-06\tval_loss:   3.61e-06\taccuracy_score:      0.878\tval_accuracy_score:      0.871\t\n",
            "Epoch  117    0sec\tloss:   2.67e-06\tval_loss:   3.27e-06\taccuracy_score:      0.879\tval_accuracy_score:       0.86\t\n",
            "Epoch  118    0sec\tloss:   2.05e-06\tval_loss:   5.98e-06\taccuracy_score:      0.884\tval_accuracy_score:       0.86\t\n",
            "Epoch  119    0sec\tloss:   9.65e-05\tval_loss:     0.0107\taccuracy_score:      0.886\tval_accuracy_score:      0.881\t\n",
            "Epoch  120    0sec\tloss:     0.0189\tval_loss:    0.00183\taccuracy_score:      0.695\tval_accuracy_score:      0.892\t\n",
            "Epoch  121    0sec\tloss:   0.000694\tval_loss:   6.13e-06\taccuracy_score:      0.924\tval_accuracy_score:      0.974\t\n",
            "Epoch  122    0sec\tloss:    0.00203\tval_loss:    0.00016\taccuracy_score:      0.896\tval_accuracy_score:      0.896\t\n",
            "Epoch  123    0sec\tloss:    0.00153\tval_loss:   0.000307\taccuracy_score:      0.886\tval_accuracy_score:      0.892\t\n",
            "Epoch  124    0sec\tloss:    0.00405\tval_loss:    0.00178\taccuracy_score:      0.858\tval_accuracy_score:      0.881\t\n",
            "Epoch  125    0sec\tloss:    0.00309\tval_loss:   0.000491\taccuracy_score:       0.84\tval_accuracy_score:      0.903\t\n",
            "Epoch  126    0sec\tloss:    0.00117\tval_loss:   0.000137\taccuracy_score:       0.89\tval_accuracy_score:      0.944\t\n",
            "Epoch  127    0sec\tloss:   0.000106\tval_loss:   1.56e-05\taccuracy_score:      0.965\tval_accuracy_score:      0.979\t\n",
            "Epoch  128    0sec\tloss:    0.00018\tval_loss:   1.02e-05\taccuracy_score:      0.966\tval_accuracy_score:      0.966\t\n",
            "Epoch  129    0sec\tloss:   0.000855\tval_loss:   9.71e-06\taccuracy_score:      0.963\tval_accuracy_score:       0.97\t\n",
            "Epoch  130    0sec\tloss:   9.68e-06\tval_loss:   4.99e-06\taccuracy_score:      0.974\tval_accuracy_score:      0.978\t\n",
            "Epoch  131    0sec\tloss:   7.49e-06\tval_loss:   4.54e-06\taccuracy_score:      0.976\tval_accuracy_score:       0.98\t\n",
            "Epoch  132    0sec\tloss:   5.86e-06\tval_loss:   3.57e-06\taccuracy_score:      0.974\tval_accuracy_score:      0.983\t\n",
            "Epoch  133    0sec\tloss:   1.93e-05\tval_loss:   2.58e-06\taccuracy_score:      0.979\tval_accuracy_score:      0.979\t\n",
            "Epoch  134    0sec\tloss:   1.47e-05\tval_loss:   2.53e-06\taccuracy_score:      0.977\tval_accuracy_score:      0.983\t\n",
            "Epoch  135    0sec\tloss:   5.34e-06\tval_loss:   1.87e-06\taccuracy_score:      0.981\tval_accuracy_score:      0.982\t\n",
            "Epoch  136    1sec\tloss:   3.12e-06\tval_loss:   1.67e-06\taccuracy_score:      0.981\tval_accuracy_score:      0.982\t\n",
            "Epoch  137    0sec\tloss:    2.7e-06\tval_loss:   1.27e-06\taccuracy_score:      0.983\tval_accuracy_score:      0.981\t\n",
            "Epoch  138    0sec\tloss:   5.62e-06\tval_loss:   1.51e-06\taccuracy_score:       0.98\tval_accuracy_score:      0.985\t\n",
            "Epoch  139    0sec\tloss:   2.96e-06\tval_loss:    1.3e-06\taccuracy_score:      0.983\tval_accuracy_score:      0.985\t\n",
            "Epoch  140    0sec\tloss:      5e-06\tval_loss:   1.08e-06\taccuracy_score:      0.982\tval_accuracy_score:      0.986\t\n",
            "Epoch  141    0sec\tloss:   3.92e-06\tval_loss:   8.61e-07\taccuracy_score:      0.983\tval_accuracy_score:      0.983\t\n",
            "Epoch  142    0sec\tloss:   4.23e-06\tval_loss:      7e-07\taccuracy_score:      0.986\tval_accuracy_score:      0.984\t\n",
            "Epoch  143    0sec\tloss:   2.85e-06\tval_loss:    7.7e-07\taccuracy_score:      0.984\tval_accuracy_score:      0.989\t\n",
            "Epoch  144    0sec\tloss:   1.22e-06\tval_loss:   6.17e-07\taccuracy_score:      0.986\tval_accuracy_score:      0.986\t\n",
            "Epoch  145    0sec\tloss:   1.19e-06\tval_loss:   6.48e-07\taccuracy_score:      0.985\tval_accuracy_score:      0.988\t\n",
            "Epoch  146    0sec\tloss:   1.29e-06\tval_loss:   5.35e-07\taccuracy_score:      0.987\tval_accuracy_score:      0.987\t\n",
            "Epoch  147    0sec\tloss:   2.53e-06\tval_loss:   5.39e-07\taccuracy_score:      0.989\tval_accuracy_score:      0.988\t\n",
            "Epoch  148    0sec\tloss:   8.85e-07\tval_loss:   4.46e-07\taccuracy_score:      0.987\tval_accuracy_score:      0.987\t\n",
            "Epoch  149    0sec\tloss:    1.4e-06\tval_loss:   4.94e-07\taccuracy_score:      0.988\tval_accuracy_score:      0.991\t\n",
            "Epoch  150    0sec\tloss:   9.73e-07\tval_loss:   4.11e-07\taccuracy_score:      0.989\tval_accuracy_score:      0.987\t\n",
            "Epoch  151    0sec\tloss:   8.03e-07\tval_loss:   4.73e-07\taccuracy_score:      0.986\tval_accuracy_score:      0.991\t\n",
            "Epoch  152    0sec\tloss:   5.91e-07\tval_loss:   3.93e-07\taccuracy_score:       0.99\tval_accuracy_score:      0.986\t\n",
            "Epoch  153    1sec\tloss:   1.52e-06\tval_loss:   3.49e-07\taccuracy_score:      0.988\tval_accuracy_score:      0.986\t\n",
            "Epoch  154    0sec\tloss:   1.08e-06\tval_loss:   3.54e-07\taccuracy_score:      0.986\tval_accuracy_score:      0.991\t\n",
            "Epoch  155    0sec\tloss:   2.22e-06\tval_loss:   3.04e-07\taccuracy_score:      0.987\tval_accuracy_score:      0.993\t\n",
            "Epoch  156    0sec\tloss:   7.15e-07\tval_loss:    2.2e-07\taccuracy_score:       0.99\tval_accuracy_score:      0.987\t\n",
            "Epoch  157    0sec\tloss:   1.41e-06\tval_loss:    2.8e-07\taccuracy_score:      0.988\tval_accuracy_score:       0.99\t\n",
            "Epoch  158    0sec\tloss:   4.15e-07\tval_loss:   2.57e-07\taccuracy_score:       0.99\tval_accuracy_score:      0.987\t\n",
            "Epoch  159    0sec\tloss:   5.41e-07\tval_loss:   2.33e-07\taccuracy_score:      0.989\tval_accuracy_score:       0.99\t\n",
            "Epoch  160    0sec\tloss:   6.26e-07\tval_loss:   1.92e-07\taccuracy_score:       0.99\tval_accuracy_score:       0.99\t\n",
            "Epoch  161    0sec\tloss:   8.05e-07\tval_loss:   2.19e-07\taccuracy_score:      0.987\tval_accuracy_score:      0.993\t\n",
            "Epoch  162    0sec\tloss:   8.85e-07\tval_loss:   1.69e-07\taccuracy_score:      0.989\tval_accuracy_score:      0.988\t\n",
            "Epoch  163    0sec\tloss:   3.81e-07\tval_loss:   1.86e-07\taccuracy_score:      0.988\tval_accuracy_score:      0.993\t\n",
            "Epoch  164    0sec\tloss:   1.69e-06\tval_loss:   2.06e-07\taccuracy_score:      0.992\tval_accuracy_score:      0.994\t\n",
            "Epoch  165    0sec\tloss:   3.25e-06\tval_loss:   1.63e-07\taccuracy_score:      0.987\tval_accuracy_score:       0.99\t\n",
            "Epoch  166    0sec\tloss:   3.19e-07\tval_loss:   1.51e-07\taccuracy_score:      0.989\tval_accuracy_score:       0.99\t\n",
            "Epoch  167    0sec\tloss:   3.76e-07\tval_loss:   1.39e-07\taccuracy_score:      0.987\tval_accuracy_score:      0.991\t\n",
            "Epoch  168    0sec\tloss:   5.13e-07\tval_loss:   1.53e-07\taccuracy_score:      0.987\tval_accuracy_score:      0.993\t\n",
            "Epoch  169    0sec\tloss:   2.64e-07\tval_loss:   1.29e-07\taccuracy_score:      0.989\tval_accuracy_score:       0.99\t\n",
            "Epoch  170    0sec\tloss:   2.83e-06\tval_loss:   1.36e-07\taccuracy_score:      0.987\tval_accuracy_score:      0.992\t\n",
            "Epoch  171    0sec\tloss:   8.19e-07\tval_loss:   1.31e-07\taccuracy_score:       0.99\tval_accuracy_score:      0.993\t\n",
            "Epoch  172    0sec\tloss:   1.73e-06\tval_loss:    1.4e-07\taccuracy_score:      0.988\tval_accuracy_score:      0.992\t\n",
            "Epoch  173    0sec\tloss:   3.74e-07\tval_loss:   1.24e-07\taccuracy_score:       0.99\tval_accuracy_score:      0.993\t\n",
            "Epoch  174    0sec\tloss:   6.03e-07\tval_loss:   1.52e-07\taccuracy_score:      0.992\tval_accuracy_score:      0.998\t\n",
            "Epoch  175    0sec\tloss:   3.58e-07\tval_loss:   1.45e-07\taccuracy_score:      0.992\tval_accuracy_score:      0.998\t\n",
            "Epoch  176    0sec\tloss:   2.11e-07\tval_loss:   1.21e-07\taccuracy_score:      0.994\tval_accuracy_score:      0.997\t\n",
            "Epoch  177    0sec\tloss:   1.91e-07\tval_loss:    1.1e-07\taccuracy_score:      0.993\tval_accuracy_score:      0.996\t\n",
            "Epoch  178    0sec\tloss:   4.42e-07\tval_loss:   9.25e-08\taccuracy_score:      0.993\tval_accuracy_score:      0.995\t\n",
            "Epoch  179    0sec\tloss:   2.87e-07\tval_loss:   8.07e-08\taccuracy_score:      0.993\tval_accuracy_score:      0.993\t\n",
            "Epoch  180    0sec\tloss:   3.21e-07\tval_loss:   8.47e-08\taccuracy_score:      0.994\tval_accuracy_score:      0.994\t\n",
            "Epoch  181    0sec\tloss:   2.49e-07\tval_loss:   9.56e-08\taccuracy_score:      0.992\tval_accuracy_score:      0.997\t\n",
            "Epoch  182    0sec\tloss:   4.54e-07\tval_loss:   1.04e-07\taccuracy_score:      0.993\tval_accuracy_score:      0.998\t\n",
            "Epoch  183    0sec\tloss:   2.02e-07\tval_loss:   8.41e-08\taccuracy_score:      0.993\tval_accuracy_score:      0.998\t\n",
            "Epoch  184    0sec\tloss:   8.47e-07\tval_loss:   7.16e-08\taccuracy_score:      0.991\tval_accuracy_score:      0.996\t\n",
            "Epoch  185    0sec\tloss:   1.46e-07\tval_loss:   7.79e-08\taccuracy_score:      0.992\tval_accuracy_score:      0.997\t\n",
            "Epoch  186    0sec\tloss:   2.68e-07\tval_loss:   7.69e-08\taccuracy_score:      0.992\tval_accuracy_score:      0.996\t\n",
            "Epoch  187    0sec\tloss:   4.75e-07\tval_loss:   5.83e-08\taccuracy_score:      0.993\tval_accuracy_score:      0.994\t\n",
            "Epoch  188    0sec\tloss:    1.6e-07\tval_loss:   7.24e-08\taccuracy_score:      0.991\tval_accuracy_score:      0.997\t\n",
            "Epoch  189    0sec\tloss:   1.12e-07\tval_loss:   6.25e-08\taccuracy_score:      0.992\tval_accuracy_score:      0.995\t\n",
            "Epoch  190    0sec\tloss:   2.83e-07\tval_loss:   6.55e-08\taccuracy_score:       0.99\tval_accuracy_score:      0.996\t\n",
            "Epoch  191    0sec\tloss:   1.06e-07\tval_loss:   5.46e-08\taccuracy_score:      0.994\tval_accuracy_score:      0.995\t\n",
            "Epoch  192    0sec\tloss:   1.39e-07\tval_loss:   5.73e-08\taccuracy_score:      0.992\tval_accuracy_score:      0.994\t\n",
            "Epoch  193    0sec\tloss:   0.000804\tval_loss:   1.33e-06\taccuracy_score:      0.993\tval_accuracy_score:      0.996\t\n",
            "Epoch  194    0sec\tloss:     0.0198\tval_loss:     0.0136\taccuracy_score:      0.693\tval_accuracy_score:      0.942\t\n",
            "Epoch  195    0sec\tloss:    0.00233\tval_loss:     0.0161\taccuracy_score:      0.898\tval_accuracy_score:       0.95\t\n",
            "Epoch  196    0sec\tloss:     0.0483\tval_loss:      0.158\taccuracy_score:      0.719\tval_accuracy_score:      0.567\t\n",
            "Epoch  197    0sec\tloss:     0.0233\tval_loss:     0.0185\taccuracy_score:      0.711\tval_accuracy_score:      0.796\t\n",
            "Epoch  198    0sec\tloss:     0.0344\tval_loss:    0.00832\taccuracy_score:      0.943\tval_accuracy_score:      0.946\t\n",
            "Epoch  199    1sec\tloss:     0.0107\tval_loss:    0.00117\taccuracy_score:      0.879\tval_accuracy_score:      0.807\t\n",
            "Epoch  200    0sec\tloss:    0.00085\tval_loss:    2.4e-05\taccuracy_score:      0.816\tval_accuracy_score:      0.875\t\n",
            "\n",
            "Time total:     63.88 sec\n"
          ]
        }
      ]
    },
    {
      "cell_type": "code",
      "source": [
        "import matplotlib.pyplot as plt\n",
        "\n",
        "plt.plot(history[\"loss\"])\n",
        "plt.plot(history[\"val_loss\"])\n"
      ],
      "metadata": {
        "id": "HiODsFUWgAKF",
        "outputId": "16cf43f6-4d9b-4652-f5a8-03ce436bd147",
        "colab": {
          "base_uri": "https://localhost:8080/",
          "height": 448
        }
      },
      "execution_count": 528,
      "outputs": [
        {
          "output_type": "execute_result",
          "data": {
            "text/plain": [
              "[<matplotlib.lines.Line2D at 0x78ec64a9ace0>]"
            ]
          },
          "metadata": {},
          "execution_count": 528
        },
        {
          "output_type": "display_data",
          "data": {
            "text/plain": [
              "<Figure size 640x480 with 1 Axes>"
            ],
            "image/png": "[encoded data removed]"
          },
          "metadata": {}
        }
      ]
    },
    {
      "cell_type": "code",
      "source": [
        "import matplotlib.pyplot as plt\n",
        "\n",
        "plt.plot(history[\"accuracy_score\"])\n",
        "plt.plot(history[\"val_accuracy_score\"])"
      ],
      "metadata": {
        "id": "IL3QPtnagpZQ",
        "outputId": "dfcc774d-c98d-424b-a3f8-2e21ab65635a",
        "colab": {
          "base_uri": "https://localhost:8080/",
          "height": 448
        }
      },
      "execution_count": 529,
      "outputs": [
        {
          "output_type": "execute_result",
          "data": {
            "text/plain": [
              "[<matplotlib.lines.Line2D at 0x78ec62e04fa0>]"
            ]
          },
          "metadata": {},
          "execution_count": 529
        },
        {
          "output_type": "display_data",
          "data": {
            "text/plain": [
              "<Figure size 640x480 with 1 Axes>"
            ],
            "image/png": "[encoded data removed]"
          },
          "metadata": {}
        }
      ]
    },
    {
      "cell_type": "code",
      "source": [
        "from sklearn.metrics import ConfusionMatrixDisplay\n",
        "\n",
        "y_pred = model.predict(X_test)\n",
        "\n",
        "\n",
        "ConfusionMatrixDisplay.from_predictions(y_test, y_pred.round())"
      ],
      "metadata": {
        "id": "bdQUJjkegv3n",
        "outputId": "af4f15d6-e608-4716-dea3-25c975c107e8",
        "colab": {
          "base_uri": "https://localhost:8080/",
          "height": 467
        }
      },
      "execution_count": 530,
      "outputs": [
        {
          "output_type": "execute_result",
          "data": {
            "text/plain": [
              "<sklearn.metrics._plot.confusion_matrix.ConfusionMatrixDisplay at 0x78ec62fb2da0>"
            ]
          },
          "metadata": {},
          "execution_count": 530
        },
        {
          "output_type": "display_data",
          "data": {
            "text/plain": [
              "<Figure size 640x480 with 2 Axes>"
            ],
            "image/png": "[encoded data removed]"
          },
          "metadata": {}
        }
      ]
    },
    {
      "cell_type": "markdown",
      "source": [
        "# Завдання 6\n",
        "Збережіть нейромережу та зробіть прогноз"
      ],
      "metadata": {
        "id": "aoclw4XlgPhB"
      }
    },
    {
      "cell_type": "code",
      "source": [
        "torch.save(model, 'model.pt')\n",
        "\n",
        "model = torch.load(\"/content/model.pt\")\n",
        "model = model.to(device)\n",
        "\n",
        "\n",
        "\n",
        "X_data = torch.FloatTensor(X.iloc[:1].values)\n",
        "X_data = X_data.to(device)\n",
        "\n",
        "print(X_data)\n",
        "print(X_data.shape)\n",
        "print(y[0])"
      ],
      "metadata": {
        "id": "UzVFg-KjgYgy",
        "outputId": "981b5df1-a36d-4a9e-f359-b14e4f37f33a",
        "colab": {
          "base_uri": "https://localhost:8080/"
        }
      },
      "execution_count": 531,
      "outputs": [
        {
          "output_type": "stream",
          "name": "stdout",
          "text": [
            "tensor([[1.0000, 0.6667, 0.4444, 1.0000, 0.7500, 1.0000, 0.0000, 1.0000, 0.3636,\n",
            "         0.0000, 0.7500, 0.6667, 0.6667, 0.8750, 0.8750, 0.6667, 0.5000, 1.0000,\n",
            "         0.2500, 0.6000, 0.8333]])\n",
            "torch.Size([1, 21])\n",
            "1\n"
          ]
        }
      ]
    },
    {
      "cell_type": "code",
      "source": [
        "res = model(X_data)\n",
        "with torch.no_grad():\n",
        "  print(res)\n",
        "\n"
      ],
      "metadata": {
        "id": "wAL__x13n1WP",
        "outputId": "9b3ad103-710f-4e13-ff42-93986a51129a",
        "colab": {
          "base_uri": "https://localhost:8080/"
        }
      },
      "execution_count": 532,
      "outputs": [
        {
          "output_type": "stream",
          "name": "stdout",
          "text": [
            "tensor([[1.]], grad_fn=<SigmoidBackward0>)\n"
          ]
        }
      ]
    }
  ]
}