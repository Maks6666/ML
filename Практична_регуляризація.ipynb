{
  "nbformat": 4,
  "nbformat_minor": 0,
  "metadata": {
    "colab": {
      "provenance": [],
      "gpuType": "T4",
      "include_colab_link": true
    },
    "kernelspec": {
      "name": "python3",
      "display_name": "Python 3"
    },
    "language_info": {
      "name": "python"
    },
    "accelerator": "GPU"
  },
  "cells": [
    {
      "cell_type": "markdown",
      "metadata": {
        "id": "view-in-github",
        "colab_type": "text"
      },
      "source": [
        "<a href=\"https://colab.research.google.com/github/Maks6666/ML/blob/main/%D0%9F%D1%80%D0%B0%D0%BA%D1%82%D0%B8%D1%87%D0%BD%D0%B0_%D1%80%D0%B5%D0%B3%D1%83%D0%BB%D1%8F%D1%80%D0%B8%D0%B7%D0%B0%D1%86%D1%96%D1%8F.ipynb\" target=\"_parent\"><img src=\"https://colab.research.google.com/assets/colab-badge.svg\" alt=\"Open In Colab\"/></a>"
      ]
    },
    {
      "cell_type": "markdown",
      "source": [
        "Імпорт модулів"
      ],
      "metadata": {
        "id": "w1r0k1UheNCz"
      }
    },
    {
      "cell_type": "code",
      "execution_count": 9,
      "metadata": {
        "id": "4XxgJqCDoExm"
      },
      "outputs": [],
      "source": [
        "import pandas as pd\n",
        "import torch\n",
        "from sklearn.model_selection import train_test_split"
      ]
    },
    {
      "cell_type": "code",
      "source": [
        "device = \"cuda\" if torch.cuda.is_available() else \"cpu\"\n",
        "torch.set_default_device(device)"
      ],
      "metadata": {
        "id": "5XC2Q9AyrUDs"
      },
      "execution_count": 5,
      "outputs": []
    },
    {
      "cell_type": "markdown",
      "source": [
        "Дані про розпад протонів\n",
        "\n",
        "[посилання](https://www.kaggle.com/datasets/fedesoriano/multijet-primary-dataset)"
      ],
      "metadata": {
        "id": "Kpk2KycTeQEE"
      }
    },
    {
      "cell_type": "code",
      "source": [
        "# трохи обробки даних\n",
        "df = pd.read_csv('https://raw.githubusercontent.com/HalyshAnton/IT-Step-Pyton-AI/main/module3/data/MultiJetRun2010B.csv')\n",
        "\n",
        "df = df[df['nBJets'] != 2]\n",
        "\n",
        "columns = df.columns.delete(-1)\n",
        "data = df[columns]\n",
        "df[columns] = (data - data.min()) / (data.max() - data.min())"
      ],
      "metadata": {
        "id": "926S2f5pdnH6"
      },
      "execution_count": 6,
      "outputs": []
    },
    {
      "cell_type": "markdown",
      "source": [
        "Дані погано збалансовані"
      ],
      "metadata": {
        "id": "Mq24yRptMSrO"
      }
    },
    {
      "cell_type": "code",
      "source": [
        "df['nBJets'].value_counts()"
      ],
      "metadata": {
        "id": "X6CQ04GdKnuu",
        "outputId": "6f24d38c-f31f-434f-df90-8011badadb1b",
        "colab": {
          "base_uri": "https://localhost:8080/",
          "height": 178
        }
      },
      "execution_count": 7,
      "outputs": [
        {
          "output_type": "execute_result",
          "data": {
            "text/plain": [
              "nBJets\n",
              "0    20615\n",
              "1     1056\n",
              "Name: count, dtype: int64"
            ],
            "text/html": [
              "<table border=\"1\" class=\"dataframe\">\n",
              "  <thead>\n",
              "    <tr style=\"text-align: right;\">\n",
              "      <th></th>\n",
              "      <th>count</th>\n",
              "    </tr>\n",
              "    <tr>\n",
              "      <th>nBJets</th>\n",
              "      <th></th>\n",
              "    </tr>\n",
              "  </thead>\n",
              "  <tbody>\n",
              "    <tr>\n",
              "      <th>0</th>\n",
              "      <td>20615</td>\n",
              "    </tr>\n",
              "    <tr>\n",
              "      <th>1</th>\n",
              "      <td>1056</td>\n",
              "    </tr>\n",
              "  </tbody>\n",
              "</table><br><label><b>dtype:</b> int64</label>"
            ]
          },
          "metadata": {},
          "execution_count": 7
        }
      ]
    },
    {
      "cell_type": "code",
      "source": [
        "df.head()"
      ],
      "metadata": {
        "colab": {
          "base_uri": "https://localhost:8080/",
          "height": 226
        },
        "id": "eG6_dawddqwd",
        "outputId": "729c04cd-d0ee-4d56-9543-fa0c5c48fc88"
      },
      "execution_count": 8,
      "outputs": [
        {
          "output_type": "execute_result",
          "data": {
            "text/plain": [
              "        Run  Lumi     Event        MR       Rsq        E1       Px1       Py1  \\\n",
              "0  0.082072   0.0  0.000002  0.077191  0.041860  0.044618  0.342725  0.531326   \n",
              "1  0.082072   0.0  0.000006  0.052182  0.055190  0.018690  0.493614  0.585784   \n",
              "2  0.082072   0.0  0.000015  0.154156  0.035263  0.101251  0.540018  0.671386   \n",
              "3  0.082072   0.0  0.000048  0.106599  0.123328  0.063472  0.306290  0.523352   \n",
              "4  0.082072   0.0  0.000063  0.072599  0.024611  0.383563  0.508826  0.564737   \n",
              "\n",
              "        Pz1        E2       Px2       Py2       Pz2        HT       MET  \\\n",
              "0  0.480732  0.055588  0.696681  0.457241  0.440224  0.061659  0.043047   \n",
              "1  0.491979  0.017684  0.567978  0.430552  0.474613  0.025133  0.034687   \n",
              "2  0.470196  0.273968  0.533484  0.338381  0.325311  0.165718  0.059381   \n",
              "3  0.483465  0.039306  0.713922  0.422854  0.493248  0.101707  0.108566   \n",
              "4  0.292545  0.224039  0.550834  0.433906  0.361549  0.110721  0.018941   \n",
              "\n",
              "   nJets  nBJets  \n",
              "0    0.0       0  \n",
              "1    0.0       0  \n",
              "2    0.2       0  \n",
              "3    0.0       0  \n",
              "4    0.2       0  "
            ],
            "text/html": [
              "\n",
              "  <div id=\"df-af9ef7ff-cdfc-4272-b59a-40ac816d52eb\" class=\"colab-df-container\">\n",
              "    <div>\n",
              "<style scoped>\n",
              "    .dataframe tbody tr th:only-of-type {\n",
              "        vertical-align: middle;\n",
              "    }\n",
              "\n",
              "    .dataframe tbody tr th {\n",
              "        vertical-align: top;\n",
              "    }\n",
              "\n",
              "    .dataframe thead th {\n",
              "        text-align: right;\n",
              "    }\n",
              "</style>\n",
              "<table border=\"1\" class=\"dataframe\">\n",
              "  <thead>\n",
              "    <tr style=\"text-align: right;\">\n",
              "      <th></th>\n",
              "      <th>Run</th>\n",
              "      <th>Lumi</th>\n",
              "      <th>Event</th>\n",
              "      <th>MR</th>\n",
              "      <th>Rsq</th>\n",
              "      <th>E1</th>\n",
              "      <th>Px1</th>\n",
              "      <th>Py1</th>\n",
              "      <th>Pz1</th>\n",
              "      <th>E2</th>\n",
              "      <th>Px2</th>\n",
              "      <th>Py2</th>\n",
              "      <th>Pz2</th>\n",
              "      <th>HT</th>\n",
              "      <th>MET</th>\n",
              "      <th>nJets</th>\n",
              "      <th>nBJets</th>\n",
              "    </tr>\n",
              "  </thead>\n",
              "  <tbody>\n",
              "    <tr>\n",
              "      <th>0</th>\n",
              "      <td>0.082072</td>\n",
              "      <td>0.0</td>\n",
              "      <td>0.000002</td>\n",
              "      <td>0.077191</td>\n",
              "      <td>0.041860</td>\n",
              "      <td>0.044618</td>\n",
              "      <td>0.342725</td>\n",
              "      <td>0.531326</td>\n",
              "      <td>0.480732</td>\n",
              "      <td>0.055588</td>\n",
              "      <td>0.696681</td>\n",
              "      <td>0.457241</td>\n",
              "      <td>0.440224</td>\n",
              "      <td>0.061659</td>\n",
              "      <td>0.043047</td>\n",
              "      <td>0.0</td>\n",
              "      <td>0</td>\n",
              "    </tr>\n",
              "    <tr>\n",
              "      <th>1</th>\n",
              "      <td>0.082072</td>\n",
              "      <td>0.0</td>\n",
              "      <td>0.000006</td>\n",
              "      <td>0.052182</td>\n",
              "      <td>0.055190</td>\n",
              "      <td>0.018690</td>\n",
              "      <td>0.493614</td>\n",
              "      <td>0.585784</td>\n",
              "      <td>0.491979</td>\n",
              "      <td>0.017684</td>\n",
              "      <td>0.567978</td>\n",
              "      <td>0.430552</td>\n",
              "      <td>0.474613</td>\n",
              "      <td>0.025133</td>\n",
              "      <td>0.034687</td>\n",
              "      <td>0.0</td>\n",
              "      <td>0</td>\n",
              "    </tr>\n",
              "    <tr>\n",
              "      <th>2</th>\n",
              "      <td>0.082072</td>\n",
              "      <td>0.0</td>\n",
              "      <td>0.000015</td>\n",
              "      <td>0.154156</td>\n",
              "      <td>0.035263</td>\n",
              "      <td>0.101251</td>\n",
              "      <td>0.540018</td>\n",
              "      <td>0.671386</td>\n",
              "      <td>0.470196</td>\n",
              "      <td>0.273968</td>\n",
              "      <td>0.533484</td>\n",
              "      <td>0.338381</td>\n",
              "      <td>0.325311</td>\n",
              "      <td>0.165718</td>\n",
              "      <td>0.059381</td>\n",
              "      <td>0.2</td>\n",
              "      <td>0</td>\n",
              "    </tr>\n",
              "    <tr>\n",
              "      <th>3</th>\n",
              "      <td>0.082072</td>\n",
              "      <td>0.0</td>\n",
              "      <td>0.000048</td>\n",
              "      <td>0.106599</td>\n",
              "      <td>0.123328</td>\n",
              "      <td>0.063472</td>\n",
              "      <td>0.306290</td>\n",
              "      <td>0.523352</td>\n",
              "      <td>0.483465</td>\n",
              "      <td>0.039306</td>\n",
              "      <td>0.713922</td>\n",
              "      <td>0.422854</td>\n",
              "      <td>0.493248</td>\n",
              "      <td>0.101707</td>\n",
              "      <td>0.108566</td>\n",
              "      <td>0.0</td>\n",
              "      <td>0</td>\n",
              "    </tr>\n",
              "    <tr>\n",
              "      <th>4</th>\n",
              "      <td>0.082072</td>\n",
              "      <td>0.0</td>\n",
              "      <td>0.000063</td>\n",
              "      <td>0.072599</td>\n",
              "      <td>0.024611</td>\n",
              "      <td>0.383563</td>\n",
              "      <td>0.508826</td>\n",
              "      <td>0.564737</td>\n",
              "      <td>0.292545</td>\n",
              "      <td>0.224039</td>\n",
              "      <td>0.550834</td>\n",
              "      <td>0.433906</td>\n",
              "      <td>0.361549</td>\n",
              "      <td>0.110721</td>\n",
              "      <td>0.018941</td>\n",
              "      <td>0.2</td>\n",
              "      <td>0</td>\n",
              "    </tr>\n",
              "  </tbody>\n",
              "</table>\n",
              "</div>\n",
              "    <div class=\"colab-df-buttons\">\n",
              "\n",
              "  <div class=\"colab-df-container\">\n",
              "    <button class=\"colab-df-convert\" onclick=\"convertToInteractive('df-af9ef7ff-cdfc-4272-b59a-40ac816d52eb')\"\n",
              "            title=\"Convert this dataframe to an interactive table.\"\n",
              "            style=\"display:none;\">\n",
              "\n",
              "  <svg xmlns=\"http://www.w3.org/2000/svg\" height=\"24px\" viewBox=\"0 -960 960 960\">\n",
              "    <path d=\"M120-120v-720h720v720H120Zm60-500h600v-160H180v160Zm220 220h160v-160H400v160Zm0 220h160v-160H400v160ZM180-400h160v-160H180v160Zm440 0h160v-160H620v160ZM180-180h160v-160H180v160Zm440 0h160v-160H620v160Z\"/>\n",
              "  </svg>\n",
              "    </button>\n",
              "\n",
              "  <style>\n",
              "    .colab-df-container {\n",
              "      display:flex;\n",
              "      gap: 12px;\n",
              "    }\n",
              "\n",
              "    .colab-df-convert {\n",
              "      background-color: #E8F0FE;\n",
              "      border: none;\n",
              "      border-radius: 50%;\n",
              "      cursor: pointer;\n",
              "      display: none;\n",
              "      fill: #1967D2;\n",
              "      height: 32px;\n",
              "      padding: 0 0 0 0;\n",
              "      width: 32px;\n",
              "    }\n",
              "\n",
              "    .colab-df-convert:hover {\n",
              "      background-color: #E2EBFA;\n",
              "      box-shadow: 0px 1px 2px rgba(60, 64, 67, 0.3), 0px 1px 3px 1px rgba(60, 64, 67, 0.15);\n",
              "      fill: #174EA6;\n",
              "    }\n",
              "\n",
              "    .colab-df-buttons div {\n",
              "      margin-bottom: 4px;\n",
              "    }\n",
              "\n",
              "    [theme=dark] .colab-df-convert {\n",
              "      background-color: #3B4455;\n",
              "      fill: #D2E3FC;\n",
              "    }\n",
              "\n",
              "    [theme=dark] .colab-df-convert:hover {\n",
              "      background-color: #434B5C;\n",
              "      box-shadow: 0px 1px 3px 1px rgba(0, 0, 0, 0.15);\n",
              "      filter: drop-shadow(0px 1px 2px rgba(0, 0, 0, 0.3));\n",
              "      fill: #FFFFFF;\n",
              "    }\n",
              "  </style>\n",
              "\n",
              "    <script>\n",
              "      const buttonEl =\n",
              "        document.querySelector('#df-af9ef7ff-cdfc-4272-b59a-40ac816d52eb button.colab-df-convert');\n",
              "      buttonEl.style.display =\n",
              "        google.colab.kernel.accessAllowed ? 'block' : 'none';\n",
              "\n",
              "      async function convertToInteractive(key) {\n",
              "        const element = document.querySelector('#df-af9ef7ff-cdfc-4272-b59a-40ac816d52eb');\n",
              "        const dataTable =\n",
              "          await google.colab.kernel.invokeFunction('convertToInteractive',\n",
              "                                                    [key], {});\n",
              "        if (!dataTable) return;\n",
              "\n",
              "        const docLinkHtml = 'Like what you see? Visit the ' +\n",
              "          '<a target=\"_blank\" href=https://colab.research.google.com/notebooks/data_table.ipynb>data table notebook</a>'\n",
              "          + ' to learn more about interactive tables.';\n",
              "        element.innerHTML = '';\n",
              "        dataTable['output_type'] = 'display_data';\n",
              "        await google.colab.output.renderOutput(dataTable, element);\n",
              "        const docLink = document.createElement('div');\n",
              "        docLink.innerHTML = docLinkHtml;\n",
              "        element.appendChild(docLink);\n",
              "      }\n",
              "    </script>\n",
              "  </div>\n",
              "\n",
              "\n",
              "<div id=\"df-cedb07a2-69a9-44e7-abe2-f4b455aa12ac\">\n",
              "  <button class=\"colab-df-quickchart\" onclick=\"quickchart('df-cedb07a2-69a9-44e7-abe2-f4b455aa12ac')\"\n",
              "            title=\"Suggest charts\"\n",
              "            style=\"display:none;\">\n",
              "\n",
              "<svg xmlns=\"http://www.w3.org/2000/svg\" height=\"24px\"viewBox=\"0 0 24 24\"\n",
              "     width=\"24px\">\n",
              "    <g>\n",
              "        <path d=\"M19 3H5c-1.1 0-2 .9-2 2v14c0 1.1.9 2 2 2h14c1.1 0 2-.9 2-2V5c0-1.1-.9-2-2-2zM9 17H7v-7h2v7zm4 0h-2V7h2v10zm4 0h-2v-4h2v4z\"/>\n",
              "    </g>\n",
              "</svg>\n",
              "  </button>\n",
              "\n",
              "<style>\n",
              "  .colab-df-quickchart {\n",
              "      --bg-color: #E8F0FE;\n",
              "      --fill-color: #1967D2;\n",
              "      --hover-bg-color: #E2EBFA;\n",
              "      --hover-fill-color: #174EA6;\n",
              "      --disabled-fill-color: #AAA;\n",
              "      --disabled-bg-color: #DDD;\n",
              "  }\n",
              "\n",
              "  [theme=dark] .colab-df-quickchart {\n",
              "      --bg-color: #3B4455;\n",
              "      --fill-color: #D2E3FC;\n",
              "      --hover-bg-color: #434B5C;\n",
              "      --hover-fill-color: #FFFFFF;\n",
              "      --disabled-bg-color: #3B4455;\n",
              "      --disabled-fill-color: #666;\n",
              "  }\n",
              "\n",
              "  .colab-df-quickchart {\n",
              "    background-color: var(--bg-color);\n",
              "    border: none;\n",
              "    border-radius: 50%;\n",
              "    cursor: pointer;\n",
              "    display: none;\n",
              "    fill: var(--fill-color);\n",
              "    height: 32px;\n",
              "    padding: 0;\n",
              "    width: 32px;\n",
              "  }\n",
              "\n",
              "  .colab-df-quickchart:hover {\n",
              "    background-color: var(--hover-bg-color);\n",
              "    box-shadow: 0 1px 2px rgba(60, 64, 67, 0.3), 0 1px 3px 1px rgba(60, 64, 67, 0.15);\n",
              "    fill: var(--button-hover-fill-color);\n",
              "  }\n",
              "\n",
              "  .colab-df-quickchart-complete:disabled,\n",
              "  .colab-df-quickchart-complete:disabled:hover {\n",
              "    background-color: var(--disabled-bg-color);\n",
              "    fill: var(--disabled-fill-color);\n",
              "    box-shadow: none;\n",
              "  }\n",
              "\n",
              "  .colab-df-spinner {\n",
              "    border: 2px solid var(--fill-color);\n",
              "    border-color: transparent;\n",
              "    border-bottom-color: var(--fill-color);\n",
              "    animation:\n",
              "      spin 1s steps(1) infinite;\n",
              "  }\n",
              "\n",
              "  @keyframes spin {\n",
              "    0% {\n",
              "      border-color: transparent;\n",
              "      border-bottom-color: var(--fill-color);\n",
              "      border-left-color: var(--fill-color);\n",
              "    }\n",
              "    20% {\n",
              "      border-color: transparent;\n",
              "      border-left-color: var(--fill-color);\n",
              "      border-top-color: var(--fill-color);\n",
              "    }\n",
              "    30% {\n",
              "      border-color: transparent;\n",
              "      border-left-color: var(--fill-color);\n",
              "      border-top-color: var(--fill-color);\n",
              "      border-right-color: var(--fill-color);\n",
              "    }\n",
              "    40% {\n",
              "      border-color: transparent;\n",
              "      border-right-color: var(--fill-color);\n",
              "      border-top-color: var(--fill-color);\n",
              "    }\n",
              "    60% {\n",
              "      border-color: transparent;\n",
              "      border-right-color: var(--fill-color);\n",
              "    }\n",
              "    80% {\n",
              "      border-color: transparent;\n",
              "      border-right-color: var(--fill-color);\n",
              "      border-bottom-color: var(--fill-color);\n",
              "    }\n",
              "    90% {\n",
              "      border-color: transparent;\n",
              "      border-bottom-color: var(--fill-color);\n",
              "    }\n",
              "  }\n",
              "</style>\n",
              "\n",
              "  <script>\n",
              "    async function quickchart(key) {\n",
              "      const quickchartButtonEl =\n",
              "        document.querySelector('#' + key + ' button');\n",
              "      quickchartButtonEl.disabled = true;  // To prevent multiple clicks.\n",
              "      quickchartButtonEl.classList.add('colab-df-spinner');\n",
              "      try {\n",
              "        const charts = await google.colab.kernel.invokeFunction(\n",
              "            'suggestCharts', [key], {});\n",
              "      } catch (error) {\n",
              "        console.error('Error during call to suggestCharts:', error);\n",
              "      }\n",
              "      quickchartButtonEl.classList.remove('colab-df-spinner');\n",
              "      quickchartButtonEl.classList.add('colab-df-quickchart-complete');\n",
              "    }\n",
              "    (() => {\n",
              "      let quickchartButtonEl =\n",
              "        document.querySelector('#df-cedb07a2-69a9-44e7-abe2-f4b455aa12ac button');\n",
              "      quickchartButtonEl.style.display =\n",
              "        google.colab.kernel.accessAllowed ? 'block' : 'none';\n",
              "    })();\n",
              "  </script>\n",
              "</div>\n",
              "\n",
              "    </div>\n",
              "  </div>\n"
            ],
            "application/vnd.google.colaboratory.intrinsic+json": {
              "type": "dataframe",
              "variable_name": "df",
              "summary": "{\n  \"name\": \"df\",\n  \"rows\": 21671,\n  \"fields\": [\n    {\n      \"column\": \"Run\",\n      \"properties\": {\n        \"dtype\": \"number\",\n        \"std\": 0.47494780154320004,\n        \"min\": 0.0,\n        \"max\": 1.0,\n        \"num_unique_values\": 4,\n        \"samples\": [\n          0.0,\n          0.002390438247011952,\n          0.08207171314741035\n        ],\n        \"semantic_type\": \"\",\n        \"description\": \"\"\n      }\n    },\n    {\n      \"column\": \"Lumi\",\n      \"properties\": {\n        \"dtype\": \"number\",\n        \"std\": 0.35064319825324997,\n        \"min\": 0.0,\n        \"max\": 1.0,\n        \"num_unique_values\": 28,\n        \"samples\": [\n          0.05296610169491525,\n          0.998587570621469,\n          0.052259887005649715\n        ],\n        \"semantic_type\": \"\",\n        \"description\": \"\"\n      }\n    },\n    {\n      \"column\": \"Event\",\n      \"properties\": {\n        \"dtype\": \"number\",\n        \"std\": 0.3415750461376237,\n        \"min\": 0.0,\n        \"max\": 1.0,\n        \"num_unique_values\": 21671,\n        \"samples\": [\n          0.14366397306151077,\n          0.9912795062217793,\n          0.9986842565014573\n        ],\n        \"semantic_type\": \"\",\n        \"description\": \"\"\n      }\n    },\n    {\n      \"column\": \"MR\",\n      \"properties\": {\n        \"dtype\": \"number\",\n        \"std\": 0.08061604645799919,\n        \"min\": 0.0,\n        \"max\": 1.0,\n        \"num_unique_values\": 21075,\n        \"samples\": [\n          0.12676535153358603,\n          0.1172787847143802,\n          0.0456710966016134\n        ],\n        \"semantic_type\": \"\",\n        \"description\": \"\"\n      }\n    },\n    {\n      \"column\": \"Rsq\",\n      \"properties\": {\n        \"dtype\": \"number\",\n        \"std\": 0.030469033171438214,\n        \"min\": 0.0,\n        \"max\": 1.0,\n        \"num_unique_values\": 21434,\n        \"samples\": [\n          0.018209360844243443,\n          0.07299508760312509,\n          0.027949880732130443\n        ],\n        \"semantic_type\": \"\",\n        \"description\": \"\"\n      }\n    },\n    {\n      \"column\": \"E1\",\n      \"properties\": {\n        \"dtype\": \"number\",\n        \"std\": 0.10899557004765521,\n        \"min\": 0.0,\n        \"max\": 1.0,\n        \"num_unique_values\": 21094,\n        \"samples\": [\n          0.08534456619471716,\n          0.502443898092824,\n          0.05407257028528774\n        ],\n        \"semantic_type\": \"\",\n        \"description\": \"\"\n      }\n    },\n    {\n      \"column\": \"Px1\",\n      \"properties\": {\n        \"dtype\": \"number\",\n        \"std\": 0.07239304402928741,\n        \"min\": 0.0,\n        \"max\": 1.0,\n        \"num_unique_values\": 21433,\n        \"samples\": [\n          0.5119325936410049,\n          0.35655384357781933,\n          0.47965274794015067\n        ],\n        \"semantic_type\": \"\",\n        \"description\": \"\"\n      }\n    },\n    {\n      \"column\": \"Py1\",\n      \"properties\": {\n        \"dtype\": \"number\",\n        \"std\": 0.08110288671823111,\n        \"min\": 0.0,\n        \"max\": 1.0,\n        \"num_unique_values\": 21462,\n        \"samples\": [\n          0.5482193669158132,\n          0.5866629299162629,\n          0.531226270964466\n        ],\n        \"semantic_type\": \"\",\n        \"description\": \"\"\n      }\n    },\n    {\n      \"column\": \"Pz1\",\n      \"properties\": {\n        \"dtype\": \"number\",\n        \"std\": 0.08363592173506569,\n        \"min\": 0.0,\n        \"max\": 1.0,\n        \"num_unique_values\": 21561,\n        \"samples\": [\n          0.6489199843298565,\n          0.4357568189608736,\n          0.5106742568924146\n        ],\n        \"semantic_type\": \"\",\n        \"description\": \"\"\n      }\n    },\n    {\n      \"column\": \"E2\",\n      \"properties\": {\n        \"dtype\": \"number\",\n        \"std\": 0.11494038552992812,\n        \"min\": 0.0,\n        \"max\": 1.0,\n        \"num_unique_values\": 21174,\n        \"samples\": [\n          0.2479889929081668,\n          0.7417659156545615,\n          0.47518291395924106\n        ],\n        \"semantic_type\": \"\",\n        \"description\": \"\"\n      }\n    },\n    {\n      \"column\": \"Px2\",\n      \"properties\": {\n        \"dtype\": \"number\",\n        \"std\": 0.0693748799040197,\n        \"min\": 0.0,\n        \"max\": 1.0,\n        \"num_unique_values\": 21520,\n        \"samples\": [\n          0.6846458146001855,\n          0.5011561028298285,\n          0.6260067954964457\n        ],\n        \"semantic_type\": \"\",\n        \"description\": \"\"\n      }\n    },\n    {\n      \"column\": \"Py2\",\n      \"properties\": {\n        \"dtype\": \"number\",\n        \"std\": 0.06911262296746745,\n        \"min\": 0.0,\n        \"max\": 1.0,\n        \"num_unique_values\": 21531,\n        \"samples\": [\n          0.3534444814633946,\n          0.42495513151108816,\n          0.43670918774845163\n        ],\n        \"semantic_type\": \"\",\n        \"description\": \"\"\n      }\n    },\n    {\n      \"column\": \"Pz2\",\n      \"properties\": {\n        \"dtype\": \"number\",\n        \"std\": 0.09247895562733348,\n        \"min\": 0.0,\n        \"max\": 1.0,\n        \"num_unique_values\": 21559,\n        \"samples\": [\n          0.49216977144713725,\n          0.42971791016023714,\n          0.5134739517592158\n        ],\n        \"semantic_type\": \"\",\n        \"description\": \"\"\n      }\n    },\n    {\n      \"column\": \"HT\",\n      \"properties\": {\n        \"dtype\": \"number\",\n        \"std\": 0.05864908347712315,\n        \"min\": 0.0,\n        \"max\": 1.0,\n        \"num_unique_values\": 20513,\n        \"samples\": [\n          0.05972756787697923,\n          0.10450088395846441,\n          0.08198006696022635\n        ],\n        \"semantic_type\": \"\",\n        \"description\": \"\"\n      }\n    },\n    {\n      \"column\": \"MET\",\n      \"properties\": {\n        \"dtype\": \"number\",\n        \"std\": 0.025460219831558505,\n        \"min\": 0.0,\n        \"max\": 1.0,\n        \"num_unique_values\": 21149,\n        \"samples\": [\n          0.0719300758523552,\n          0.06689513329189,\n          0.033321758087060324\n        ],\n        \"semantic_type\": \"\",\n        \"description\": \"\"\n      }\n    },\n    {\n      \"column\": \"nJets\",\n      \"properties\": {\n        \"dtype\": \"number\",\n        \"std\": 0.13096366120215894,\n        \"min\": 0.0,\n        \"max\": 1.0,\n        \"num_unique_values\": 6,\n        \"samples\": [\n          0.0,\n          0.2,\n          1.0\n        ],\n        \"semantic_type\": \"\",\n        \"description\": \"\"\n      }\n    },\n    {\n      \"column\": \"nBJets\",\n      \"properties\": {\n        \"dtype\": \"number\",\n        \"std\": 0,\n        \"min\": 0,\n        \"max\": 1,\n        \"num_unique_values\": 2,\n        \"samples\": [\n          1,\n          0\n        ],\n        \"semantic_type\": \"\",\n        \"description\": \"\"\n      }\n    }\n  ]\n}"
            }
          },
          "metadata": {},
          "execution_count": 8
        }
      ]
    },
    {
      "cell_type": "code",
      "source": [
        "X = df.drop(\"nBJets\", axis=\"columns\")\n",
        "y = df[\"nBJets\"]\n",
        "\n",
        "\n",
        "X_train, X_test, y_train, y_test = train_test_split(X, y, test_size=0.2, random_state=42)"
      ],
      "metadata": {
        "id": "MqcBJReOrqa3"
      },
      "execution_count": 13,
      "outputs": []
    },
    {
      "cell_type": "markdown",
      "source": [
        "Потрібно на основі інформації про розпад спрогнозувати наявність високоенергетичного випромінювання `nBJets`"
      ],
      "metadata": {
        "id": "KAmkR_CFejgQ"
      }
    },
    {
      "cell_type": "markdown",
      "source": [
        "# Завдання 1\n",
        "Створіть клас Dataset для тренувальних та тестових даних"
      ],
      "metadata": {
        "id": "dBt0E5BJe6OK"
      }
    },
    {
      "cell_type": "code",
      "source": [
        "from torch.utils.data import Dataset\n",
        "\n",
        "class MyDataset(Dataset):\n",
        "  def __init__(self, X, y):\n",
        "    self.X = torch.FloatTensor(X.values).to(device)\n",
        "    self.y = torch.FloatTensor(y.values).to(device)\n",
        "    self.y = self.y.reshape(-1, 1)\n",
        "\n",
        "  def __len__(self):\n",
        "    return len(self.X)\n",
        "\n",
        "  def __getitem__(self, index):\n",
        "    return self.X[index], self.y[index]"
      ],
      "metadata": {
        "id": "zQar7xD0K21Y"
      },
      "execution_count": 11,
      "outputs": []
    },
    {
      "cell_type": "code",
      "source": [
        "train_ds = MyDataset(X_train, y_train)\n",
        "test_ds = MyDataset(X_test, y_test)"
      ],
      "metadata": {
        "id": "danWFPyOsfXX"
      },
      "execution_count": 14,
      "outputs": []
    },
    {
      "cell_type": "markdown",
      "source": [
        "# Завдання 2\n",
        "Створіть DataLoader"
      ],
      "metadata": {
        "id": "zQlB_6WzfB8n"
      }
    },
    {
      "cell_type": "code",
      "source": [
        "from torch.utils.data import DataLoader\n",
        "\n",
        "train_dl = DataLoader(train_ds, batch_size=256, shuffle=True, generator=torch.Generator(device=device))\n",
        "test_dl = DataLoader(test_ds, batch_size=256, shuffle=True, generator=torch.Generator(device=device))"
      ],
      "metadata": {
        "id": "-6-po4H4fZQy"
      },
      "execution_count": 15,
      "outputs": []
    },
    {
      "cell_type": "code",
      "source": [
        "device"
      ],
      "metadata": {
        "id": "qGFUoi0WtFx1",
        "outputId": "23786b55-5d88-4d52-afd0-b9439ed79686",
        "colab": {
          "base_uri": "https://localhost:8080/",
          "height": 35
        }
      },
      "execution_count": 16,
      "outputs": [
        {
          "output_type": "execute_result",
          "data": {
            "text/plain": [
              "'cuda'"
            ],
            "application/vnd.google.colaboratory.intrinsic+json": {
              "type": "string"
            }
          },
          "metadata": {},
          "execution_count": 16
        }
      ]
    },
    {
      "cell_type": "code",
      "source": [
        "train_ds[0][0].shape"
      ],
      "metadata": {
        "id": "fNqRkh8buSDj",
        "outputId": "8dab4713-4b02-42fc-b879-e5826e617ef0",
        "colab": {
          "base_uri": "https://localhost:8080/"
        }
      },
      "execution_count": 22,
      "outputs": [
        {
          "output_type": "execute_result",
          "data": {
            "text/plain": [
              "torch.Size([16])"
            ]
          },
          "metadata": {},
          "execution_count": 22
        }
      ]
    },
    {
      "cell_type": "markdown",
      "source": [
        "# Завдання 3\n",
        "Створіть нейромережу"
      ],
      "metadata": {
        "id": "2W93LiDxfZrx"
      }
    },
    {
      "cell_type": "code",
      "source": [
        "from torch import nn\n",
        "import torch.nn.functional as F\n",
        "\n",
        "\n",
        "class Model(nn.Module):\n",
        "  def __init__(self, input_dim, hidden_dim, output_dim):\n",
        "    super().__init__()\n",
        "\n",
        "    self.linear_1 = nn.Linear(input_dim, hidden_dim)\n",
        "    self.bnorm_1 = nn.BatchNorm1d(hidden_dim)\n",
        "    self.drop_out1 = nn.Dropout(0.1)\n",
        "    self.linear_2 = nn.Linear(hidden_dim, hidden_dim-7)\n",
        "    self.linear_3 = nn.Linear(hidden_dim-7, hidden_dim-10)\n",
        "    self.linear_4 = nn.Linear(hidden_dim-10, hidden_dim-18)\n",
        "    self.linear_5 = nn.Linear(hidden_dim-18, hidden_dim-21)\n",
        "    self.linear_6 = nn.Linear(hidden_dim-21, output_dim)\n",
        "\n",
        "  def forward(self, x):\n",
        "    out = self.linear_1(x)\n",
        "    out = self.bnorm_1(out)\n",
        "    out = F.relu(out)\n",
        "    out = self.drop_out1(out)\n",
        "    out = self.linear_2(out)\n",
        "    out = F.relu(out)\n",
        "    out = self.linear_3(out)\n",
        "    out = F.relu(out)\n",
        "    out = self.linear_4(out)\n",
        "    out = F.relu(out)\n",
        "    out = self.linear_5(out)\n",
        "    out = F.relu(out)\n",
        "    out = self.linear_6(out)\n",
        "\n",
        "    return out\n",
        "\n",
        "  def predict(self, X, device=\"cpu\"):\n",
        "    X = torch.FloatTensor(X.values).to(device)\n",
        "\n",
        "    with torch.no_grad():\n",
        "      y_pred = self.forward(X)\n",
        "      y_pred = F.sigmoid(y_pred)\n",
        "\n",
        "    return y_pred.cpu().numpy().squeeze()\n",
        "\n",
        "model = Model(16, 27, 1)\n",
        "model\n"
      ],
      "metadata": {
        "id": "p9DHog7Xf7xE",
        "outputId": "bb46f07f-fb82-4d42-a016-36fcd5db8a13",
        "colab": {
          "base_uri": "https://localhost:8080/"
        }
      },
      "execution_count": 53,
      "outputs": [
        {
          "output_type": "execute_result",
          "data": {
            "text/plain": [
              "Model(\n",
              "  (linear_1): Linear(in_features=16, out_features=27, bias=True)\n",
              "  (bnorm_1): BatchNorm1d(27, eps=1e-05, momentum=0.1, affine=True, track_running_stats=True)\n",
              "  (drop_out1): Dropout(p=0.1, inplace=False)\n",
              "  (linear_2): Linear(in_features=27, out_features=20, bias=True)\n",
              "  (linear_3): Linear(in_features=20, out_features=17, bias=True)\n",
              "  (linear_4): Linear(in_features=17, out_features=9, bias=True)\n",
              "  (linear_5): Linear(in_features=9, out_features=6, bias=True)\n",
              "  (linear_6): Linear(in_features=6, out_features=1, bias=True)\n",
              ")"
            ]
          },
          "metadata": {},
          "execution_count": 53
        }
      ]
    },
    {
      "cell_type": "markdown",
      "source": [
        "# Завдання 4\n",
        "Визначте функцію втрат та оптимізатор, можливо графік швидкості навчання"
      ],
      "metadata": {
        "id": "VmNUVkkUf8gB"
      }
    },
    {
      "cell_type": "code",
      "source": [
        "y_train.value_counts()"
      ],
      "metadata": {
        "id": "UyrtHQXYw7TG",
        "outputId": "a8dd6206-e04e-40d0-ca01-d6131eb2620a",
        "colab": {
          "base_uri": "https://localhost:8080/",
          "height": 178
        }
      },
      "execution_count": 47,
      "outputs": [
        {
          "output_type": "execute_result",
          "data": {
            "text/plain": [
              "nBJets\n",
              "0    16506\n",
              "1      830\n",
              "Name: count, dtype: int64"
            ],
            "text/html": [
              "<table border=\"1\" class=\"dataframe\">\n",
              "  <thead>\n",
              "    <tr style=\"text-align: right;\">\n",
              "      <th></th>\n",
              "      <th>count</th>\n",
              "    </tr>\n",
              "    <tr>\n",
              "      <th>nBJets</th>\n",
              "      <th></th>\n",
              "    </tr>\n",
              "  </thead>\n",
              "  <tbody>\n",
              "    <tr>\n",
              "      <th>0</th>\n",
              "      <td>16506</td>\n",
              "    </tr>\n",
              "    <tr>\n",
              "      <th>1</th>\n",
              "      <td>830</td>\n",
              "    </tr>\n",
              "  </tbody>\n",
              "</table><br><label><b>dtype:</b> int64</label>"
            ]
          },
          "metadata": {},
          "execution_count": 47
        }
      ]
    },
    {
      "cell_type": "code",
      "source": [
        "num_0 = sum(y_train == 0)\n",
        "num_1 = sum(y_train == 1)\n",
        "\n",
        "loss_func = nn.BCEWithLogitsLoss(pos_weight=torch.tensor(num_0/num_1))\n",
        "\n",
        "optimizer = torch.optim.Adam(model.parameters(), lr=1e-2, weight_decay=0)"
      ],
      "metadata": {
        "id": "e1sw9oRBgDXR"
      },
      "execution_count": 39,
      "outputs": []
    },
    {
      "cell_type": "code",
      "source": [
        "from torch.optim.lr_scheduler import StepLR\n",
        "\n",
        "scheduler = StepLR(optimizer, step_size=50, gamma=0.1)"
      ],
      "metadata": {
        "id": "hKNmtFjnxWkv"
      },
      "execution_count": 55,
      "outputs": []
    },
    {
      "cell_type": "markdown",
      "source": [
        "# Завдання 5\n",
        "Натренуйте нейромережу."
      ],
      "metadata": {
        "id": "qTOFCl_egEFZ"
      }
    },
    {
      "cell_type": "code",
      "source": [
        "import time\n",
        "\n",
        "def train(model, optimizer, loss_fn, train_dl, val_dl,\n",
        "          metrics=None, metrics_name=None, epochs=20, device='cpu', task='regression'):\n",
        "\n",
        "    print('train() called: model=%s, opt=%s(lr=%f), epochs=%d, device=%s\\n' % \\\n",
        "          (type(model).__name__, type(optimizer).__name__,\n",
        "           optimizer.param_groups[0]['lr'], epochs, device))\n",
        "\n",
        "    metrics = metrics if metrics else []\n",
        "    metrics_name = metrics_name if metrics_name else [metric.__name__ for metric in metrics]\n",
        "\n",
        "    history = {} # Collects per-epoch loss and metrics like Keras' fit().\n",
        "    history['lr'] = []\n",
        "    history['loss'] = []\n",
        "    history['val_loss'] = []\n",
        "    for name in metrics_name:\n",
        "        history[name] = []\n",
        "        history[f'val_{name}'] = []\n",
        "\n",
        "    start_time_train = time.time()\n",
        "\n",
        "    for epoch in range(epochs):\n",
        "\n",
        "        # --- TRAIN AND EVALUATE ON TRAINING SET -----------------------------\n",
        "        start_time_epoch = time.time()\n",
        "\n",
        "        model.train()\n",
        "        history_train = {name: 0 for name in ['loss']+metrics_name}\n",
        "\n",
        "        for batch in train_dl:\n",
        "            x    = batch[0].to(device)\n",
        "            y    = batch[1].to(device)\n",
        "            y_pred = model(x)\n",
        "            loss = loss_fn(y_pred, y)\n",
        "            y_pred = F.sigmoid(y_pred)\n",
        "\n",
        "            optimizer.zero_grad()\n",
        "            loss.backward()\n",
        "            optimizer.step()\n",
        "\n",
        "            y_pred = y_pred.detach().cpu().numpy()\n",
        "            y = y.detach().cpu().numpy()\n",
        "\n",
        "            history_train['loss'] += loss.item() * x.size(0)\n",
        "            for name, func in zip(metrics_name, metrics):\n",
        "              try:\n",
        "                  history_train[name] += func(y, y_pred) * x.size(0)\n",
        "              except:\n",
        "                  if task == 'binary': y_pred_ = y_pred.round()\n",
        "                  elif task == 'multiclass': y_pred_ = y_pred.argmax(axis=-1)\n",
        "                  history_train[name] += func(y, y_pred_) * x.size(0)\n",
        "\n",
        "        for name in history_train:\n",
        "            history_train[name] /= len(train_dl.dataset)\n",
        "\n",
        "        scheduler.step()\n",
        "        history['lr'].append(scheduler.get_last_lr())\n",
        "\n",
        "\n",
        "        # --- EVALUATE ON VALIDATION SET -------------------------------------\n",
        "        model.eval()\n",
        "        history_val = {'val_' + name: 0 for name in metrics_name+['loss']}\n",
        "\n",
        "        with torch.no_grad():\n",
        "            for batch in val_dl:\n",
        "                x    = batch[0].to(device)\n",
        "                y    = batch[1].to(device)\n",
        "                y_pred = model(x)\n",
        "                loss = loss_fn(y_pred, y)\n",
        "                y_pred = F.sigmoid(y_pred)\n",
        "\n",
        "                y_pred = y_pred.cpu().numpy()\n",
        "                y = y.cpu().numpy()\n",
        "\n",
        "                history_val['val_loss'] += loss.item() * x.size(0)\n",
        "                for name, func in zip(metrics_name, metrics):\n",
        "                    try:\n",
        "                        history_val['val_'+name] += func(y, y_pred) * x.size(0)\n",
        "                    except:\n",
        "                        if task == 'binary': y_pred_ = y_pred.round()\n",
        "                        elif task == 'multiclass': y_pred_ = y_pred.argmax(axis=-1)\n",
        "\n",
        "                        history_val['val_'+name] += func(y, y_pred_) * x.size(0)\n",
        "\n",
        "        for name in history_val:\n",
        "            history_val[name] /= len(val_dl.dataset)\n",
        "\n",
        "        # PRINTING RESULTS\n",
        "\n",
        "        end_time_epoch = time.time()\n",
        "\n",
        "        for name in history_train:\n",
        "            history[name].append(history_train[name])\n",
        "            history['val_'+name].append(history_val['val_'+name])\n",
        "\n",
        "        total_time_epoch = end_time_epoch - start_time_epoch\n",
        "\n",
        "        print(f'Epoch {epoch+1:4d} {total_time_epoch:4.0f}sec', end='\\t')\n",
        "        for name in history_train:\n",
        "            print(f'{name}: {history[name][-1]:10.3g}', end='\\t')\n",
        "            print(f\"val_{name}: {history['val_'+name][-1]:10.3g}\", end='\\t')\n",
        "        print()\n",
        "\n",
        "    # END OF TRAINING LOOP\n",
        "\n",
        "    end_time_train       = time.time()\n",
        "    total_time_train     = end_time_train - start_time_train\n",
        "    print()\n",
        "    print('Time total:     %5.2f sec' % (total_time_train))\n",
        "\n",
        "    return history"
      ],
      "metadata": {
        "id": "Nxo4p3IUgOx5"
      },
      "execution_count": 48,
      "outputs": []
    },
    {
      "cell_type": "code",
      "source": [
        "from sklearn.metrics import accuracy_score, roc_auc_score\n",
        "\n",
        "history = train(model, optimizer, loss_func, train_dl, test_dl,\n",
        "                epochs=120,\n",
        "                metrics=[accuracy_score, roc_auc_score],\n",
        "                device=device,\n",
        "                task='binary')"
      ],
      "metadata": {
        "id": "JqX8M8aRyr8u",
        "outputId": "bda635c4-1ad7-4729-9aa1-c37c4a624426",
        "colab": {
          "base_uri": "https://localhost:8080/",
          "height": 1000
        }
      },
      "execution_count": 56,
      "outputs": [
        {
          "output_type": "stream",
          "name": "stdout",
          "text": [
            "train() called: model=Model, opt=Adam(lr=0.000000), epochs=120, device=cuda\n",
            "\n",
            "Epoch    1    1sec\tloss:       1.32\tval_loss:       1.37\taccuracy_score:     0.0479\tval_accuracy_score:     0.0521\troc_auc_score:      0.537\tval_roc_auc_score:      0.477\t\n",
            "Epoch    2    1sec\tloss:       1.32\tval_loss:       1.37\taccuracy_score:     0.0479\tval_accuracy_score:     0.0521\troc_auc_score:      0.536\tval_roc_auc_score:      0.478\t\n",
            "Epoch    3    1sec\tloss:       1.32\tval_loss:       1.37\taccuracy_score:     0.0479\tval_accuracy_score:     0.0521\troc_auc_score:      0.545\tval_roc_auc_score:      0.466\t\n",
            "Epoch    4    1sec\tloss:       1.32\tval_loss:       1.37\taccuracy_score:     0.0479\tval_accuracy_score:     0.0521\troc_auc_score:      0.548\tval_roc_auc_score:      0.474\t\n",
            "Epoch    5    1sec\tloss:       1.32\tval_loss:       1.37\taccuracy_score:     0.0479\tval_accuracy_score:     0.0521\troc_auc_score:      0.538\tval_roc_auc_score:      0.478\t\n",
            "Epoch    6    1sec\tloss:       1.32\tval_loss:       1.37\taccuracy_score:     0.0479\tval_accuracy_score:     0.0521\troc_auc_score:      0.543\tval_roc_auc_score:       0.47\t\n",
            "Epoch    7    1sec\tloss:       1.32\tval_loss:       1.37\taccuracy_score:     0.0479\tval_accuracy_score:     0.0521\troc_auc_score:      0.552\tval_roc_auc_score:      0.469\t\n",
            "Epoch    8    1sec\tloss:       1.32\tval_loss:       1.37\taccuracy_score:     0.0479\tval_accuracy_score:     0.0521\troc_auc_score:      0.531\tval_roc_auc_score:      0.468\t\n",
            "Epoch    9    1sec\tloss:       1.32\tval_loss:       1.37\taccuracy_score:     0.0479\tval_accuracy_score:     0.0521\troc_auc_score:      0.532\tval_roc_auc_score:      0.476\t\n",
            "Epoch   10    1sec\tloss:       1.32\tval_loss:       1.37\taccuracy_score:     0.0479\tval_accuracy_score:     0.0521\troc_auc_score:      0.547\tval_roc_auc_score:      0.475\t\n",
            "Epoch   11    1sec\tloss:       1.32\tval_loss:       1.37\taccuracy_score:     0.0479\tval_accuracy_score:     0.0521\troc_auc_score:      0.528\tval_roc_auc_score:      0.472\t\n",
            "Epoch   12    1sec\tloss:       1.32\tval_loss:       1.37\taccuracy_score:     0.0479\tval_accuracy_score:     0.0521\troc_auc_score:      0.538\tval_roc_auc_score:      0.486\t\n",
            "Epoch   13    1sec\tloss:       1.32\tval_loss:       1.37\taccuracy_score:     0.0479\tval_accuracy_score:     0.0521\troc_auc_score:      0.542\tval_roc_auc_score:      0.472\t\n",
            "Epoch   14    1sec\tloss:       1.32\tval_loss:       1.37\taccuracy_score:     0.0479\tval_accuracy_score:     0.0521\troc_auc_score:      0.533\tval_roc_auc_score:      0.472\t\n",
            "Epoch   15    1sec\tloss:       1.32\tval_loss:       1.37\taccuracy_score:     0.0479\tval_accuracy_score:     0.0521\troc_auc_score:      0.543\tval_roc_auc_score:      0.474\t\n",
            "Epoch   16    1sec\tloss:       1.32\tval_loss:       1.37\taccuracy_score:     0.0479\tval_accuracy_score:     0.0521\troc_auc_score:       0.54\tval_roc_auc_score:      0.475\t\n",
            "Epoch   17    1sec\tloss:       1.32\tval_loss:       1.37\taccuracy_score:     0.0479\tval_accuracy_score:     0.0521\troc_auc_score:      0.545\tval_roc_auc_score:       0.48\t\n",
            "Epoch   18    1sec\tloss:       1.32\tval_loss:       1.37\taccuracy_score:     0.0479\tval_accuracy_score:     0.0521\troc_auc_score:      0.545\tval_roc_auc_score:      0.471\t\n",
            "Epoch   19    1sec\tloss:       1.32\tval_loss:       1.37\taccuracy_score:     0.0479\tval_accuracy_score:     0.0521\troc_auc_score:      0.539\tval_roc_auc_score:      0.477\t\n",
            "Epoch   20    1sec\tloss:       1.32\tval_loss:       1.37\taccuracy_score:     0.0479\tval_accuracy_score:     0.0521\troc_auc_score:      0.537\tval_roc_auc_score:      0.477\t\n",
            "Epoch   21    1sec\tloss:       1.32\tval_loss:       1.37\taccuracy_score:     0.0479\tval_accuracy_score:     0.0521\troc_auc_score:      0.545\tval_roc_auc_score:      0.476\t\n",
            "Epoch   22    1sec\tloss:       1.32\tval_loss:       1.37\taccuracy_score:     0.0479\tval_accuracy_score:     0.0521\troc_auc_score:      0.526\tval_roc_auc_score:      0.472\t\n",
            "Epoch   23    1sec\tloss:       1.32\tval_loss:       1.37\taccuracy_score:     0.0479\tval_accuracy_score:     0.0521\troc_auc_score:      0.531\tval_roc_auc_score:      0.479\t\n",
            "Epoch   24    1sec\tloss:       1.32\tval_loss:       1.37\taccuracy_score:     0.0479\tval_accuracy_score:     0.0521\troc_auc_score:      0.544\tval_roc_auc_score:       0.48\t\n",
            "Epoch   25    1sec\tloss:       1.32\tval_loss:       1.37\taccuracy_score:     0.0479\tval_accuracy_score:     0.0521\troc_auc_score:      0.536\tval_roc_auc_score:      0.482\t\n",
            "Epoch   26    1sec\tloss:       1.32\tval_loss:       1.37\taccuracy_score:     0.0479\tval_accuracy_score:     0.0521\troc_auc_score:      0.541\tval_roc_auc_score:      0.476\t\n",
            "Epoch   27    1sec\tloss:       1.32\tval_loss:       1.37\taccuracy_score:     0.0479\tval_accuracy_score:     0.0521\troc_auc_score:      0.542\tval_roc_auc_score:      0.483\t\n",
            "Epoch   28    1sec\tloss:       1.32\tval_loss:       1.37\taccuracy_score:     0.0479\tval_accuracy_score:     0.0521\troc_auc_score:       0.55\tval_roc_auc_score:      0.475\t\n",
            "Epoch   29    1sec\tloss:       1.32\tval_loss:       1.37\taccuracy_score:     0.0479\tval_accuracy_score:     0.0521\troc_auc_score:      0.532\tval_roc_auc_score:      0.471\t\n",
            "Epoch   30    1sec\tloss:       1.32\tval_loss:       1.37\taccuracy_score:     0.0479\tval_accuracy_score:     0.0521\troc_auc_score:      0.537\tval_roc_auc_score:      0.463\t\n",
            "Epoch   31    1sec\tloss:       1.32\tval_loss:       1.37\taccuracy_score:     0.0479\tval_accuracy_score:     0.0521\troc_auc_score:       0.53\tval_roc_auc_score:      0.464\t\n",
            "Epoch   32    1sec\tloss:       1.32\tval_loss:       1.37\taccuracy_score:     0.0479\tval_accuracy_score:     0.0521\troc_auc_score:      0.545\tval_roc_auc_score:      0.476\t\n",
            "Epoch   33    1sec\tloss:       1.32\tval_loss:       1.37\taccuracy_score:     0.0479\tval_accuracy_score:     0.0521\troc_auc_score:      0.537\tval_roc_auc_score:      0.473\t\n",
            "Epoch   34    1sec\tloss:       1.32\tval_loss:       1.37\taccuracy_score:     0.0479\tval_accuracy_score:     0.0521\troc_auc_score:       0.54\tval_roc_auc_score:      0.477\t\n",
            "Epoch   35    1sec\tloss:       1.32\tval_loss:       1.37\taccuracy_score:     0.0479\tval_accuracy_score:     0.0521\troc_auc_score:      0.535\tval_roc_auc_score:      0.474\t\n",
            "Epoch   36    1sec\tloss:       1.32\tval_loss:       1.37\taccuracy_score:     0.0479\tval_accuracy_score:     0.0521\troc_auc_score:      0.531\tval_roc_auc_score:      0.472\t\n",
            "Epoch   37    1sec\tloss:       1.32\tval_loss:       1.37\taccuracy_score:     0.0479\tval_accuracy_score:     0.0521\troc_auc_score:      0.547\tval_roc_auc_score:       0.47\t\n",
            "Epoch   38    1sec\tloss:       1.32\tval_loss:       1.37\taccuracy_score:     0.0479\tval_accuracy_score:     0.0521\troc_auc_score:      0.542\tval_roc_auc_score:      0.471\t\n",
            "Epoch   39    1sec\tloss:       1.32\tval_loss:       1.37\taccuracy_score:     0.0479\tval_accuracy_score:     0.0521\troc_auc_score:      0.531\tval_roc_auc_score:      0.472\t\n",
            "Epoch   40    1sec\tloss:       1.32\tval_loss:       1.37\taccuracy_score:     0.0479\tval_accuracy_score:     0.0521\troc_auc_score:      0.535\tval_roc_auc_score:      0.479\t\n",
            "Epoch   41    1sec\tloss:       1.32\tval_loss:       1.37\taccuracy_score:     0.0479\tval_accuracy_score:     0.0521\troc_auc_score:      0.549\tval_roc_auc_score:      0.478\t\n",
            "Epoch   42    1sec\tloss:       1.32\tval_loss:       1.37\taccuracy_score:     0.0479\tval_accuracy_score:     0.0521\troc_auc_score:      0.532\tval_roc_auc_score:      0.469\t\n",
            "Epoch   43    1sec\tloss:       1.32\tval_loss:       1.37\taccuracy_score:     0.0479\tval_accuracy_score:     0.0521\troc_auc_score:      0.535\tval_roc_auc_score:      0.481\t\n",
            "Epoch   44    1sec\tloss:       1.32\tval_loss:       1.37\taccuracy_score:     0.0479\tval_accuracy_score:     0.0521\troc_auc_score:      0.548\tval_roc_auc_score:      0.465\t\n"
          ]
        },
        {
          "output_type": "error",
          "ename": "KeyboardInterrupt",
          "evalue": "",
          "traceback": [
            "\u001b[0;31m---------------------------------------------------------------------------\u001b[0m",
            "\u001b[0;31mKeyboardInterrupt\u001b[0m                         Traceback (most recent call last)",
            "\u001b[0;32m<ipython-input-56-83d736a1f7df>\u001b[0m in \u001b[0;36m<cell line: 3>\u001b[0;34m()\u001b[0m\n\u001b[1;32m      1\u001b[0m \u001b[0;32mfrom\u001b[0m \u001b[0msklearn\u001b[0m\u001b[0;34m.\u001b[0m\u001b[0mmetrics\u001b[0m \u001b[0;32mimport\u001b[0m \u001b[0maccuracy_score\u001b[0m\u001b[0;34m,\u001b[0m \u001b[0mroc_auc_score\u001b[0m\u001b[0;34m\u001b[0m\u001b[0;34m\u001b[0m\u001b[0m\n\u001b[1;32m      2\u001b[0m \u001b[0;34m\u001b[0m\u001b[0m\n\u001b[0;32m----> 3\u001b[0;31m history = train(model, optimizer, loss_func, train_dl, test_dl,\n\u001b[0m\u001b[1;32m      4\u001b[0m                 \u001b[0mepochs\u001b[0m\u001b[0;34m=\u001b[0m\u001b[0;36m120\u001b[0m\u001b[0;34m,\u001b[0m\u001b[0;34m\u001b[0m\u001b[0;34m\u001b[0m\u001b[0m\n\u001b[1;32m      5\u001b[0m                 \u001b[0mmetrics\u001b[0m\u001b[0;34m=\u001b[0m\u001b[0;34m[\u001b[0m\u001b[0maccuracy_score\u001b[0m\u001b[0;34m,\u001b[0m \u001b[0mroc_auc_score\u001b[0m\u001b[0;34m]\u001b[0m\u001b[0;34m,\u001b[0m\u001b[0;34m\u001b[0m\u001b[0;34m\u001b[0m\u001b[0m\n",
            "\u001b[0;32m<ipython-input-48-5889c6f5fe75>\u001b[0m in \u001b[0;36mtrain\u001b[0;34m(model, optimizer, loss_fn, train_dl, val_dl, metrics, metrics_name, epochs, device, task)\u001b[0m\n\u001b[1;32m     41\u001b[0m \u001b[0;34m\u001b[0m\u001b[0m\n\u001b[1;32m     42\u001b[0m             \u001b[0my_pred\u001b[0m \u001b[0;34m=\u001b[0m \u001b[0my_pred\u001b[0m\u001b[0;34m.\u001b[0m\u001b[0mdetach\u001b[0m\u001b[0;34m(\u001b[0m\u001b[0;34m)\u001b[0m\u001b[0;34m.\u001b[0m\u001b[0mcpu\u001b[0m\u001b[0;34m(\u001b[0m\u001b[0;34m)\u001b[0m\u001b[0;34m.\u001b[0m\u001b[0mnumpy\u001b[0m\u001b[0;34m(\u001b[0m\u001b[0;34m)\u001b[0m\u001b[0;34m\u001b[0m\u001b[0;34m\u001b[0m\u001b[0m\n\u001b[0;32m---> 43\u001b[0;31m             \u001b[0my\u001b[0m \u001b[0;34m=\u001b[0m \u001b[0my\u001b[0m\u001b[0;34m.\u001b[0m\u001b[0mdetach\u001b[0m\u001b[0;34m(\u001b[0m\u001b[0;34m)\u001b[0m\u001b[0;34m.\u001b[0m\u001b[0mcpu\u001b[0m\u001b[0;34m(\u001b[0m\u001b[0;34m)\u001b[0m\u001b[0;34m.\u001b[0m\u001b[0mnumpy\u001b[0m\u001b[0;34m(\u001b[0m\u001b[0;34m)\u001b[0m\u001b[0;34m\u001b[0m\u001b[0;34m\u001b[0m\u001b[0m\n\u001b[0m\u001b[1;32m     44\u001b[0m \u001b[0;34m\u001b[0m\u001b[0m\n\u001b[1;32m     45\u001b[0m             \u001b[0mhistory_train\u001b[0m\u001b[0;34m[\u001b[0m\u001b[0;34m'loss'\u001b[0m\u001b[0;34m]\u001b[0m \u001b[0;34m+=\u001b[0m \u001b[0mloss\u001b[0m\u001b[0;34m.\u001b[0m\u001b[0mitem\u001b[0m\u001b[0;34m(\u001b[0m\u001b[0;34m)\u001b[0m \u001b[0;34m*\u001b[0m \u001b[0mx\u001b[0m\u001b[0;34m.\u001b[0m\u001b[0msize\u001b[0m\u001b[0;34m(\u001b[0m\u001b[0;36m0\u001b[0m\u001b[0;34m)\u001b[0m\u001b[0;34m\u001b[0m\u001b[0;34m\u001b[0m\u001b[0m\n",
            "\u001b[0;32m/usr/local/lib/python3.10/dist-packages/torch/utils/_device.py\u001b[0m in \u001b[0;36m__torch_function__\u001b[0;34m(self, func, types, args, kwargs)\u001b[0m\n\u001b[1;32m     76\u001b[0m         \u001b[0;32mif\u001b[0m \u001b[0mfunc\u001b[0m \u001b[0;32min\u001b[0m \u001b[0m_device_constructors\u001b[0m\u001b[0;34m(\u001b[0m\u001b[0;34m)\u001b[0m \u001b[0;32mand\u001b[0m \u001b[0mkwargs\u001b[0m\u001b[0;34m.\u001b[0m\u001b[0mget\u001b[0m\u001b[0;34m(\u001b[0m\u001b[0;34m'device'\u001b[0m\u001b[0;34m)\u001b[0m \u001b[0;32mis\u001b[0m \u001b[0;32mNone\u001b[0m\u001b[0;34m:\u001b[0m\u001b[0;34m\u001b[0m\u001b[0;34m\u001b[0m\u001b[0m\n\u001b[1;32m     77\u001b[0m             \u001b[0mkwargs\u001b[0m\u001b[0;34m[\u001b[0m\u001b[0;34m'device'\u001b[0m\u001b[0;34m]\u001b[0m \u001b[0;34m=\u001b[0m \u001b[0mself\u001b[0m\u001b[0;34m.\u001b[0m\u001b[0mdevice\u001b[0m\u001b[0;34m\u001b[0m\u001b[0;34m\u001b[0m\u001b[0m\n\u001b[0;32m---> 78\u001b[0;31m         \u001b[0;32mreturn\u001b[0m \u001b[0mfunc\u001b[0m\u001b[0;34m(\u001b[0m\u001b[0;34m*\u001b[0m\u001b[0margs\u001b[0m\u001b[0;34m,\u001b[0m \u001b[0;34m**\u001b[0m\u001b[0mkwargs\u001b[0m\u001b[0;34m)\u001b[0m\u001b[0;34m\u001b[0m\u001b[0;34m\u001b[0m\u001b[0m\n\u001b[0m\u001b[1;32m     79\u001b[0m \u001b[0;34m\u001b[0m\u001b[0m\n\u001b[1;32m     80\u001b[0m \u001b[0;31m# NB: This is directly called from C++ in torch/csrc/Device.cpp\u001b[0m\u001b[0;34m\u001b[0m\u001b[0;34m\u001b[0m\u001b[0m\n",
            "\u001b[0;31mKeyboardInterrupt\u001b[0m: "
          ]
        }
      ]
    },
    {
      "cell_type": "code",
      "source": [
        "import matplotlib.pyplot as plt\n",
        "\n",
        "plt.plot(history[\"loss\"])\n",
        "plt.plot(history[\"accuracy_score\"])"
      ],
      "metadata": {
        "id": "6KcxFPCR0M0Z",
        "outputId": "d8cfadad-1d43-4c75-f3c0-f8259900515f",
        "colab": {
          "base_uri": "https://localhost:8080/",
          "height": 447
        }
      },
      "execution_count": 52,
      "outputs": [
        {
          "output_type": "execute_result",
          "data": {
            "text/plain": [
              "[<matplotlib.lines.Line2D at 0x7cea17c83f40>]"
            ]
          },
          "metadata": {},
          "execution_count": 52
        },
        {
          "output_type": "display_data",
          "data": {
            "text/plain": [
              "<Figure size 640x480 with 1 Axes>"
            ],
            "image/png": "[encoded data removed]"
          },
          "metadata": {}
        }
      ]
    },
    {
      "cell_type": "markdown",
      "source": [
        "# Завдання 6\n",
        "Збережіть нейромережу та зробіть прогноз"
      ],
      "metadata": {
        "id": "aoclw4XlgPhB"
      }
    },
    {
      "cell_type": "code",
      "source": [],
      "metadata": {
        "id": "UzVFg-KjgYgy"
      },
      "execution_count": null,
      "outputs": []
    }
  ]
}