{
  "nbformat": 4,
  "nbformat_minor": 0,
  "metadata": {
    "colab": {
      "provenance": [],
      "include_colab_link": true
    },
    "kernelspec": {
      "name": "python3",
      "display_name": "Python 3"
    },
    "language_info": {
      "name": "python"
    }
  },
  "cells": [
    {
      "cell_type": "markdown",
      "metadata": {
        "id": "view-in-github",
        "colab_type": "text"
      },
      "source": [
        "<a href=\"https://colab.research.google.com/github/Maks6666/ML/blob/main/regularization.ipynb\" target=\"_parent\"><img src=\"https://colab.research.google.com/assets/colab-badge.svg\" alt=\"Open In Colab\"/></a>"
      ]
    },
    {
      "cell_type": "markdown",
      "source": [
        "Імпорт модулів"
      ],
      "metadata": {
        "id": "w1r0k1UheNCz"
      }
    },
    {
      "cell_type": "code",
      "execution_count": 474,
      "metadata": {
        "id": "4XxgJqCDoExm"
      },
      "outputs": [],
      "source": [
        "import pandas as pd\n",
        "import torch\n",
        "from sklearn.model_selection import train_test_split"
      ]
    },
    {
      "cell_type": "code",
      "source": [
        "device = \"cuda\" if torch.cuda.is_available() else \"cpu\"\n",
        "torch.set_default_device(device)"
      ],
      "metadata": {
        "id": "5XC2Q9AyrUDs"
      },
      "execution_count": 475,
      "outputs": []
    },
    {
      "cell_type": "markdown",
      "source": [
        "Дані про розпад протонів\n",
        "\n",
        "[посилання](https://www.kaggle.com/datasets/fedesoriano/multijet-primary-dataset)"
      ],
      "metadata": {
        "id": "Kpk2KycTeQEE"
      }
    },
    {
      "cell_type": "code",
      "source": [
        "# трохи обробки даних\n",
        "df = pd.read_csv('https://raw.githubusercontent.com/HalyshAnton/IT-Step-Pyton-AI/main/module3/data/MultiJetRun2010B.csv')\n",
        "\n",
        "df = df[df['nBJets'] != 2]\n",
        "\n",
        "columns = df.columns.delete(-1)\n",
        "data = df[columns]\n",
        "df[columns] = (data - data.min()) / (data.max() - data.min())"
      ],
      "metadata": {
        "id": "926S2f5pdnH6"
      },
      "execution_count": 476,
      "outputs": []
    },
    {
      "cell_type": "markdown",
      "source": [
        "Дані погано збалансовані"
      ],
      "metadata": {
        "id": "Mq24yRptMSrO"
      }
    },
    {
      "cell_type": "code",
      "source": [
        "df['nBJets'].value_counts()"
      ],
      "metadata": {
        "id": "X6CQ04GdKnuu",
        "outputId": "612400cc-6cc8-4830-84b0-81786f3ccec8",
        "colab": {
          "base_uri": "https://localhost:8080/",
          "height": 178
        }
      },
      "execution_count": 477,
      "outputs": [
        {
          "output_type": "execute_result",
          "data": {
            "text/plain": [
              "nBJets\n",
              "0    20615\n",
              "1     1056\n",
              "Name: count, dtype: int64"
            ],
            "text/html": [
              "<table border=\"1\" class=\"dataframe\">\n",
              "  <thead>\n",
              "    <tr style=\"text-align: right;\">\n",
              "      <th></th>\n",
              "      <th>count</th>\n",
              "    </tr>\n",
              "    <tr>\n",
              "      <th>nBJets</th>\n",
              "      <th></th>\n",
              "    </tr>\n",
              "  </thead>\n",
              "  <tbody>\n",
              "    <tr>\n",
              "      <th>0</th>\n",
              "      <td>20615</td>\n",
              "    </tr>\n",
              "    <tr>\n",
              "      <th>1</th>\n",
              "      <td>1056</td>\n",
              "    </tr>\n",
              "  </tbody>\n",
              "</table><br><label><b>dtype:</b> int64</label>"
            ]
          },
          "metadata": {},
          "execution_count": 477
        }
      ]
    },
    {
      "cell_type": "code",
      "source": [
        "df.head()"
      ],
      "metadata": {
        "colab": {
          "base_uri": "https://localhost:8080/",
          "height": 226
        },
        "id": "eG6_dawddqwd",
        "outputId": "53a22d58-0db8-455e-ad9a-79c0753ea751"
      },
      "execution_count": 478,
      "outputs": [
        {
          "output_type": "execute_result",
          "data": {
            "text/plain": [
              "        Run  Lumi     Event        MR       Rsq        E1       Px1       Py1  \\\n",
              "0  0.082072   0.0  0.000002  0.077191  0.041860  0.044618  0.342725  0.531326   \n",
              "1  0.082072   0.0  0.000006  0.052182  0.055190  0.018690  0.493614  0.585784   \n",
              "2  0.082072   0.0  0.000015  0.154156  0.035263  0.101251  0.540018  0.671386   \n",
              "3  0.082072   0.0  0.000048  0.106599  0.123328  0.063472  0.306290  0.523352   \n",
              "4  0.082072   0.0  0.000063  0.072599  0.024611  0.383563  0.508826  0.564737   \n",
              "\n",
              "        Pz1        E2       Px2       Py2       Pz2        HT       MET  \\\n",
              "0  0.480732  0.055588  0.696681  0.457241  0.440224  0.061659  0.043047   \n",
              "1  0.491979  0.017684  0.567978  0.430552  0.474613  0.025133  0.034687   \n",
              "2  0.470196  0.273968  0.533484  0.338381  0.325311  0.165718  0.059381   \n",
              "3  0.483465  0.039306  0.713922  0.422854  0.493248  0.101707  0.108566   \n",
              "4  0.292545  0.224039  0.550834  0.433906  0.361549  0.110721  0.018941   \n",
              "\n",
              "   nJets  nBJets  \n",
              "0    0.0       0  \n",
              "1    0.0       0  \n",
              "2    0.2       0  \n",
              "3    0.0       0  \n",
              "4    0.2       0  "
            ],
            "text/html": [
              "\n",
              "  <div id=\"df-98981ab2-999e-43a9-9408-bd8b7aaa09e2\" class=\"colab-df-container\">\n",
              "    <div>\n",
              "<style scoped>\n",
              "    .dataframe tbody tr th:only-of-type {\n",
              "        vertical-align: middle;\n",
              "    }\n",
              "\n",
              "    .dataframe tbody tr th {\n",
              "        vertical-align: top;\n",
              "    }\n",
              "\n",
              "    .dataframe thead th {\n",
              "        text-align: right;\n",
              "    }\n",
              "</style>\n",
              "<table border=\"1\" class=\"dataframe\">\n",
              "  <thead>\n",
              "    <tr style=\"text-align: right;\">\n",
              "      <th></th>\n",
              "      <th>Run</th>\n",
              "      <th>Lumi</th>\n",
              "      <th>Event</th>\n",
              "      <th>MR</th>\n",
              "      <th>Rsq</th>\n",
              "      <th>E1</th>\n",
              "      <th>Px1</th>\n",
              "      <th>Py1</th>\n",
              "      <th>Pz1</th>\n",
              "      <th>E2</th>\n",
              "      <th>Px2</th>\n",
              "      <th>Py2</th>\n",
              "      <th>Pz2</th>\n",
              "      <th>HT</th>\n",
              "      <th>MET</th>\n",
              "      <th>nJets</th>\n",
              "      <th>nBJets</th>\n",
              "    </tr>\n",
              "  </thead>\n",
              "  <tbody>\n",
              "    <tr>\n",
              "      <th>0</th>\n",
              "      <td>0.082072</td>\n",
              "      <td>0.0</td>\n",
              "      <td>0.000002</td>\n",
              "      <td>0.077191</td>\n",
              "      <td>0.041860</td>\n",
              "      <td>0.044618</td>\n",
              "      <td>0.342725</td>\n",
              "      <td>0.531326</td>\n",
              "      <td>0.480732</td>\n",
              "      <td>0.055588</td>\n",
              "      <td>0.696681</td>\n",
              "      <td>0.457241</td>\n",
              "      <td>0.440224</td>\n",
              "      <td>0.061659</td>\n",
              "      <td>0.043047</td>\n",
              "      <td>0.0</td>\n",
              "      <td>0</td>\n",
              "    </tr>\n",
              "    <tr>\n",
              "      <th>1</th>\n",
              "      <td>0.082072</td>\n",
              "      <td>0.0</td>\n",
              "      <td>0.000006</td>\n",
              "      <td>0.052182</td>\n",
              "      <td>0.055190</td>\n",
              "      <td>0.018690</td>\n",
              "      <td>0.493614</td>\n",
              "      <td>0.585784</td>\n",
              "      <td>0.491979</td>\n",
              "      <td>0.017684</td>\n",
              "      <td>0.567978</td>\n",
              "      <td>0.430552</td>\n",
              "      <td>0.474613</td>\n",
              "      <td>0.025133</td>\n",
              "      <td>0.034687</td>\n",
              "      <td>0.0</td>\n",
              "      <td>0</td>\n",
              "    </tr>\n",
              "    <tr>\n",
              "      <th>2</th>\n",
              "      <td>0.082072</td>\n",
              "      <td>0.0</td>\n",
              "      <td>0.000015</td>\n",
              "      <td>0.154156</td>\n",
              "      <td>0.035263</td>\n",
              "      <td>0.101251</td>\n",
              "      <td>0.540018</td>\n",
              "      <td>0.671386</td>\n",
              "      <td>0.470196</td>\n",
              "      <td>0.273968</td>\n",
              "      <td>0.533484</td>\n",
              "      <td>0.338381</td>\n",
              "      <td>0.325311</td>\n",
              "      <td>0.165718</td>\n",
              "      <td>0.059381</td>\n",
              "      <td>0.2</td>\n",
              "      <td>0</td>\n",
              "    </tr>\n",
              "    <tr>\n",
              "      <th>3</th>\n",
              "      <td>0.082072</td>\n",
              "      <td>0.0</td>\n",
              "      <td>0.000048</td>\n",
              "      <td>0.106599</td>\n",
              "      <td>0.123328</td>\n",
              "      <td>0.063472</td>\n",
              "      <td>0.306290</td>\n",
              "      <td>0.523352</td>\n",
              "      <td>0.483465</td>\n",
              "      <td>0.039306</td>\n",
              "      <td>0.713922</td>\n",
              "      <td>0.422854</td>\n",
              "      <td>0.493248</td>\n",
              "      <td>0.101707</td>\n",
              "      <td>0.108566</td>\n",
              "      <td>0.0</td>\n",
              "      <td>0</td>\n",
              "    </tr>\n",
              "    <tr>\n",
              "      <th>4</th>\n",
              "      <td>0.082072</td>\n",
              "      <td>0.0</td>\n",
              "      <td>0.000063</td>\n",
              "      <td>0.072599</td>\n",
              "      <td>0.024611</td>\n",
              "      <td>0.383563</td>\n",
              "      <td>0.508826</td>\n",
              "      <td>0.564737</td>\n",
              "      <td>0.292545</td>\n",
              "      <td>0.224039</td>\n",
              "      <td>0.550834</td>\n",
              "      <td>0.433906</td>\n",
              "      <td>0.361549</td>\n",
              "      <td>0.110721</td>\n",
              "      <td>0.018941</td>\n",
              "      <td>0.2</td>\n",
              "      <td>0</td>\n",
              "    </tr>\n",
              "  </tbody>\n",
              "</table>\n",
              "</div>\n",
              "    <div class=\"colab-df-buttons\">\n",
              "\n",
              "  <div class=\"colab-df-container\">\n",
              "    <button class=\"colab-df-convert\" onclick=\"convertToInteractive('df-98981ab2-999e-43a9-9408-bd8b7aaa09e2')\"\n",
              "            title=\"Convert this dataframe to an interactive table.\"\n",
              "            style=\"display:none;\">\n",
              "\n",
              "  <svg xmlns=\"http://www.w3.org/2000/svg\" height=\"24px\" viewBox=\"0 -960 960 960\">\n",
              "    <path d=\"M120-120v-720h720v720H120Zm60-500h600v-160H180v160Zm220 220h160v-160H400v160Zm0 220h160v-160H400v160ZM180-400h160v-160H180v160Zm440 0h160v-160H620v160ZM180-180h160v-160H180v160Zm440 0h160v-160H620v160Z\"/>\n",
              "  </svg>\n",
              "    </button>\n",
              "\n",
              "  <style>\n",
              "    .colab-df-container {\n",
              "      display:flex;\n",
              "      gap: 12px;\n",
              "    }\n",
              "\n",
              "    .colab-df-convert {\n",
              "      background-color: #E8F0FE;\n",
              "      border: none;\n",
              "      border-radius: 50%;\n",
              "      cursor: pointer;\n",
              "      display: none;\n",
              "      fill: #1967D2;\n",
              "      height: 32px;\n",
              "      padding: 0 0 0 0;\n",
              "      width: 32px;\n",
              "    }\n",
              "\n",
              "    .colab-df-convert:hover {\n",
              "      background-color: #E2EBFA;\n",
              "      box-shadow: 0px 1px 2px rgba(60, 64, 67, 0.3), 0px 1px 3px 1px rgba(60, 64, 67, 0.15);\n",
              "      fill: #174EA6;\n",
              "    }\n",
              "\n",
              "    .colab-df-buttons div {\n",
              "      margin-bottom: 4px;\n",
              "    }\n",
              "\n",
              "    [theme=dark] .colab-df-convert {\n",
              "      background-color: #3B4455;\n",
              "      fill: #D2E3FC;\n",
              "    }\n",
              "\n",
              "    [theme=dark] .colab-df-convert:hover {\n",
              "      background-color: #434B5C;\n",
              "      box-shadow: 0px 1px 3px 1px rgba(0, 0, 0, 0.15);\n",
              "      filter: drop-shadow(0px 1px 2px rgba(0, 0, 0, 0.3));\n",
              "      fill: #FFFFFF;\n",
              "    }\n",
              "  </style>\n",
              "\n",
              "    <script>\n",
              "      const buttonEl =\n",
              "        document.querySelector('#df-98981ab2-999e-43a9-9408-bd8b7aaa09e2 button.colab-df-convert');\n",
              "      buttonEl.style.display =\n",
              "        google.colab.kernel.accessAllowed ? 'block' : 'none';\n",
              "\n",
              "      async function convertToInteractive(key) {\n",
              "        const element = document.querySelector('#df-98981ab2-999e-43a9-9408-bd8b7aaa09e2');\n",
              "        const dataTable =\n",
              "          await google.colab.kernel.invokeFunction('convertToInteractive',\n",
              "                                                    [key], {});\n",
              "        if (!dataTable) return;\n",
              "\n",
              "        const docLinkHtml = 'Like what you see? Visit the ' +\n",
              "          '<a target=\"_blank\" href=https://colab.research.google.com/notebooks/data_table.ipynb>data table notebook</a>'\n",
              "          + ' to learn more about interactive tables.';\n",
              "        element.innerHTML = '';\n",
              "        dataTable['output_type'] = 'display_data';\n",
              "        await google.colab.output.renderOutput(dataTable, element);\n",
              "        const docLink = document.createElement('div');\n",
              "        docLink.innerHTML = docLinkHtml;\n",
              "        element.appendChild(docLink);\n",
              "      }\n",
              "    </script>\n",
              "  </div>\n",
              "\n",
              "\n",
              "<div id=\"df-dc584fcf-758f-47db-9292-9983483b8a6f\">\n",
              "  <button class=\"colab-df-quickchart\" onclick=\"quickchart('df-dc584fcf-758f-47db-9292-9983483b8a6f')\"\n",
              "            title=\"Suggest charts\"\n",
              "            style=\"display:none;\">\n",
              "\n",
              "<svg xmlns=\"http://www.w3.org/2000/svg\" height=\"24px\"viewBox=\"0 0 24 24\"\n",
              "     width=\"24px\">\n",
              "    <g>\n",
              "        <path d=\"M19 3H5c-1.1 0-2 .9-2 2v14c0 1.1.9 2 2 2h14c1.1 0 2-.9 2-2V5c0-1.1-.9-2-2-2zM9 17H7v-7h2v7zm4 0h-2V7h2v10zm4 0h-2v-4h2v4z\"/>\n",
              "    </g>\n",
              "</svg>\n",
              "  </button>\n",
              "\n",
              "<style>\n",
              "  .colab-df-quickchart {\n",
              "      --bg-color: #E8F0FE;\n",
              "      --fill-color: #1967D2;\n",
              "      --hover-bg-color: #E2EBFA;\n",
              "      --hover-fill-color: #174EA6;\n",
              "      --disabled-fill-color: #AAA;\n",
              "      --disabled-bg-color: #DDD;\n",
              "  }\n",
              "\n",
              "  [theme=dark] .colab-df-quickchart {\n",
              "      --bg-color: #3B4455;\n",
              "      --fill-color: #D2E3FC;\n",
              "      --hover-bg-color: #434B5C;\n",
              "      --hover-fill-color: #FFFFFF;\n",
              "      --disabled-bg-color: #3B4455;\n",
              "      --disabled-fill-color: #666;\n",
              "  }\n",
              "\n",
              "  .colab-df-quickchart {\n",
              "    background-color: var(--bg-color);\n",
              "    border: none;\n",
              "    border-radius: 50%;\n",
              "    cursor: pointer;\n",
              "    display: none;\n",
              "    fill: var(--fill-color);\n",
              "    height: 32px;\n",
              "    padding: 0;\n",
              "    width: 32px;\n",
              "  }\n",
              "\n",
              "  .colab-df-quickchart:hover {\n",
              "    background-color: var(--hover-bg-color);\n",
              "    box-shadow: 0 1px 2px rgba(60, 64, 67, 0.3), 0 1px 3px 1px rgba(60, 64, 67, 0.15);\n",
              "    fill: var(--button-hover-fill-color);\n",
              "  }\n",
              "\n",
              "  .colab-df-quickchart-complete:disabled,\n",
              "  .colab-df-quickchart-complete:disabled:hover {\n",
              "    background-color: var(--disabled-bg-color);\n",
              "    fill: var(--disabled-fill-color);\n",
              "    box-shadow: none;\n",
              "  }\n",
              "\n",
              "  .colab-df-spinner {\n",
              "    border: 2px solid var(--fill-color);\n",
              "    border-color: transparent;\n",
              "    border-bottom-color: var(--fill-color);\n",
              "    animation:\n",
              "      spin 1s steps(1) infinite;\n",
              "  }\n",
              "\n",
              "  @keyframes spin {\n",
              "    0% {\n",
              "      border-color: transparent;\n",
              "      border-bottom-color: var(--fill-color);\n",
              "      border-left-color: var(--fill-color);\n",
              "    }\n",
              "    20% {\n",
              "      border-color: transparent;\n",
              "      border-left-color: var(--fill-color);\n",
              "      border-top-color: var(--fill-color);\n",
              "    }\n",
              "    30% {\n",
              "      border-color: transparent;\n",
              "      border-left-color: var(--fill-color);\n",
              "      border-top-color: var(--fill-color);\n",
              "      border-right-color: var(--fill-color);\n",
              "    }\n",
              "    40% {\n",
              "      border-color: transparent;\n",
              "      border-right-color: var(--fill-color);\n",
              "      border-top-color: var(--fill-color);\n",
              "    }\n",
              "    60% {\n",
              "      border-color: transparent;\n",
              "      border-right-color: var(--fill-color);\n",
              "    }\n",
              "    80% {\n",
              "      border-color: transparent;\n",
              "      border-right-color: var(--fill-color);\n",
              "      border-bottom-color: var(--fill-color);\n",
              "    }\n",
              "    90% {\n",
              "      border-color: transparent;\n",
              "      border-bottom-color: var(--fill-color);\n",
              "    }\n",
              "  }\n",
              "</style>\n",
              "\n",
              "  <script>\n",
              "    async function quickchart(key) {\n",
              "      const quickchartButtonEl =\n",
              "        document.querySelector('#' + key + ' button');\n",
              "      quickchartButtonEl.disabled = true;  // To prevent multiple clicks.\n",
              "      quickchartButtonEl.classList.add('colab-df-spinner');\n",
              "      try {\n",
              "        const charts = await google.colab.kernel.invokeFunction(\n",
              "            'suggestCharts', [key], {});\n",
              "      } catch (error) {\n",
              "        console.error('Error during call to suggestCharts:', error);\n",
              "      }\n",
              "      quickchartButtonEl.classList.remove('colab-df-spinner');\n",
              "      quickchartButtonEl.classList.add('colab-df-quickchart-complete');\n",
              "    }\n",
              "    (() => {\n",
              "      let quickchartButtonEl =\n",
              "        document.querySelector('#df-dc584fcf-758f-47db-9292-9983483b8a6f button');\n",
              "      quickchartButtonEl.style.display =\n",
              "        google.colab.kernel.accessAllowed ? 'block' : 'none';\n",
              "    })();\n",
              "  </script>\n",
              "</div>\n",
              "\n",
              "    </div>\n",
              "  </div>\n"
            ],
            "application/vnd.google.colaboratory.intrinsic+json": {
              "type": "dataframe",
              "variable_name": "df",
              "summary": "{\n  \"name\": \"df\",\n  \"rows\": 21671,\n  \"fields\": [\n    {\n      \"column\": \"Run\",\n      \"properties\": {\n        \"dtype\": \"number\",\n        \"std\": 0.47494780154320004,\n        \"min\": 0.0,\n        \"max\": 1.0,\n        \"num_unique_values\": 4,\n        \"samples\": [\n          0.0,\n          0.002390438247011952,\n          0.08207171314741035\n        ],\n        \"semantic_type\": \"\",\n        \"description\": \"\"\n      }\n    },\n    {\n      \"column\": \"Lumi\",\n      \"properties\": {\n        \"dtype\": \"number\",\n        \"std\": 0.35064319825324997,\n        \"min\": 0.0,\n        \"max\": 1.0,\n        \"num_unique_values\": 28,\n        \"samples\": [\n          0.05296610169491525,\n          0.998587570621469,\n          0.052259887005649715\n        ],\n        \"semantic_type\": \"\",\n        \"description\": \"\"\n      }\n    },\n    {\n      \"column\": \"Event\",\n      \"properties\": {\n        \"dtype\": \"number\",\n        \"std\": 0.3415750461376237,\n        \"min\": 0.0,\n        \"max\": 1.0,\n        \"num_unique_values\": 21671,\n        \"samples\": [\n          0.14366397306151077,\n          0.9912795062217793,\n          0.9986842565014573\n        ],\n        \"semantic_type\": \"\",\n        \"description\": \"\"\n      }\n    },\n    {\n      \"column\": \"MR\",\n      \"properties\": {\n        \"dtype\": \"number\",\n        \"std\": 0.08061604645799919,\n        \"min\": 0.0,\n        \"max\": 1.0,\n        \"num_unique_values\": 21075,\n        \"samples\": [\n          0.12676535153358603,\n          0.1172787847143802,\n          0.0456710966016134\n        ],\n        \"semantic_type\": \"\",\n        \"description\": \"\"\n      }\n    },\n    {\n      \"column\": \"Rsq\",\n      \"properties\": {\n        \"dtype\": \"number\",\n        \"std\": 0.030469033171438214,\n        \"min\": 0.0,\n        \"max\": 1.0,\n        \"num_unique_values\": 21434,\n        \"samples\": [\n          0.018209360844243443,\n          0.07299508760312509,\n          0.027949880732130443\n        ],\n        \"semantic_type\": \"\",\n        \"description\": \"\"\n      }\n    },\n    {\n      \"column\": \"E1\",\n      \"properties\": {\n        \"dtype\": \"number\",\n        \"std\": 0.10899557004765521,\n        \"min\": 0.0,\n        \"max\": 1.0,\n        \"num_unique_values\": 21094,\n        \"samples\": [\n          0.08534456619471716,\n          0.502443898092824,\n          0.05407257028528774\n        ],\n        \"semantic_type\": \"\",\n        \"description\": \"\"\n      }\n    },\n    {\n      \"column\": \"Px1\",\n      \"properties\": {\n        \"dtype\": \"number\",\n        \"std\": 0.07239304402928741,\n        \"min\": 0.0,\n        \"max\": 1.0,\n        \"num_unique_values\": 21433,\n        \"samples\": [\n          0.5119325936410049,\n          0.35655384357781933,\n          0.47965274794015067\n        ],\n        \"semantic_type\": \"\",\n        \"description\": \"\"\n      }\n    },\n    {\n      \"column\": \"Py1\",\n      \"properties\": {\n        \"dtype\": \"number\",\n        \"std\": 0.08110288671823111,\n        \"min\": 0.0,\n        \"max\": 1.0,\n        \"num_unique_values\": 21462,\n        \"samples\": [\n          0.5482193669158132,\n          0.5866629299162629,\n          0.531226270964466\n        ],\n        \"semantic_type\": \"\",\n        \"description\": \"\"\n      }\n    },\n    {\n      \"column\": \"Pz1\",\n      \"properties\": {\n        \"dtype\": \"number\",\n        \"std\": 0.08363592173506569,\n        \"min\": 0.0,\n        \"max\": 1.0,\n        \"num_unique_values\": 21561,\n        \"samples\": [\n          0.6489199843298565,\n          0.4357568189608736,\n          0.5106742568924146\n        ],\n        \"semantic_type\": \"\",\n        \"description\": \"\"\n      }\n    },\n    {\n      \"column\": \"E2\",\n      \"properties\": {\n        \"dtype\": \"number\",\n        \"std\": 0.11494038552992812,\n        \"min\": 0.0,\n        \"max\": 1.0,\n        \"num_unique_values\": 21174,\n        \"samples\": [\n          0.2479889929081668,\n          0.7417659156545615,\n          0.47518291395924106\n        ],\n        \"semantic_type\": \"\",\n        \"description\": \"\"\n      }\n    },\n    {\n      \"column\": \"Px2\",\n      \"properties\": {\n        \"dtype\": \"number\",\n        \"std\": 0.0693748799040197,\n        \"min\": 0.0,\n        \"max\": 1.0,\n        \"num_unique_values\": 21520,\n        \"samples\": [\n          0.6846458146001855,\n          0.5011561028298285,\n          0.6260067954964457\n        ],\n        \"semantic_type\": \"\",\n        \"description\": \"\"\n      }\n    },\n    {\n      \"column\": \"Py2\",\n      \"properties\": {\n        \"dtype\": \"number\",\n        \"std\": 0.06911262296746745,\n        \"min\": 0.0,\n        \"max\": 1.0,\n        \"num_unique_values\": 21531,\n        \"samples\": [\n          0.3534444814633946,\n          0.42495513151108816,\n          0.43670918774845163\n        ],\n        \"semantic_type\": \"\",\n        \"description\": \"\"\n      }\n    },\n    {\n      \"column\": \"Pz2\",\n      \"properties\": {\n        \"dtype\": \"number\",\n        \"std\": 0.09247895562733348,\n        \"min\": 0.0,\n        \"max\": 1.0,\n        \"num_unique_values\": 21559,\n        \"samples\": [\n          0.49216977144713725,\n          0.42971791016023714,\n          0.5134739517592158\n        ],\n        \"semantic_type\": \"\",\n        \"description\": \"\"\n      }\n    },\n    {\n      \"column\": \"HT\",\n      \"properties\": {\n        \"dtype\": \"number\",\n        \"std\": 0.05864908347712315,\n        \"min\": 0.0,\n        \"max\": 1.0,\n        \"num_unique_values\": 20513,\n        \"samples\": [\n          0.05972756787697923,\n          0.10450088395846441,\n          0.08198006696022635\n        ],\n        \"semantic_type\": \"\",\n        \"description\": \"\"\n      }\n    },\n    {\n      \"column\": \"MET\",\n      \"properties\": {\n        \"dtype\": \"number\",\n        \"std\": 0.025460219831558505,\n        \"min\": 0.0,\n        \"max\": 1.0,\n        \"num_unique_values\": 21149,\n        \"samples\": [\n          0.0719300758523552,\n          0.06689513329189,\n          0.033321758087060324\n        ],\n        \"semantic_type\": \"\",\n        \"description\": \"\"\n      }\n    },\n    {\n      \"column\": \"nJets\",\n      \"properties\": {\n        \"dtype\": \"number\",\n        \"std\": 0.13096366120215894,\n        \"min\": 0.0,\n        \"max\": 1.0,\n        \"num_unique_values\": 6,\n        \"samples\": [\n          0.0,\n          0.2,\n          1.0\n        ],\n        \"semantic_type\": \"\",\n        \"description\": \"\"\n      }\n    },\n    {\n      \"column\": \"nBJets\",\n      \"properties\": {\n        \"dtype\": \"number\",\n        \"std\": 0,\n        \"min\": 0,\n        \"max\": 1,\n        \"num_unique_values\": 2,\n        \"samples\": [\n          1,\n          0\n        ],\n        \"semantic_type\": \"\",\n        \"description\": \"\"\n      }\n    }\n  ]\n}"
            }
          },
          "metadata": {},
          "execution_count": 478
        }
      ]
    },
    {
      "cell_type": "code",
      "source": [
        "X = df.drop(\"nBJets\", axis=\"columns\")\n",
        "y = df[\"nBJets\"]\n",
        "\n",
        "\n",
        "X_train, X_test, y_train, y_test = train_test_split(X, y, test_size=0.2, stratify=y)"
      ],
      "metadata": {
        "id": "MqcBJReOrqa3"
      },
      "execution_count": 479,
      "outputs": []
    },
    {
      "cell_type": "markdown",
      "source": [
        "Потрібно на основі інформації про розпад спрогнозувати наявність високоенергетичного випромінювання `nBJets`"
      ],
      "metadata": {
        "id": "KAmkR_CFejgQ"
      }
    },
    {
      "cell_type": "markdown",
      "source": [
        "# Завдання 1\n",
        "Створіть клас Dataset для тренувальних та тестових даних"
      ],
      "metadata": {
        "id": "dBt0E5BJe6OK"
      }
    },
    {
      "cell_type": "code",
      "source": [
        "from torch.utils.data import Dataset\n",
        "\n",
        "class MyDataset(Dataset):\n",
        "  def __init__(self, X, y):\n",
        "    self.X = torch.FloatTensor(X.values).to(device)\n",
        "    self.y = torch.FloatTensor(y.values).to(device)\n",
        "    self.y = self.y.reshape(-1, 1)\n",
        "\n",
        "  def __len__(self):\n",
        "    return len(self.X)\n",
        "\n",
        "  def __getitem__(self, index):\n",
        "    return self.X[index], self.y[index]"
      ],
      "metadata": {
        "id": "zQar7xD0K21Y"
      },
      "execution_count": 480,
      "outputs": []
    },
    {
      "cell_type": "code",
      "source": [
        "train_ds = MyDataset(X_train, y_train)\n",
        "test_ds = MyDataset(X_test, y_test)"
      ],
      "metadata": {
        "id": "danWFPyOsfXX"
      },
      "execution_count": 481,
      "outputs": []
    },
    {
      "cell_type": "markdown",
      "source": [
        "# Завдання 2\n",
        "Створіть DataLoader"
      ],
      "metadata": {
        "id": "zQlB_6WzfB8n"
      }
    },
    {
      "cell_type": "code",
      "source": [
        "from torch.utils.data import DataLoader\n",
        "\n",
        "train_dl = DataLoader(train_ds, batch_size=256, shuffle=True, generator=torch.Generator(device=device))\n",
        "test_dl = DataLoader(test_ds, batch_size=256, shuffle=True, generator=torch.Generator(device=device))"
      ],
      "metadata": {
        "id": "-6-po4H4fZQy"
      },
      "execution_count": 482,
      "outputs": []
    },
    {
      "cell_type": "code",
      "source": [
        "device"
      ],
      "metadata": {
        "colab": {
          "base_uri": "https://localhost:8080/",
          "height": 35
        },
        "id": "qGFUoi0WtFx1",
        "outputId": "c499f209-9323-4bee-e0cc-68ab7d671815"
      },
      "execution_count": 483,
      "outputs": [
        {
          "output_type": "execute_result",
          "data": {
            "text/plain": [
              "'cpu'"
            ],
            "application/vnd.google.colaboratory.intrinsic+json": {
              "type": "string"
            }
          },
          "metadata": {},
          "execution_count": 483
        }
      ]
    },
    {
      "cell_type": "code",
      "source": [
        "train_ds[0][0].shape"
      ],
      "metadata": {
        "colab": {
          "base_uri": "https://localhost:8080/"
        },
        "id": "fNqRkh8buSDj",
        "outputId": "4f94d648-8bee-4c5b-89e6-3007cd789689"
      },
      "execution_count": 484,
      "outputs": [
        {
          "output_type": "execute_result",
          "data": {
            "text/plain": [
              "torch.Size([16])"
            ]
          },
          "metadata": {},
          "execution_count": 484
        }
      ]
    },
    {
      "cell_type": "markdown",
      "source": [
        "# Завдання 3\n",
        "Створіть нейромережу"
      ],
      "metadata": {
        "id": "2W93LiDxfZrx"
      }
    },
    {
      "cell_type": "code",
      "source": [
        "# from torch import nn\n",
        "# import torch.nn.functional as F\n",
        "\n",
        "\n",
        "# class Model(nn.Module):\n",
        "#   def __init__(self, input_dim, hidden_dim, output_dim):\n",
        "#     super().__init__()\n",
        "\n",
        "#     self.linear_1 = nn.Linear(input_dim, hidden_dim)\n",
        "#     self.bnorm_1 = nn.BatchNorm1d(hidden_dim)\n",
        "#     self.drop_out1 = nn.Dropout(0.1)\n",
        "#     self.linear_2 = nn.Linear(hidden_dim, hidden_dim-3)\n",
        "#     self.linear_3 = nn.Linear(hidden_dim-3, hidden_dim-7)\n",
        "#     self.linear_4 = nn.Linear(hidden_dim-7, hidden_dim-10)\n",
        "#     self.linear_5 = nn.Linear(hidden_dim-10, hidden_dim-18)\n",
        "#     self.linear_6 = nn.Linear(hidden_dim-18, hidden_dim-21)\n",
        "#     self.linear_7 = nn.Linear(hidden_dim-21, output_dim)\n",
        "\n",
        "#   def forward(self, x):\n",
        "#     out = self.linear_1(x)\n",
        "#     out = self.bnorm_1(out)\n",
        "#     out = F.relu(out)\n",
        "#     out = self.drop_out1(out)\n",
        "#     out = self.linear_2(out)\n",
        "#     out = F.relu(out)\n",
        "#     out = self.linear_3(out)\n",
        "#     out = F.relu(out)\n",
        "#     out = self.linear_4(out)\n",
        "#     out = F.relu(out)\n",
        "#     out = self.linear_5(out)\n",
        "#     out = F.relu(out)\n",
        "#     out = self.linear_6(out)\n",
        "#     out = F.relu(out)\n",
        "#     out = self.linear_7(out)\n",
        "\n",
        "#     return out\n",
        "\n",
        "#   def predict(self, X, device=\"cpu\"):\n",
        "#     X = torch.FloatTensor(X.values).to(device)\n",
        "\n",
        "#     with torch.no_grad():\n",
        "#       y_pred = self.forward(X)\n",
        "#       y_pred = F.sigmoid(y_pred)\n",
        "\n",
        "#     return y_pred.cpu().numpy().squeeze()\n",
        "\n",
        "# model = Model(16, 27, 1)\n",
        "# model\n"
      ],
      "metadata": {
        "id": "p9DHog7Xf7xE"
      },
      "execution_count": 485,
      "outputs": []
    },
    {
      "cell_type": "code",
      "source": [
        "from torch import nn\n",
        "import torch.nn.functional as F\n",
        "\n",
        "\n",
        "class Model(nn.Module):\n",
        "  def __init__(self, input_dim, hidden_dim, output_dim):\n",
        "    super().__init__()\n",
        "\n",
        "    self.linear_1 = nn.Linear(input_dim, hidden_dim)\n",
        "    self.drop_out1 = nn.Dropout(0.2)\n",
        "    self.bnorm_1 = nn.BatchNorm1d(hidden_dim)\n",
        "\n",
        "    self.linear_2 = nn.Linear(hidden_dim, hidden_dim-3)\n",
        "    self.linear_3 = nn.Linear(hidden_dim-3, hidden_dim-7)\n",
        "    self.linear_4 = nn.Linear(hidden_dim-7, hidden_dim-10)\n",
        "    self.linear_5 = nn.Linear(hidden_dim-10, hidden_dim-18)\n",
        "    self.bnorm_2 = nn.BatchNorm1d(hidden_dim-18)\n",
        "    self.linear_6 = nn.Linear(hidden_dim-18, hidden_dim-21)\n",
        "    self.linear_7 = nn.Linear(hidden_dim-21, hidden_dim-24)\n",
        "    self.linear_8 = nn.Linear(hidden_dim-24, hidden_dim-27)\n",
        "    self.linear_9 = nn.Linear(hidden_dim-27, hidden_dim-32)\n",
        "    self.bnorm_3 = nn.BatchNorm1d(hidden_dim-32)\n",
        "    self.linear_10 = nn.Linear(hidden_dim-32, output_dim)\n",
        "\n",
        "  def forward(self, x):\n",
        "    out = self.linear_1(x)\n",
        "    out = self.drop_out1(out)\n",
        "    out = self.bnorm_1(out)\n",
        "    out = F.relu(out)\n",
        "    # out = self.drop_out1(out)\n",
        "    out = self.linear_2(out)\n",
        "    out = F.relu(out)\n",
        "    out = self.linear_3(out)\n",
        "    out = F.relu(out)\n",
        "    out = self.linear_4(out)\n",
        "    out = F.relu(out)\n",
        "    out = self.linear_5(out)\n",
        "    out = self.bnorm_2(out)\n",
        "    out = F.relu(out)\n",
        "    out = self.linear_6(out)\n",
        "    out = F.relu(out)\n",
        "    out = self.linear_7(out)\n",
        "    out = F.relu(out)\n",
        "    out = self.linear_8(out)\n",
        "    out = F.relu(out)\n",
        "    out = self.linear_9(out)\n",
        "    out = self.bnorm_3(out)\n",
        "    out = F.relu(out)\n",
        "    out = self.linear_10(out)\n",
        "\n",
        "    return out\n",
        "\n",
        "  def predict(self, X, device=\"cpu\"):\n",
        "    X = torch.FloatTensor(X.values).to(device)\n",
        "\n",
        "    with torch.no_grad():\n",
        "      y_pred = self.forward(X)\n",
        "      y_pred = F.sigmoid(y_pred)\n",
        "\n",
        "    return y_pred.cpu().numpy().squeeze()\n",
        "\n",
        "model = Model(16, 35, 1)\n",
        "model\n"
      ],
      "metadata": {
        "colab": {
          "base_uri": "https://localhost:8080/"
        },
        "id": "AZ3HzzMG6j9z",
        "outputId": "559535e7-211f-4a29-8acc-64e6ae3729d7"
      },
      "execution_count": 486,
      "outputs": [
        {
          "output_type": "execute_result",
          "data": {
            "text/plain": [
              "Model(\n",
              "  (linear_1): Linear(in_features=16, out_features=35, bias=True)\n",
              "  (drop_out1): Dropout(p=0.2, inplace=False)\n",
              "  (bnorm_1): BatchNorm1d(35, eps=1e-05, momentum=0.1, affine=True, track_running_stats=True)\n",
              "  (linear_2): Linear(in_features=35, out_features=32, bias=True)\n",
              "  (linear_3): Linear(in_features=32, out_features=28, bias=True)\n",
              "  (linear_4): Linear(in_features=28, out_features=25, bias=True)\n",
              "  (linear_5): Linear(in_features=25, out_features=17, bias=True)\n",
              "  (bnorm_2): BatchNorm1d(17, eps=1e-05, momentum=0.1, affine=True, track_running_stats=True)\n",
              "  (linear_6): Linear(in_features=17, out_features=14, bias=True)\n",
              "  (linear_7): Linear(in_features=14, out_features=11, bias=True)\n",
              "  (linear_8): Linear(in_features=11, out_features=8, bias=True)\n",
              "  (linear_9): Linear(in_features=8, out_features=3, bias=True)\n",
              "  (bnorm_3): BatchNorm1d(3, eps=1e-05, momentum=0.1, affine=True, track_running_stats=True)\n",
              "  (linear_10): Linear(in_features=3, out_features=1, bias=True)\n",
              ")"
            ]
          },
          "metadata": {},
          "execution_count": 486
        }
      ]
    },
    {
      "cell_type": "markdown",
      "source": [
        "# Завдання 4\n",
        "Визначте функцію втрат та оптимізатор, можливо графік швидкості навчання"
      ],
      "metadata": {
        "id": "VmNUVkkUf8gB"
      }
    },
    {
      "cell_type": "code",
      "source": [
        "y_train.value_counts()"
      ],
      "metadata": {
        "colab": {
          "base_uri": "https://localhost:8080/",
          "height": 178
        },
        "id": "UyrtHQXYw7TG",
        "outputId": "9b5b8e37-5bf9-4917-849b-415dcb3bd3a1"
      },
      "execution_count": 487,
      "outputs": [
        {
          "output_type": "execute_result",
          "data": {
            "text/plain": [
              "nBJets\n",
              "0    16491\n",
              "1      845\n",
              "Name: count, dtype: int64"
            ],
            "text/html": [
              "<table border=\"1\" class=\"dataframe\">\n",
              "  <thead>\n",
              "    <tr style=\"text-align: right;\">\n",
              "      <th></th>\n",
              "      <th>count</th>\n",
              "    </tr>\n",
              "    <tr>\n",
              "      <th>nBJets</th>\n",
              "      <th></th>\n",
              "    </tr>\n",
              "  </thead>\n",
              "  <tbody>\n",
              "    <tr>\n",
              "      <th>0</th>\n",
              "      <td>16491</td>\n",
              "    </tr>\n",
              "    <tr>\n",
              "      <th>1</th>\n",
              "      <td>845</td>\n",
              "    </tr>\n",
              "  </tbody>\n",
              "</table><br><label><b>dtype:</b> int64</label>"
            ]
          },
          "metadata": {},
          "execution_count": 487
        }
      ]
    },
    {
      "cell_type": "code",
      "source": [
        "num_0 = sum(y_train == 0)\n",
        "num_1 = sum(y_train == 1)\n",
        "\n",
        "loss_func = nn.BCEWithLogitsLoss(pos_weight=torch.tensor(num_0/num_1))\n",
        "\n",
        "# loss_func = nn.BCELoss()\n",
        "\n",
        "optimizer = torch.optim.Adam(model.parameters(), lr=1e-3, weight_decay=0.01)"
      ],
      "metadata": {
        "id": "e1sw9oRBgDXR"
      },
      "execution_count": 488,
      "outputs": []
    },
    {
      "cell_type": "code",
      "source": [
        "num_0/num_1"
      ],
      "metadata": {
        "id": "XH3iGQRo6J0I",
        "outputId": "8e0c0cab-f9c3-4d4b-e6b7-d5604f8a47ed",
        "colab": {
          "base_uri": "https://localhost:8080/"
        }
      },
      "execution_count": 489,
      "outputs": [
        {
          "output_type": "execute_result",
          "data": {
            "text/plain": [
              "19.515976331360946"
            ]
          },
          "metadata": {},
          "execution_count": 489
        }
      ]
    },
    {
      "cell_type": "code",
      "source": [
        "from torch.optim.lr_scheduler import StepLR\n",
        "\n",
        "scheduler = StepLR(optimizer, step_size=500, gamma=0.1)"
      ],
      "metadata": {
        "id": "hKNmtFjnxWkv"
      },
      "execution_count": 490,
      "outputs": []
    },
    {
      "cell_type": "markdown",
      "source": [
        "# Завдання 5\n",
        "Натренуйте нейромережу."
      ],
      "metadata": {
        "id": "qTOFCl_egEFZ"
      }
    },
    {
      "cell_type": "code",
      "source": [
        "import time\n",
        "\n",
        "def train(model, optimizer, loss_fn, train_dl, val_dl,\n",
        "          metrics=None, metrics_name=None, epochs=20, device='cpu', task='binary'):\n",
        "\n",
        "    print('train() called: model=%s, opt=%s(lr=%f), epochs=%d, device=%s\\n' % \\\n",
        "          (type(model).__name__, type(optimizer).__name__,\n",
        "           optimizer.param_groups[0]['lr'], epochs, device))\n",
        "\n",
        "    metrics = metrics if metrics else []\n",
        "    metrics_name = metrics_name if metrics_name else [metric.__name__ for metric in metrics]\n",
        "\n",
        "    history = {} # Collects per-epoch loss and metrics like Keras' fit().\n",
        "    history['lr'] = []\n",
        "    history['loss'] = []\n",
        "    history['val_loss'] = []\n",
        "    for name in metrics_name:\n",
        "        history[name] = []\n",
        "        history[f'val_{name}'] = []\n",
        "\n",
        "    start_time_train = time.time()\n",
        "\n",
        "    for epoch in range(epochs):\n",
        "\n",
        "        # --- TRAIN AND EVALUATE ON TRAINING SET -----------------------------\n",
        "        start_time_epoch = time.time()\n",
        "\n",
        "        model.train()\n",
        "        history_train = {name: 0 for name in ['loss']+metrics_name}\n",
        "\n",
        "        for batch in train_dl:\n",
        "            x    = batch[0].to(device)\n",
        "            y    = batch[1].to(device)\n",
        "            y_pred = model(x)\n",
        "            loss = loss_fn(y_pred, y)\n",
        "            y_pred = F.sigmoid(y_pred)\n",
        "\n",
        "            optimizer.zero_grad()\n",
        "            loss.backward()\n",
        "            optimizer.step()\n",
        "\n",
        "            y_pred = y_pred.detach().cpu().numpy()\n",
        "            y = y.detach().cpu().numpy()\n",
        "\n",
        "            history_train['loss'] += loss.item() * x.size(0)\n",
        "            for name, func in zip(metrics_name, metrics):\n",
        "              try:\n",
        "                  history_train[name] += func(y, y_pred) * x.size(0)\n",
        "              except:\n",
        "                  if task == 'binary': y_pred_ = y_pred.round()\n",
        "                  elif task == 'multiclass': y_pred_ = y_pred.argmax(axis=-1)\n",
        "                  history_train[name] += func(y, y_pred_) * x.size(0)\n",
        "\n",
        "        for name in history_train:\n",
        "            history_train[name] /= len(train_dl.dataset)\n",
        "\n",
        "        scheduler.step()\n",
        "        # optimizer.step()\n",
        "        history['lr'].append(scheduler.get_last_lr())\n",
        "\n",
        "\n",
        "        # --- EVALUATE ON VALIDATION SET -------------------------------------\n",
        "        model.eval()\n",
        "        history_val = {'val_' + name: 0 for name in metrics_name+['loss']}\n",
        "\n",
        "        with torch.no_grad():\n",
        "            for batch in val_dl:\n",
        "                x    = batch[0].to(device)\n",
        "                y    = batch[1].to(device)\n",
        "                y_pred = model(x)\n",
        "                loss = loss_fn(y_pred, y)\n",
        "                y_pred = F.sigmoid(y_pred)\n",
        "\n",
        "                y_pred = y_pred.cpu().numpy()\n",
        "                y = y.cpu().numpy()\n",
        "\n",
        "                history_val['val_loss'] += loss.item() * x.size(0)\n",
        "                for name, func in zip(metrics_name, metrics):\n",
        "                    try:\n",
        "                        history_val['val_'+name] += func(y, y_pred) * x.size(0)\n",
        "                    except:\n",
        "                        if task == 'binary': y_pred_ = y_pred.round()\n",
        "                        elif task == 'multiclass': y_pred_ = y_pred.argmax(axis=-1)\n",
        "\n",
        "                        history_val['val_'+name] += func(y, y_pred_) * x.size(0)\n",
        "\n",
        "        for name in history_val:\n",
        "            history_val[name] /= len(val_dl.dataset)\n",
        "\n",
        "        # PRINTING RESULTS\n",
        "\n",
        "        end_time_epoch = time.time()\n",
        "\n",
        "        for name in history_train:\n",
        "            history[name].append(history_train[name])\n",
        "            history['val_'+name].append(history_val['val_'+name])\n",
        "\n",
        "        total_time_epoch = end_time_epoch - start_time_epoch\n",
        "\n",
        "        print(f'Epoch {epoch+1:4d} {total_time_epoch:4.0f}sec', end='\\t')\n",
        "        for name in history_train:\n",
        "            print(f'{name}: {history[name][-1]:10.3g}', end='\\t')\n",
        "            print(f\"val_{name}: {history['val_'+name][-1]:10.3g}\", end='\\t')\n",
        "        print()\n",
        "\n",
        "    # END OF TRAINING LOOP\n",
        "\n",
        "    end_time_train       = time.time()\n",
        "    total_time_train     = end_time_train - start_time_train\n",
        "    print()\n",
        "    print('Time total:     %5.2f sec' % (total_time_train))\n",
        "\n",
        "    return history"
      ],
      "metadata": {
        "id": "Nxo4p3IUgOx5"
      },
      "execution_count": 491,
      "outputs": []
    },
    {
      "cell_type": "code",
      "source": [
        "from sklearn.metrics import accuracy_score\n",
        "\n",
        "history = train(model, optimizer, loss_func, train_dl, test_dl,\n",
        "                epochs=100,\n",
        "                metrics=[accuracy_score],\n",
        "                device=device,\n",
        "                task='binary')"
      ],
      "metadata": {
        "colab": {
          "base_uri": "https://localhost:8080/"
        },
        "id": "JqX8M8aRyr8u",
        "outputId": "49ff7f19-2b51-4a49-97a2-1dd55d3beae3"
      },
      "execution_count": 493,
      "outputs": [
        {
          "output_type": "stream",
          "name": "stdout",
          "text": [
            "train() called: model=Model, opt=Adam(lr=0.001000), epochs=100, device=cpu\n",
            "\n",
            "Epoch    1    4sec\tloss:       1.31\tval_loss:       1.31\taccuracy_score:      0.624\tval_accuracy_score:      0.431\t\n",
            "Epoch    2    1sec\tloss:       1.31\tval_loss:       1.31\taccuracy_score:      0.501\tval_accuracy_score:      0.324\t\n",
            "Epoch    3    1sec\tloss:        1.3\tval_loss:        1.3\taccuracy_score:      0.523\tval_accuracy_score:      0.631\t\n",
            "Epoch    4    1sec\tloss:       1.31\tval_loss:        1.3\taccuracy_score:      0.548\tval_accuracy_score:      0.511\t\n",
            "Epoch    5    1sec\tloss:       1.31\tval_loss:       1.31\taccuracy_score:      0.573\tval_accuracy_score:      0.391\t\n",
            "Epoch    6    1sec\tloss:        1.3\tval_loss:        1.3\taccuracy_score:      0.587\tval_accuracy_score:      0.494\t\n",
            "Epoch    7    1sec\tloss:        1.3\tval_loss:       1.31\taccuracy_score:      0.615\tval_accuracy_score:      0.499\t\n",
            "Epoch    8    1sec\tloss:        1.3\tval_loss:       1.31\taccuracy_score:      0.569\tval_accuracy_score:       0.42\t\n",
            "Epoch    9    1sec\tloss:        1.3\tval_loss:        1.3\taccuracy_score:      0.598\tval_accuracy_score:      0.337\t\n",
            "Epoch   10    1sec\tloss:        1.3\tval_loss:        1.3\taccuracy_score:      0.541\tval_accuracy_score:      0.545\t\n",
            "Epoch   11    1sec\tloss:        1.3\tval_loss:        1.3\taccuracy_score:      0.592\tval_accuracy_score:      0.388\t\n",
            "Epoch   12    1sec\tloss:        1.3\tval_loss:        1.3\taccuracy_score:      0.572\tval_accuracy_score:       0.46\t\n",
            "Epoch   13    1sec\tloss:       1.29\tval_loss:        1.3\taccuracy_score:      0.485\tval_accuracy_score:      0.362\t\n",
            "Epoch   14    1sec\tloss:        1.3\tval_loss:       1.31\taccuracy_score:      0.494\tval_accuracy_score:      0.721\t\n",
            "Epoch   15    1sec\tloss:        1.3\tval_loss:        1.3\taccuracy_score:      0.548\tval_accuracy_score:      0.332\t\n",
            "Epoch   16    1sec\tloss:        1.3\tval_loss:        1.3\taccuracy_score:      0.543\tval_accuracy_score:       0.44\t\n",
            "Epoch   17    1sec\tloss:       1.29\tval_loss:        1.3\taccuracy_score:      0.519\tval_accuracy_score:      0.576\t\n",
            "Epoch   18    1sec\tloss:       1.29\tval_loss:       1.31\taccuracy_score:      0.527\tval_accuracy_score:      0.371\t\n",
            "Epoch   19    1sec\tloss:        1.3\tval_loss:       1.31\taccuracy_score:      0.584\tval_accuracy_score:      0.823\t\n",
            "Epoch   20    1sec\tloss:        1.3\tval_loss:       1.32\taccuracy_score:      0.563\tval_accuracy_score:      0.266\t\n",
            "Epoch   21    1sec\tloss:       1.29\tval_loss:        1.3\taccuracy_score:      0.513\tval_accuracy_score:      0.588\t\n",
            "Epoch   22    1sec\tloss:       1.29\tval_loss:       1.31\taccuracy_score:      0.533\tval_accuracy_score:      0.561\t\n",
            "Epoch   23    1sec\tloss:       1.29\tval_loss:       1.31\taccuracy_score:      0.513\tval_accuracy_score:      0.768\t\n",
            "Epoch   24    2sec\tloss:       1.29\tval_loss:        1.3\taccuracy_score:      0.548\tval_accuracy_score:      0.672\t\n",
            "Epoch   25    1sec\tloss:       1.29\tval_loss:       1.31\taccuracy_score:      0.543\tval_accuracy_score:      0.402\t\n",
            "Epoch   26    1sec\tloss:       1.29\tval_loss:        1.3\taccuracy_score:       0.51\tval_accuracy_score:      0.442\t\n",
            "Epoch   27    1sec\tloss:       1.29\tval_loss:       1.31\taccuracy_score:      0.535\tval_accuracy_score:      0.505\t\n",
            "Epoch   28    1sec\tloss:       1.29\tval_loss:       1.31\taccuracy_score:      0.522\tval_accuracy_score:      0.781\t\n",
            "Epoch   29    1sec\tloss:       1.29\tval_loss:       1.31\taccuracy_score:      0.563\tval_accuracy_score:      0.324\t\n",
            "Epoch   30    2sec\tloss:       1.29\tval_loss:        1.3\taccuracy_score:       0.52\tval_accuracy_score:      0.458\t\n",
            "Epoch   31    1sec\tloss:       1.29\tval_loss:       1.31\taccuracy_score:      0.571\tval_accuracy_score:      0.564\t\n",
            "Epoch   32    1sec\tloss:       1.29\tval_loss:       1.31\taccuracy_score:      0.534\tval_accuracy_score:      0.378\t\n",
            "Epoch   33    1sec\tloss:       1.29\tval_loss:        1.3\taccuracy_score:      0.566\tval_accuracy_score:       0.69\t\n",
            "Epoch   34    2sec\tloss:       1.29\tval_loss:       1.31\taccuracy_score:      0.566\tval_accuracy_score:      0.313\t\n",
            "Epoch   35    1sec\tloss:       1.29\tval_loss:       1.31\taccuracy_score:      0.575\tval_accuracy_score:      0.523\t\n",
            "Epoch   36    1sec\tloss:       1.29\tval_loss:        1.3\taccuracy_score:      0.535\tval_accuracy_score:      0.658\t\n",
            "Epoch   37    1sec\tloss:       1.28\tval_loss:        1.3\taccuracy_score:       0.54\tval_accuracy_score:      0.523\t\n",
            "Epoch   38    1sec\tloss:       1.29\tval_loss:        1.3\taccuracy_score:      0.585\tval_accuracy_score:      0.574\t\n",
            "Epoch   39    1sec\tloss:       1.29\tval_loss:        1.3\taccuracy_score:      0.566\tval_accuracy_score:      0.473\t\n",
            "Epoch   40    1sec\tloss:       1.29\tval_loss:       1.31\taccuracy_score:      0.568\tval_accuracy_score:       0.25\t\n",
            "Epoch   41    1sec\tloss:       1.29\tval_loss:        1.3\taccuracy_score:      0.561\tval_accuracy_score:      0.584\t\n",
            "Epoch   42    1sec\tloss:       1.28\tval_loss:       1.31\taccuracy_score:       0.58\tval_accuracy_score:      0.613\t\n",
            "Epoch   43    1sec\tloss:       1.29\tval_loss:       1.32\taccuracy_score:      0.555\tval_accuracy_score:      0.806\t\n",
            "Epoch   44    2sec\tloss:       1.29\tval_loss:        1.3\taccuracy_score:      0.582\tval_accuracy_score:      0.469\t\n",
            "Epoch   45    2sec\tloss:       1.29\tval_loss:        1.3\taccuracy_score:      0.527\tval_accuracy_score:      0.451\t\n",
            "Epoch   46    1sec\tloss:       1.29\tval_loss:       1.33\taccuracy_score:      0.563\tval_accuracy_score:      0.866\t\n",
            "Epoch   47    1sec\tloss:       1.29\tval_loss:        1.3\taccuracy_score:       0.55\tval_accuracy_score:      0.534\t\n",
            "Epoch   48    1sec\tloss:       1.29\tval_loss:        1.3\taccuracy_score:      0.572\tval_accuracy_score:      0.639\t\n",
            "Epoch   49    1sec\tloss:       1.28\tval_loss:       1.31\taccuracy_score:      0.573\tval_accuracy_score:      0.319\t\n",
            "Epoch   50    1sec\tloss:       1.28\tval_loss:        1.3\taccuracy_score:      0.552\tval_accuracy_score:      0.454\t\n",
            "Epoch   51    1sec\tloss:       1.29\tval_loss:        1.3\taccuracy_score:      0.577\tval_accuracy_score:      0.567\t\n",
            "Epoch   52    1sec\tloss:       1.29\tval_loss:       1.31\taccuracy_score:       0.57\tval_accuracy_score:      0.575\t\n",
            "Epoch   53    1sec\tloss:       1.29\tval_loss:        1.3\taccuracy_score:      0.538\tval_accuracy_score:      0.422\t\n",
            "Epoch   54    2sec\tloss:       1.28\tval_loss:       1.31\taccuracy_score:      0.538\tval_accuracy_score:      0.708\t\n",
            "Epoch   55    2sec\tloss:       1.28\tval_loss:       1.33\taccuracy_score:       0.58\tval_accuracy_score:      0.889\t\n",
            "Epoch   56    1sec\tloss:       1.29\tval_loss:        1.3\taccuracy_score:      0.551\tval_accuracy_score:       0.65\t\n",
            "Epoch   57    1sec\tloss:       1.29\tval_loss:        1.3\taccuracy_score:      0.611\tval_accuracy_score:       0.62\t\n",
            "Epoch   58    1sec\tloss:       1.28\tval_loss:       1.31\taccuracy_score:      0.543\tval_accuracy_score:      0.319\t\n",
            "Epoch   59    1sec\tloss:       1.28\tval_loss:        1.3\taccuracy_score:      0.573\tval_accuracy_score:      0.709\t\n",
            "Epoch   60    1sec\tloss:       1.29\tval_loss:       1.31\taccuracy_score:      0.569\tval_accuracy_score:      0.278\t\n",
            "Epoch   61    1sec\tloss:       1.28\tval_loss:        1.3\taccuracy_score:       0.52\tval_accuracy_score:      0.561\t\n",
            "Epoch   62    1sec\tloss:       1.28\tval_loss:        1.3\taccuracy_score:      0.542\tval_accuracy_score:      0.425\t\n",
            "Epoch   63    1sec\tloss:       1.28\tval_loss:        1.3\taccuracy_score:      0.564\tval_accuracy_score:      0.694\t\n",
            "Epoch   64    1sec\tloss:       1.28\tval_loss:        1.3\taccuracy_score:      0.593\tval_accuracy_score:      0.439\t\n",
            "Epoch   65    2sec\tloss:       1.28\tval_loss:       1.31\taccuracy_score:      0.594\tval_accuracy_score:      0.657\t\n",
            "Epoch   66    1sec\tloss:       1.28\tval_loss:       1.31\taccuracy_score:      0.565\tval_accuracy_score:      0.287\t\n",
            "Epoch   67    1sec\tloss:       1.28\tval_loss:        1.3\taccuracy_score:      0.561\tval_accuracy_score:      0.526\t\n",
            "Epoch   68    1sec\tloss:       1.28\tval_loss:        1.3\taccuracy_score:      0.573\tval_accuracy_score:      0.743\t\n",
            "Epoch   69    1sec\tloss:       1.28\tval_loss:       1.31\taccuracy_score:      0.551\tval_accuracy_score:      0.387\t\n",
            "Epoch   70    1sec\tloss:       1.28\tval_loss:        1.3\taccuracy_score:      0.583\tval_accuracy_score:      0.563\t\n",
            "Epoch   71    1sec\tloss:       1.29\tval_loss:        1.3\taccuracy_score:      0.556\tval_accuracy_score:      0.323\t\n",
            "Epoch   72    1sec\tloss:       1.28\tval_loss:        1.3\taccuracy_score:      0.559\tval_accuracy_score:       0.37\t\n",
            "Epoch   73    1sec\tloss:       1.28\tval_loss:       1.32\taccuracy_score:       0.55\tval_accuracy_score:      0.304\t\n",
            "Epoch   74    2sec\tloss:       1.29\tval_loss:        1.3\taccuracy_score:      0.535\tval_accuracy_score:      0.645\t\n",
            "Epoch   75    2sec\tloss:       1.28\tval_loss:       1.37\taccuracy_score:      0.596\tval_accuracy_score:     0.0736\t\n",
            "Epoch   76    1sec\tloss:       1.28\tval_loss:       1.32\taccuracy_score:      0.573\tval_accuracy_score:      0.853\t\n",
            "Epoch   77    1sec\tloss:       1.27\tval_loss:       1.31\taccuracy_score:      0.589\tval_accuracy_score:      0.748\t\n",
            "Epoch   78    1sec\tloss:       1.28\tval_loss:       1.31\taccuracy_score:      0.593\tval_accuracy_score:      0.176\t\n",
            "Epoch   79    1sec\tloss:       1.28\tval_loss:        1.3\taccuracy_score:       0.57\tval_accuracy_score:       0.45\t\n",
            "Epoch   80    1sec\tloss:       1.28\tval_loss:        1.3\taccuracy_score:      0.548\tval_accuracy_score:      0.615\t\n",
            "Epoch   81    1sec\tloss:       1.28\tval_loss:        1.3\taccuracy_score:      0.594\tval_accuracy_score:      0.394\t\n",
            "Epoch   82    1sec\tloss:       1.28\tval_loss:        1.3\taccuracy_score:      0.573\tval_accuracy_score:      0.358\t\n",
            "Epoch   83    2sec\tloss:       1.28\tval_loss:        1.3\taccuracy_score:      0.618\tval_accuracy_score:      0.615\t\n",
            "Epoch   84    2sec\tloss:       1.28\tval_loss:        1.3\taccuracy_score:      0.584\tval_accuracy_score:      0.471\t\n",
            "Epoch   85    2sec\tloss:       1.28\tval_loss:       1.31\taccuracy_score:       0.57\tval_accuracy_score:      0.376\t\n",
            "Epoch   86    1sec\tloss:       1.28\tval_loss:       1.29\taccuracy_score:      0.555\tval_accuracy_score:      0.471\t\n",
            "Epoch   87    1sec\tloss:       1.28\tval_loss:       1.31\taccuracy_score:      0.562\tval_accuracy_score:      0.401\t\n",
            "Epoch   88    1sec\tloss:       1.28\tval_loss:        1.3\taccuracy_score:      0.563\tval_accuracy_score:      0.379\t\n",
            "Epoch   89    2sec\tloss:       1.28\tval_loss:        1.3\taccuracy_score:      0.571\tval_accuracy_score:      0.399\t\n",
            "Epoch   90    1sec\tloss:       1.28\tval_loss:       1.34\taccuracy_score:      0.577\tval_accuracy_score:      0.117\t\n",
            "Epoch   91    1sec\tloss:       1.28\tval_loss:       1.31\taccuracy_score:      0.577\tval_accuracy_score:      0.255\t\n",
            "Epoch   92    2sec\tloss:       1.27\tval_loss:        1.3\taccuracy_score:      0.563\tval_accuracy_score:      0.567\t\n",
            "Epoch   93    2sec\tloss:       1.28\tval_loss:       1.32\taccuracy_score:      0.591\tval_accuracy_score:      0.852\t\n",
            "Epoch   94    1sec\tloss:       1.28\tval_loss:       1.34\taccuracy_score:      0.596\tval_accuracy_score:       0.14\t\n",
            "Epoch   95    1sec\tloss:       1.28\tval_loss:       1.31\taccuracy_score:      0.563\tval_accuracy_score:      0.852\t\n",
            "Epoch   96    1sec\tloss:       1.28\tval_loss:       1.31\taccuracy_score:      0.558\tval_accuracy_score:      0.183\t\n",
            "Epoch   97    1sec\tloss:       1.28\tval_loss:        1.3\taccuracy_score:      0.606\tval_accuracy_score:      0.281\t\n",
            "Epoch   98    2sec\tloss:       1.28\tval_loss:        1.3\taccuracy_score:      0.601\tval_accuracy_score:      0.557\t\n",
            "Epoch   99    2sec\tloss:       1.28\tval_loss:       1.31\taccuracy_score:       0.57\tval_accuracy_score:      0.365\t\n",
            "Epoch  100    2sec\tloss:       1.28\tval_loss:       1.32\taccuracy_score:      0.588\tval_accuracy_score:      0.198\t\n",
            "\n",
            "Time total:     134.79 sec\n"
          ]
        }
      ]
    },
    {
      "cell_type": "code",
      "source": [
        "res = model.predict(X_test)"
      ],
      "metadata": {
        "id": "Amt_fStChjYG"
      },
      "execution_count": 494,
      "outputs": []
    },
    {
      "cell_type": "code",
      "source": [
        "import matplotlib.pyplot as plt\n",
        "\n",
        "plt.plot(history[\"loss\"])\n",
        "plt.plot(history[\"accuracy_score\"])"
      ],
      "metadata": {
        "colab": {
          "base_uri": "https://localhost:8080/",
          "height": 447
        },
        "id": "6KcxFPCR0M0Z",
        "outputId": "76eaaa04-60b1-4c9d-a2f1-b863e6412264"
      },
      "execution_count": 495,
      "outputs": [
        {
          "output_type": "execute_result",
          "data": {
            "text/plain": [
              "[<matplotlib.lines.Line2D at 0x78b86daefb20>]"
            ]
          },
          "metadata": {},
          "execution_count": 495
        },
        {
          "output_type": "display_data",
          "data": {
            "text/plain": [
              "<Figure size 640x480 with 1 Axes>"
            ],
            "image/png": "[encoded data removed]"
          },
          "metadata": {}
        }
      ]
    },
    {
      "cell_type": "code",
      "source": [
        "\n",
        "from sklearn.metrics import ConfusionMatrixDisplay, RocCurveDisplay\n",
        "import numpy as np\n",
        "\n",
        "device = torch.device(\"cpu\")\n",
        "model = model.to(device)\n",
        "y_pred = model.predict(X_test, device=device)\n",
        "\n",
        "\n",
        "ConfusionMatrixDisplay.from_predictions(y_test, y_pred.round())\n",
        "plt.plot()\n",
        "\n",
        "RocCurveDisplay.from_predictions(y_test, y_pred, pos_label=0)\n",
        "plt.plot()\n"
      ],
      "metadata": {
        "id": "eTyroKMhhZMn",
        "outputId": "9ad3b673-b342-4850-8147-35ac082b36fb",
        "colab": {
          "base_uri": "https://localhost:8080/",
          "height": 898
        }
      },
      "execution_count": 496,
      "outputs": [
        {
          "output_type": "execute_result",
          "data": {
            "text/plain": [
              "[]"
            ]
          },
          "metadata": {},
          "execution_count": 496
        },
        {
          "output_type": "display_data",
          "data": {
            "text/plain": [
              "<Figure size 640x480 with 2 Axes>"
            ],
            "image/png": "[encoded data removed]"
          },
          "metadata": {}
        },
        {
          "output_type": "display_data",
          "data": {
            "text/plain": [
              "<Figure size 640x480 with 1 Axes>"
            ],
            "image/png": "[encoded data removed]"
          },
          "metadata": {}
        }
      ]
    },
    {
      "cell_type": "code",
      "source": [
        "# Протягом навчання помилка майже не змінюєтся. Точність незначно росте. Зміна параметрів оптимізатора, архітектури мережі і вибір іншої функції\n",
        "# втрат (BCELoss зі зміною активаційної функції останнього шару мережі) не впливають не результат. Помилок в створенні dataloader i dataset немає,\n",
        "# дані також розділені правильно. Обрання більшої кільності епох тренування чи відмова від scheduler також не мають впливу. Додання\n",
        "# трьох шарів нормалізації до архітектури дещо знизило втрати - без них втрати залишаются стабільними"
      ],
      "metadata": {
        "id": "Dhifg7p89Hu-"
      },
      "execution_count": null,
      "outputs": []
    },
    {
      "cell_type": "markdown",
      "source": [
        "# Завдання 6\n",
        "Збережіть нейромережу та зробіть прогноз"
      ],
      "metadata": {
        "id": "aoclw4XlgPhB"
      }
    },
    {
      "cell_type": "code",
      "source": [],
      "metadata": {
        "id": "UzVFg-KjgYgy"
      },
      "execution_count": null,
      "outputs": []
    }
  ]
}